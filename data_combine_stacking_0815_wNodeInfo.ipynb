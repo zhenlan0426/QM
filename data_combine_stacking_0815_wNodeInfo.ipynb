{
 "cells": [
  {
   "cell_type": "code",
   "execution_count": 1,
   "metadata": {},
   "outputs": [],
   "source": [
    "import pandas as pd\n",
    "import numpy as np\n",
    "import pickle\n",
    "import copy"
   ]
  },
  {
   "cell_type": "code",
   "execution_count": 2,
   "metadata": {},
   "outputs": [],
   "source": [
    "prefix = \"_data_stacking_0815_wNodeInfo\""
   ]
  },
  {
   "cell_type": "code",
   "execution_count": 3,
   "metadata": {},
   "outputs": [],
   "source": [
    "train = pd.read_csv('../Data/train.csv')\n",
    "test = pd.read_csv('../Data/test.csv')"
   ]
  },
  {
   "cell_type": "code",
   "execution_count": null,
   "metadata": {},
   "outputs": [],
   "source": []
  },
  {
   "cell_type": "code",
   "execution_count": 4,
   "metadata": {},
   "outputs": [],
   "source": [
    "with open('../Data/structures_dict_ACSF_PCA.pickle', 'rb') as handle:\n",
    "    structures_dict = pickle.load(handle)"
   ]
  },
  {
   "cell_type": "code",
   "execution_count": null,
   "metadata": {},
   "outputs": [],
   "source": []
  },
  {
   "cell_type": "markdown",
   "metadata": {},
   "source": [
    "### coupling information"
   ]
  },
  {
   "cell_type": "code",
   "execution_count": 5,
   "metadata": {},
   "outputs": [],
   "source": [
    "with open('../Data/coupling_edge_index_stacking.pickle', 'rb') as handle:\n",
    "    coupling_edge_index = pickle.load(handle)\n",
    "with open('../Data/coupling_edge_attr_stacking.pickle', 'rb') as handle:\n",
    "    coupling_edge_attr = pickle.load(handle)\n",
    "with open('../Data/coupling_edge_feature_stacking.pickle', 'rb') as handle:\n",
    "    coupling_edge_dist = pickle.load(handle)\n",
    "with open('../Data/coupling_y_stacking.pickle', 'rb') as handle:\n",
    "    coupling_y = pickle.load(handle)\n",
    "with open('../Data/coupling_id_stacking.pickle', 'rb') as handle:\n",
    "    coupling_id = pickle.load(handle)    "
   ]
  },
  {
   "cell_type": "code",
   "execution_count": null,
   "metadata": {},
   "outputs": [],
   "source": []
  },
  {
   "cell_type": "code",
   "execution_count": null,
   "metadata": {},
   "outputs": [],
   "source": []
  },
  {
   "cell_type": "code",
   "execution_count": 6,
   "metadata": {},
   "outputs": [],
   "source": [
    "train_mol = np.unique(train.molecule_name)\n",
    "test_mol = np.unique(test.molecule_name)"
   ]
  },
  {
   "cell_type": "code",
   "execution_count": 7,
   "metadata": {},
   "outputs": [],
   "source": [
    "train_mol = np.random.permutation(train_mol)"
   ]
  },
  {
   "cell_type": "code",
   "execution_count": 8,
   "metadata": {},
   "outputs": [],
   "source": [
    "train_mol2 = train_mol[:70000]\n",
    "val_mol = train_mol[70000:]\n",
    "train_mol = train_mol2"
   ]
  },
  {
   "cell_type": "code",
   "execution_count": null,
   "metadata": {},
   "outputs": [],
   "source": []
  },
  {
   "cell_type": "code",
   "execution_count": null,
   "metadata": {},
   "outputs": [],
   "source": []
  },
  {
   "cell_type": "code",
   "execution_count": 9,
   "metadata": {},
   "outputs": [],
   "source": [
    "def create_data(mols,IsTrain):\n",
    "    tot_list = []\n",
    "    if not IsTrain:\n",
    "        test_id_list = []\n",
    "        type_list = [[] for _ in range(8)]\n",
    "        test_id_type_list = [[] for _ in range(8)]\n",
    "        \n",
    "    for m in mols:\n",
    "        d_=coupling_edge_dist[m].shape[1]\n",
    "        n_=structures_dict[m].shape[0]\n",
    "        if IsTrain:\n",
    "            dict_ = {'x':structures_dict[m],'y':coupling_y[m],\\\n",
    "                       'edge_index3':coupling_edge_index[m],'edge_attr3':coupling_edge_attr[m],\\\n",
    "                       'edge_attr4':coupling_edge_dist[m]}\n",
    "            tot_list.append(copy.deepcopy(dict_))\n",
    "                        \n",
    "        else:\n",
    "            dict_ = {'x':structures_dict[m],\\\n",
    "                     'edge_index3':coupling_edge_index[m],'edge_attr3':coupling_edge_attr[m],\\\n",
    "                     'edge_attr4':coupling_edge_dist[m]}\n",
    "            tot_list.append(copy.deepcopy(dict_))\n",
    "            test_id_list.append(coupling_id[m])\n",
    "            \n",
    "            temp = dict_['edge_attr3'].argmax(1)\n",
    "            for i in np.nonzero(dict_['edge_attr3'].sum(0))[0]:\n",
    "                dict_['type_attr'] = (temp==i).astype(np.uint8)\n",
    "                type_list[i].append(copy.deepcopy(dict_))\n",
    "                test_id_type_list[i].append(coupling_id[m][temp==i])            \n",
    "    \n",
    "    if IsTrain:\n",
    "        return tot_list \n",
    "    else:\n",
    "        return tot_list,type_list,np.concatenate(test_id_list),[np.concatenate(type_i) for type_i in test_id_type_list]"
   ]
  },
  {
   "cell_type": "code",
   "execution_count": null,
   "metadata": {},
   "outputs": [],
   "source": []
  },
  {
   "cell_type": "code",
   "execution_count": 10,
   "metadata": {},
   "outputs": [],
   "source": [
    "tot_list_train = create_data(train_mol,True)\n",
    "tot_list_val = create_data(val_mol,True)\n",
    "tot_list_test,type_list_test,test_id,test_id_type = create_data(test_mol,False)"
   ]
  },
  {
   "cell_type": "code",
   "execution_count": null,
   "metadata": {},
   "outputs": [],
   "source": []
  },
  {
   "cell_type": "code",
   "execution_count": 11,
   "metadata": {},
   "outputs": [],
   "source": [
    "# convert numpy array to torch array\n",
    "import torch\n",
    "tot_list_train = [{k:torch.tensor(i[k]) for k in i.keys()} for i in tot_list_train]\n",
    "tot_list_val = [{k:torch.tensor(i[k]) for k in i.keys()} for i in tot_list_val]\n",
    "tot_list_test = [{k:torch.tensor(i[k]) for k in i.keys()} for i in tot_list_test]"
   ]
  },
  {
   "cell_type": "code",
   "execution_count": 12,
   "metadata": {},
   "outputs": [],
   "source": [
    "def numpy2torch(type_list):\n",
    "    out = []\n",
    "    for type_ in type_list:\n",
    "        out.append([{k:torch.tensor(i[k]) for k in i.keys()} for i in type_])\n",
    "    return out\n",
    "\n",
    "type_list_test = numpy2torch(type_list_test)"
   ]
  },
  {
   "cell_type": "code",
   "execution_count": null,
   "metadata": {},
   "outputs": [],
   "source": []
  },
  {
   "cell_type": "code",
   "execution_count": 13,
   "metadata": {},
   "outputs": [],
   "source": [
    "with open('../Data/train'+prefix+'.pickle', 'wb') as handle:\n",
    "    pickle.dump(tot_list_train, handle, protocol=pickle.HIGHEST_PROTOCOL)\n",
    "with open('../Data/val'+prefix+'.pickle', 'wb') as handle:\n",
    "    pickle.dump(tot_list_val, handle, protocol=pickle.HIGHEST_PROTOCOL)\n",
    "with open('../Data/test'+prefix+'.pickle', 'wb') as handle:\n",
    "    pickle.dump(tot_list_test, handle, protocol=pickle.HIGHEST_PROTOCOL)"
   ]
  },
  {
   "cell_type": "code",
   "execution_count": 14,
   "metadata": {},
   "outputs": [],
   "source": [
    "def save_type(prefix,type_list):\n",
    "    for i,type_ in enumerate(type_list):\n",
    "        with open(prefix+'_type_'+str(i)+'.pickle', 'wb') as handle:\n",
    "            pickle.dump(type_, handle, protocol=pickle.HIGHEST_PROTOCOL)\n",
    "\n",
    "save_type('../Data/test'+prefix,type_list_test)\n",
    "save_type('../Data/test'+prefix+'_id',test_id_type)"
   ]
  },
  {
   "cell_type": "code",
   "execution_count": null,
   "metadata": {},
   "outputs": [],
   "source": []
  },
  {
   "cell_type": "code",
   "execution_count": null,
   "metadata": {},
   "outputs": [],
   "source": []
  }
 ],
 "metadata": {
  "kernelspec": {
   "display_name": "Python 3",
   "language": "python",
   "name": "python3"
  },
  "language_info": {
   "codemirror_mode": {
    "name": "ipython",
    "version": 3
   },
   "file_extension": ".py",
   "mimetype": "text/x-python",
   "name": "python",
   "nbconvert_exporter": "python",
   "pygments_lexer": "ipython3",
   "version": "3.7.2"
  }
 },
 "nbformat": 4,
 "nbformat_minor": 2
}
