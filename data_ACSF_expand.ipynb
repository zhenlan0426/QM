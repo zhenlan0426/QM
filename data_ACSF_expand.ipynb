{
 "cells": [
  {
   "cell_type": "code",
   "execution_count": 9,
   "metadata": {},
   "outputs": [],
   "source": [
    "import pandas as pd\n",
    "import numpy as np\n",
    "import torch\n",
    "import matplotlib.pyplot as plt\n",
    "import pickle"
   ]
  },
  {
   "cell_type": "code",
   "execution_count": 31,
   "metadata": {},
   "outputs": [],
   "source": [
    "with open('../Data/train_data_ACSF.pickle', 'rb') as handle:\n",
    "    train_data = pickle.load(handle)\n",
    "with open('../Data/val_data_ACSF.pickle', 'rb') as handle:\n",
    "    val_data = pickle.load(handle)\n",
    "with open('../Data/test_data_ACSF.pickle', 'rb') as handle:\n",
    "    test_data = pickle.load(handle)"
   ]
  },
  {
   "cell_type": "code",
   "execution_count": 3,
   "metadata": {},
   "outputs": [],
   "source": [
    "def get_dist(data):\n",
    "    bond_dist,couping_dist = [],[]\n",
    "    for dict_ in data:\n",
    "        bond_dist.append(dict_['edge_attr'][:,0].numpy())\n",
    "        couping_dist.append(dict_['edge_attr4'].numpy())\n",
    "    return np.concatenate(bond_dist),np.concatenate(couping_dist)"
   ]
  },
  {
   "cell_type": "code",
   "execution_count": 4,
   "metadata": {},
   "outputs": [],
   "source": [
    "train_d1,train_d2 = get_dist(train_data)\n",
    "test_d1,test_d2 = get_dist(test_data)"
   ]
  },
  {
   "cell_type": "code",
   "execution_count": 5,
   "metadata": {},
   "outputs": [
    {
     "data": {
      "text/plain": [
       "(array([8.38160e+04, 7.61272e+05, 3.18260e+04, 4.67800e+04, 7.01520e+04,\n",
       "        1.78644e+05, 3.04610e+05, 2.28882e+05, 8.60000e+02, 2.40000e+01]),\n",
       " array([0.9587291, 1.0400579, 1.1213868, 1.2027155, 1.2840444, 1.3653731,\n",
       "        1.446702 , 1.5280308, 1.6093596, 1.6906884, 1.7720172],\n",
       "       dtype=float32),\n",
       " <a list of 10 Patch objects>)"
      ]
     },
     "execution_count": 5,
     "metadata": {},
     "output_type": "execute_result"
    },
    {
     "data": {
      "image/png": "[encoded data removed]",
      "text/plain": [
       "<Figure size 432x288 with 1 Axes>"
      ]
     },
     "metadata": {
      "needs_background": "light"
     },
     "output_type": "display_data"
    }
   ],
   "source": [
    "plt.hist(train_d1)\n",
    "plt.hist(test_d1)"
   ]
  },
  {
   "cell_type": "code",
   "execution_count": 6,
   "metadata": {},
   "outputs": [
    {
     "data": {
      "text/plain": [
       "(array([4.04804e+05, 2.21800e+03, 2.26748e+05, 6.49612e+05, 2.82302e+05,\n",
       "        3.91531e+05, 3.37865e+05, 2.07357e+05, 3.10300e+03, 2.00000e+00]),\n",
       " array([1.0022241, 1.3413199, 1.6804159, 2.0195117, 2.3586075, 2.6977034,\n",
       "        3.0367992, 3.3758953, 3.714991 , 4.0540867, 4.3931828],\n",
       "       dtype=float32),\n",
       " <a list of 10 Patch objects>)"
      ]
     },
     "execution_count": 6,
     "metadata": {},
     "output_type": "execute_result"
    },
    {
     "data": {
      "image/png": "[encoded data removed]",
      "text/plain": [
       "<Figure size 432x288 with 1 Axes>"
      ]
     },
     "metadata": {
      "needs_background": "light"
     },
     "output_type": "display_data"
    }
   ],
   "source": [
    "plt.hist(train_d2)\n",
    "plt.hist(test_d2)"
   ]
  },
  {
   "cell_type": "code",
   "execution_count": 7,
   "metadata": {},
   "outputs": [],
   "source": [
    "n_points = 25\n",
    "start1, stop1 = 0.6, 1.6\n",
    "start2, stop2 = 1.0, 3.8"
   ]
  },
  {
   "cell_type": "code",
   "execution_count": 10,
   "metadata": {},
   "outputs": [],
   "source": [
    "offset1 = torch.linspace(start1,stop1,n_points)[None,:]\n",
    "coeff1 = -0.5/torch.pow(offset1[0,0] - offset1[0,1], 2)\n",
    "offset2 = torch.linspace(start2,stop2,n_points)[None,:]\n",
    "coeff2 = -0.5/torch.pow(offset2[0,0] - offset2[0,1], 2)"
   ]
  },
  {
   "cell_type": "code",
   "execution_count": 32,
   "metadata": {},
   "outputs": [],
   "source": [
    "def expand_basis_on_dist(data):\n",
    "    for dict_ in data:\n",
    "        bond_dist=(dict_['edge_attr'][:,0])[:,None]\n",
    "        couping_dist=(dict_['edge_attr4'])\n",
    "        gauss1 = torch.exp(coeff1 * torch.pow((bond_dist-offset1), 2))\n",
    "        gauss2 = torch.exp(coeff2 * torch.pow((couping_dist-offset2), 2))\n",
    "        dict_['edge_attr'] = torch.cat([dict_['edge_attr'],gauss1],1)\n",
    "        dict_['edge_attr4'] = torch.cat([dict_['edge_attr4'],gauss2],1)"
   ]
  },
  {
   "cell_type": "code",
   "execution_count": 33,
   "metadata": {
    "scrolled": false
   },
   "outputs": [],
   "source": [
    "expand_basis_on_dist(train_data)\n",
    "expand_basis_on_dist(val_data)\n",
    "expand_basis_on_dist(test_data)"
   ]
  },
  {
   "cell_type": "code",
   "execution_count": 34,
   "metadata": {},
   "outputs": [],
   "source": [
    "with open('../Data/train_data_ACSF_expand.pickle', 'wb') as handle:\n",
    "    pickle.dump(train_data, handle, protocol=pickle.HIGHEST_PROTOCOL)\n",
    "with open('../Data/val_data_ACSF_expand.pickle', 'wb') as handle:\n",
    "    pickle.dump(val_data, handle, protocol=pickle.HIGHEST_PROTOCOL)\n",
    "with open('../Data/test_data_ACSF_expand.pickle', 'wb') as handle:\n",
    "    pickle.dump(test_data, handle, protocol=pickle.HIGHEST_PROTOCOL)"
   ]
  },
  {
   "cell_type": "code",
   "execution_count": null,
   "metadata": {},
   "outputs": [],
   "source": []
  },
  {
   "cell_type": "code",
   "execution_count": null,
   "metadata": {},
   "outputs": [],
   "source": []
  }
 ],
 "metadata": {
  "kernelspec": {
   "display_name": "Python 3",
   "language": "python",
   "name": "python3"
  },
  "language_info": {
   "codemirror_mode": {
    "name": "ipython",
    "version": 3
   },
   "file_extension": ".py",
   "mimetype": "text/x-python",
   "name": "python",
   "nbconvert_exporter": "python",
   "pygments_lexer": "ipython3",
   "version": "3.6.8"
  }
 },
 "nbformat": 4,
 "nbformat_minor": 2
}
