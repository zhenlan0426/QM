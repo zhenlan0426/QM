{
 "cells": [
  {
   "cell_type": "code",
   "execution_count": 1,
   "metadata": {},
   "outputs": [],
   "source": [
    "import pandas as pd\n",
    "import numpy as np\n",
    "import pickle"
   ]
  },
  {
   "cell_type": "code",
   "execution_count": 3,
   "metadata": {},
   "outputs": [],
   "source": [
    "#Atoms(symbols,positions)"
   ]
  },
  {
   "cell_type": "code",
   "execution_count": null,
   "metadata": {},
   "outputs": [],
   "source": []
  },
  {
   "cell_type": "code",
   "execution_count": 7,
   "metadata": {},
   "outputs": [],
   "source": [
    "train = pd.read_csv('../Data/train.csv')\n",
    "test = pd.read_csv('../Data/test.csv')\n",
    "# structures = pd.read_csv('../Data/structures.csv')\n",
    "# train_bonds = pd.read_csv('../Data/train_bonds.csv')\n",
    "# test_bonds = pd.read_csv('../Data/test_bonds.csv')"
   ]
  },
  {
   "cell_type": "code",
   "execution_count": null,
   "metadata": {},
   "outputs": [],
   "source": []
  },
  {
   "cell_type": "code",
   "execution_count": 2,
   "metadata": {},
   "outputs": [],
   "source": [
    "train_stack = pd.read_csv('../Data/train_oof_0815.csv')"
   ]
  },
  {
   "cell_type": "code",
   "execution_count": 3,
   "metadata": {},
   "outputs": [],
   "source": [
    "test_stack = pd.read_csv('../Data/test_oof_0815.csv')"
   ]
  },
  {
   "cell_type": "code",
   "execution_count": 8,
   "metadata": {},
   "outputs": [],
   "source": [
    "features = ['gnn_0731', 'gnn_0802',\n",
    "           'edge_0802', 'lgb_0729', 'lgb_0730', 'lgb_0803', 'edge_0804',\n",
    "           'edge_0806', 'edge_0729', 'edge_0730', 'edge_0807',\n",
    "           'edge_0808', 'edge_0729_100epoch', 'edge_0730_100epoch', 'edge_0811',\n",
    "           'meta_0812', 'lgb_restacking_0812', 'edge_5fold_0729_160epoch',\n",
    "           'edge_5fold_0730_160epoch', 'model3_0813', 'model3_0814','model3_0815']"
   ]
  },
  {
   "cell_type": "code",
   "execution_count": 10,
   "metadata": {},
   "outputs": [],
   "source": [
    "stacking = pd.concat([train_stack.loc[:,['id']+features],test_stack.loc[:,['id']+features]],0)"
   ]
  },
  {
   "cell_type": "code",
   "execution_count": 12,
   "metadata": {},
   "outputs": [],
   "source": [
    "del train_stack,test_stack"
   ]
  },
  {
   "cell_type": "code",
   "execution_count": null,
   "metadata": {},
   "outputs": [],
   "source": []
  },
  {
   "cell_type": "code",
   "execution_count": null,
   "metadata": {},
   "outputs": [],
   "source": []
  },
  {
   "cell_type": "code",
   "execution_count": null,
   "metadata": {},
   "outputs": [],
   "source": []
  },
  {
   "cell_type": "markdown",
   "metadata": {},
   "source": [
    "### coupling information"
   ]
  },
  {
   "cell_type": "code",
   "execution_count": 13,
   "metadata": {},
   "outputs": [],
   "source": [
    "test['scalar_coupling_constant'] = np.nan"
   ]
  },
  {
   "cell_type": "code",
   "execution_count": 14,
   "metadata": {},
   "outputs": [],
   "source": [
    "coupling = train.append(test, ignore_index=True)"
   ]
  },
  {
   "cell_type": "code",
   "execution_count": 17,
   "metadata": {},
   "outputs": [
    {
     "data": {
      "text/html": [
       "<div>\n",
       "<style scoped>\n",
       "    .dataframe tbody tr th:only-of-type {\n",
       "        vertical-align: middle;\n",
       "    }\n",
       "\n",
       "    .dataframe tbody tr th {\n",
       "        vertical-align: top;\n",
       "    }\n",
       "\n",
       "    .dataframe thead th {\n",
       "        text-align: right;\n",
       "    }\n",
       "</style>\n",
       "<table border=\"1\" class=\"dataframe\">\n",
       "  <thead>\n",
       "    <tr style=\"text-align: right;\">\n",
       "      <th></th>\n",
       "      <th>id</th>\n",
       "      <th>molecule_name</th>\n",
       "      <th>atom_index_0</th>\n",
       "      <th>atom_index_1</th>\n",
       "      <th>type</th>\n",
       "      <th>scalar_coupling_constant</th>\n",
       "    </tr>\n",
       "  </thead>\n",
       "  <tbody>\n",
       "    <tr>\n",
       "      <th>0</th>\n",
       "      <td>0</td>\n",
       "      <td>dsgdb9nsd_000001</td>\n",
       "      <td>1</td>\n",
       "      <td>0</td>\n",
       "      <td>1JHC</td>\n",
       "      <td>84.8076</td>\n",
       "    </tr>\n",
       "    <tr>\n",
       "      <th>1</th>\n",
       "      <td>1</td>\n",
       "      <td>dsgdb9nsd_000001</td>\n",
       "      <td>1</td>\n",
       "      <td>2</td>\n",
       "      <td>2JHH</td>\n",
       "      <td>-11.2570</td>\n",
       "    </tr>\n",
       "    <tr>\n",
       "      <th>2</th>\n",
       "      <td>2</td>\n",
       "      <td>dsgdb9nsd_000001</td>\n",
       "      <td>1</td>\n",
       "      <td>3</td>\n",
       "      <td>2JHH</td>\n",
       "      <td>-11.2548</td>\n",
       "    </tr>\n",
       "    <tr>\n",
       "      <th>3</th>\n",
       "      <td>3</td>\n",
       "      <td>dsgdb9nsd_000001</td>\n",
       "      <td>1</td>\n",
       "      <td>4</td>\n",
       "      <td>2JHH</td>\n",
       "      <td>-11.2543</td>\n",
       "    </tr>\n",
       "    <tr>\n",
       "      <th>4</th>\n",
       "      <td>4</td>\n",
       "      <td>dsgdb9nsd_000001</td>\n",
       "      <td>2</td>\n",
       "      <td>0</td>\n",
       "      <td>1JHC</td>\n",
       "      <td>84.8074</td>\n",
       "    </tr>\n",
       "  </tbody>\n",
       "</table>\n",
       "</div>"
      ],
      "text/plain": [
       "   id     molecule_name  atom_index_0  atom_index_1  type  \\\n",
       "0   0  dsgdb9nsd_000001             1             0  1JHC   \n",
       "1   1  dsgdb9nsd_000001             1             2  2JHH   \n",
       "2   2  dsgdb9nsd_000001             1             3  2JHH   \n",
       "3   3  dsgdb9nsd_000001             1             4  2JHH   \n",
       "4   4  dsgdb9nsd_000001             2             0  1JHC   \n",
       "\n",
       "   scalar_coupling_constant  \n",
       "0                   84.8076  \n",
       "1                  -11.2570  \n",
       "2                  -11.2548  \n",
       "3                  -11.2543  \n",
       "4                   84.8074  "
      ]
     },
     "execution_count": 17,
     "metadata": {},
     "output_type": "execute_result"
    }
   ],
   "source": [
    "coupling.head()"
   ]
  },
  {
   "cell_type": "code",
   "execution_count": 22,
   "metadata": {},
   "outputs": [],
   "source": [
    "assert np.all(coupling.id.values == stacking.id.values)"
   ]
  },
  {
   "cell_type": "code",
   "execution_count": 32,
   "metadata": {
    "scrolled": true
   },
   "outputs": [],
   "source": [
    "coupling = pd.merge(coupling,stacking,'left',on='id')"
   ]
  },
  {
   "cell_type": "code",
   "execution_count": 33,
   "metadata": {},
   "outputs": [],
   "source": [
    "del stacking"
   ]
  },
  {
   "cell_type": "code",
   "execution_count": 36,
   "metadata": {},
   "outputs": [
    {
     "data": {
      "text/html": [
       "<div>\n",
       "<style scoped>\n",
       "    .dataframe tbody tr th:only-of-type {\n",
       "        vertical-align: middle;\n",
       "    }\n",
       "\n",
       "    .dataframe tbody tr th {\n",
       "        vertical-align: top;\n",
       "    }\n",
       "\n",
       "    .dataframe thead th {\n",
       "        text-align: right;\n",
       "    }\n",
       "</style>\n",
       "<table border=\"1\" class=\"dataframe\">\n",
       "  <thead>\n",
       "    <tr style=\"text-align: right;\">\n",
       "      <th></th>\n",
       "      <th>id</th>\n",
       "      <th>molecule_name</th>\n",
       "      <th>atom_index_0</th>\n",
       "      <th>atom_index_1</th>\n",
       "      <th>type</th>\n",
       "      <th>scalar_coupling_constant</th>\n",
       "      <th>gnn_0731</th>\n",
       "      <th>gnn_0802</th>\n",
       "      <th>edge_0802</th>\n",
       "      <th>lgb_0729</th>\n",
       "      <th>...</th>\n",
       "      <th>edge_0729_100epoch</th>\n",
       "      <th>edge_0730_100epoch</th>\n",
       "      <th>edge_0811</th>\n",
       "      <th>meta_0812</th>\n",
       "      <th>lgb_restacking_0812</th>\n",
       "      <th>edge_5fold_0729_160epoch</th>\n",
       "      <th>edge_5fold_0730_160epoch</th>\n",
       "      <th>model3_0813</th>\n",
       "      <th>model3_0814</th>\n",
       "      <th>model3_0815</th>\n",
       "    </tr>\n",
       "  </thead>\n",
       "  <tbody>\n",
       "    <tr>\n",
       "      <th>0</th>\n",
       "      <td>0</td>\n",
       "      <td>dsgdb9nsd_000001</td>\n",
       "      <td>1</td>\n",
       "      <td>0</td>\n",
       "      <td>1JHC</td>\n",
       "      <td>84.8076</td>\n",
       "      <td>85.204422</td>\n",
       "      <td>84.400238</td>\n",
       "      <td>85.675613</td>\n",
       "      <td>88.422145</td>\n",
       "      <td>...</td>\n",
       "      <td>87.437523</td>\n",
       "      <td>82.608986</td>\n",
       "      <td>84.599823</td>\n",
       "      <td>84.306496</td>\n",
       "      <td>85.499368</td>\n",
       "      <td>86.013916</td>\n",
       "      <td>81.654236</td>\n",
       "      <td>84.062859</td>\n",
       "      <td>84.311279</td>\n",
       "      <td>87.292900</td>\n",
       "    </tr>\n",
       "    <tr>\n",
       "      <th>1</th>\n",
       "      <td>1</td>\n",
       "      <td>dsgdb9nsd_000001</td>\n",
       "      <td>1</td>\n",
       "      <td>2</td>\n",
       "      <td>2JHH</td>\n",
       "      <td>-11.2570</td>\n",
       "      <td>-13.812207</td>\n",
       "      <td>-11.299141</td>\n",
       "      <td>-11.053956</td>\n",
       "      <td>-9.749846</td>\n",
       "      <td>...</td>\n",
       "      <td>-10.060014</td>\n",
       "      <td>-10.340228</td>\n",
       "      <td>-11.453266</td>\n",
       "      <td>-10.702221</td>\n",
       "      <td>-10.883259</td>\n",
       "      <td>-10.683383</td>\n",
       "      <td>-10.668419</td>\n",
       "      <td>-9.973827</td>\n",
       "      <td>-10.237222</td>\n",
       "      <td>-10.855716</td>\n",
       "    </tr>\n",
       "    <tr>\n",
       "      <th>2</th>\n",
       "      <td>2</td>\n",
       "      <td>dsgdb9nsd_000001</td>\n",
       "      <td>1</td>\n",
       "      <td>3</td>\n",
       "      <td>2JHH</td>\n",
       "      <td>-11.2548</td>\n",
       "      <td>-13.811005</td>\n",
       "      <td>-11.297125</td>\n",
       "      <td>-11.050260</td>\n",
       "      <td>-9.749846</td>\n",
       "      <td>...</td>\n",
       "      <td>-10.056600</td>\n",
       "      <td>-10.336302</td>\n",
       "      <td>-11.450315</td>\n",
       "      <td>-10.698669</td>\n",
       "      <td>-10.883259</td>\n",
       "      <td>-10.678482</td>\n",
       "      <td>-10.664890</td>\n",
       "      <td>-9.969814</td>\n",
       "      <td>-10.232733</td>\n",
       "      <td>-10.851676</td>\n",
       "    </tr>\n",
       "    <tr>\n",
       "      <th>3</th>\n",
       "      <td>3</td>\n",
       "      <td>dsgdb9nsd_000001</td>\n",
       "      <td>1</td>\n",
       "      <td>4</td>\n",
       "      <td>2JHH</td>\n",
       "      <td>-11.2543</td>\n",
       "      <td>-13.811016</td>\n",
       "      <td>-11.297044</td>\n",
       "      <td>-11.049506</td>\n",
       "      <td>-9.717249</td>\n",
       "      <td>...</td>\n",
       "      <td>-10.055735</td>\n",
       "      <td>-10.335059</td>\n",
       "      <td>-11.449178</td>\n",
       "      <td>-10.697636</td>\n",
       "      <td>-10.883259</td>\n",
       "      <td>-10.677493</td>\n",
       "      <td>-10.663880</td>\n",
       "      <td>-9.968416</td>\n",
       "      <td>-10.231138</td>\n",
       "      <td>-10.850039</td>\n",
       "    </tr>\n",
       "    <tr>\n",
       "      <th>4</th>\n",
       "      <td>4</td>\n",
       "      <td>dsgdb9nsd_000001</td>\n",
       "      <td>2</td>\n",
       "      <td>0</td>\n",
       "      <td>1JHC</td>\n",
       "      <td>84.8074</td>\n",
       "      <td>85.205597</td>\n",
       "      <td>84.400703</td>\n",
       "      <td>85.687164</td>\n",
       "      <td>88.407545</td>\n",
       "      <td>...</td>\n",
       "      <td>87.447685</td>\n",
       "      <td>82.625580</td>\n",
       "      <td>84.607445</td>\n",
       "      <td>84.313400</td>\n",
       "      <td>85.512350</td>\n",
       "      <td>86.021858</td>\n",
       "      <td>81.653030</td>\n",
       "      <td>84.076500</td>\n",
       "      <td>84.317688</td>\n",
       "      <td>87.308350</td>\n",
       "    </tr>\n",
       "  </tbody>\n",
       "</table>\n",
       "<p>5 rows × 28 columns</p>\n",
       "</div>"
      ],
      "text/plain": [
       "   id     molecule_name  atom_index_0  atom_index_1  type  \\\n",
       "0   0  dsgdb9nsd_000001             1             0  1JHC   \n",
       "1   1  dsgdb9nsd_000001             1             2  2JHH   \n",
       "2   2  dsgdb9nsd_000001             1             3  2JHH   \n",
       "3   3  dsgdb9nsd_000001             1             4  2JHH   \n",
       "4   4  dsgdb9nsd_000001             2             0  1JHC   \n",
       "\n",
       "   scalar_coupling_constant   gnn_0731   gnn_0802  edge_0802   lgb_0729  ...  \\\n",
       "0                   84.8076  85.204422  84.400238  85.675613  88.422145  ...   \n",
       "1                  -11.2570 -13.812207 -11.299141 -11.053956  -9.749846  ...   \n",
       "2                  -11.2548 -13.811005 -11.297125 -11.050260  -9.749846  ...   \n",
       "3                  -11.2543 -13.811016 -11.297044 -11.049506  -9.717249  ...   \n",
       "4                   84.8074  85.205597  84.400703  85.687164  88.407545  ...   \n",
       "\n",
       "   edge_0729_100epoch  edge_0730_100epoch  edge_0811  meta_0812  \\\n",
       "0           87.437523           82.608986  84.599823  84.306496   \n",
       "1          -10.060014          -10.340228 -11.453266 -10.702221   \n",
       "2          -10.056600          -10.336302 -11.450315 -10.698669   \n",
       "3          -10.055735          -10.335059 -11.449178 -10.697636   \n",
       "4           87.447685           82.625580  84.607445  84.313400   \n",
       "\n",
       "   lgb_restacking_0812  edge_5fold_0729_160epoch  edge_5fold_0730_160epoch  \\\n",
       "0            85.499368                 86.013916                 81.654236   \n",
       "1           -10.883259                -10.683383                -10.668419   \n",
       "2           -10.883259                -10.678482                -10.664890   \n",
       "3           -10.883259                -10.677493                -10.663880   \n",
       "4            85.512350                 86.021858                 81.653030   \n",
       "\n",
       "   model3_0813  model3_0814  model3_0815  \n",
       "0    84.062859    84.311279    87.292900  \n",
       "1    -9.973827   -10.237222   -10.855716  \n",
       "2    -9.969814   -10.232733   -10.851676  \n",
       "3    -9.968416   -10.231138   -10.850039  \n",
       "4    84.076500    84.317688    87.308350  \n",
       "\n",
       "[5 rows x 28 columns]"
      ]
     },
     "execution_count": 36,
     "metadata": {},
     "output_type": "execute_result"
    }
   ],
   "source": [
    "coupling.head()"
   ]
  },
  {
   "cell_type": "code",
   "execution_count": null,
   "metadata": {},
   "outputs": [],
   "source": []
  },
  {
   "cell_type": "code",
   "execution_count": 37,
   "metadata": {},
   "outputs": [],
   "source": [
    "coupling[['1JHC', '1JHN', '2JHC', '2JHH', '2JHN', '3JHC', '3JHH', '3JHN']]=pd.get_dummies(coupling.type)"
   ]
  },
  {
   "cell_type": "code",
   "execution_count": 39,
   "metadata": {},
   "outputs": [],
   "source": [
    "coupling = coupling.groupby(['molecule_name'])"
   ]
  },
  {
   "cell_type": "code",
   "execution_count": 40,
   "metadata": {},
   "outputs": [],
   "source": [
    "coupling_edge_index = {}\n",
    "coupling_edge_attr = {}\n",
    "coupling_edge_dist = {}\n",
    "coupling_y = {}\n",
    "coupling_id = {}\n",
    "for k,v in coupling:\n",
    "    coupling_edge_index[k] = v[['atom_index_0','atom_index_1']].values.T\n",
    "    coupling_edge_attr[k] = v[['1JHC','1JHN','2JHC','2JHH','2JHN','3JHC','3JHH','3JHN']].values.astype(np.float32)\n",
    "    coupling_edge_dist[k] = v[features].values.astype(np.float32)\n",
    "    coupling_id[k] = v.id.values\n",
    "    if not np.any(np.isnan(v.scalar_coupling_constant.values)):\n",
    "        coupling_y[k] = v.scalar_coupling_constant.values.astype(np.float32)"
   ]
  },
  {
   "cell_type": "code",
   "execution_count": 41,
   "metadata": {},
   "outputs": [],
   "source": [
    "with open('../Data/coupling_edge_index_stacking.pickle', 'wb') as handle:\n",
    "    pickle.dump(coupling_edge_index, handle, protocol=pickle.HIGHEST_PROTOCOL)\n",
    "with open('../Data/coupling_edge_attr_stacking.pickle', 'wb') as handle:\n",
    "    pickle.dump(coupling_edge_attr, handle, protocol=pickle.HIGHEST_PROTOCOL)\n",
    "with open('../Data/coupling_edge_feature_stacking.pickle', 'wb') as handle:\n",
    "    pickle.dump(coupling_edge_dist, handle, protocol=pickle.HIGHEST_PROTOCOL)\n",
    "with open('../Data/coupling_y_stacking.pickle', 'wb') as handle:\n",
    "    pickle.dump(coupling_y, handle, protocol=pickle.HIGHEST_PROTOCOL)\n",
    "with open('../Data/coupling_id_stacking.pickle', 'wb') as handle:\n",
    "    pickle.dump(coupling_id, handle, protocol=pickle.HIGHEST_PROTOCOL)  "
   ]
  },
  {
   "cell_type": "code",
   "execution_count": null,
   "metadata": {},
   "outputs": [],
   "source": []
  },
  {
   "cell_type": "code",
   "execution_count": null,
   "metadata": {},
   "outputs": [],
   "source": []
  }
 ],
 "metadata": {
  "kernelspec": {
   "display_name": "Python 3",
   "language": "python",
   "name": "python3"
  },
  "language_info": {
   "codemirror_mode": {
    "name": "ipython",
    "version": 3
   },
   "file_extension": ".py",
   "mimetype": "text/x-python",
   "name": "python",
   "nbconvert_exporter": "python",
   "pygments_lexer": "ipython3",
   "version": "3.7.2"
  }
 },
 "nbformat": 4,
 "nbformat_minor": 2
}
