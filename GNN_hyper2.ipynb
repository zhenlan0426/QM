{
 "cells": [
  {
   "cell_type": "code",
   "execution_count": 1,
   "metadata": {},
   "outputs": [],
   "source": [
    "import pickle\n",
    "import torch\n",
    "from torch_geometric.data import Data,DataLoader\n",
    "from functions_refactor import *\n",
    "from pytorch_util import *\n",
    "from torch.optim import Adam\n",
    "from torch.optim.lr_scheduler import ReduceLROnPlateau"
   ]
  },
  {
   "cell_type": "code",
   "execution_count": null,
   "metadata": {},
   "outputs": [],
   "source": []
  },
  {
   "cell_type": "code",
   "execution_count": null,
   "metadata": {},
   "outputs": [],
   "source": []
  },
  {
   "cell_type": "code",
   "execution_count": 4,
   "metadata": {},
   "outputs": [],
   "source": [
    "# fixed parameters\n",
    "hyper_epoch = 50\n",
    "threshold = -1.3\n",
    "reuse = False\n",
    "block = MEGNet_block\n",
    "head_mol,head_atom,head_edge = head_mol,head_atom,head_edge\n",
    "epochs = 50\n",
    "batch_size = 32\n",
    "clip = 2\n",
    "lr = 1e-4\n",
    "epochs_type = epochs"
   ]
  },
  {
   "cell_type": "code",
   "execution_count": null,
   "metadata": {},
   "outputs": [],
   "source": [
    "for _ in range(hyper_epoch):\n",
    "    # model parameters\n",
    "\n",
    "    head = np.random.choice([feedforwardHead_Update,feedforwardCombineHead_Update,SimplyInteraction],p=[0.3,0.2,0.5])\n",
    "    data = np.random.choice(['../Data/{}_data_ACSF_expand_PCA_otherInfo.pickle',\\\n",
    "                             '../Data/{}_data_SOAP_expand_PCA_otherInfo.pickle',\\\n",
    "                             '../Data/{}_data_atomInfo_otherInfo.pickle',\\\n",
    "                             '../Data/{}_data_ACSF_SOAP_atomInfo_otherInfo.pickle'])\n",
    "    logLoss = np.random.choice([True,False])\n",
    "    weight = np.random.rand()*2.5 if logLoss else np.random.rand()*0.6\n",
    "    dim = int(np.random.choice([256,512,768]))\n",
    "    interleave = np.random.choice([True,False])\n",
    "    if interleave:\n",
    "        if dim == 768:\n",
    "            layer1 = int(np.random.choice([3,4]))\n",
    "            layer2 = layer1\n",
    "        else:\n",
    "            layer1 = int(np.random.choice([3,4,5]))\n",
    "            layer2 = layer1            \n",
    "    else:\n",
    "        if dim == 768:        \n",
    "            layer1 = int(np.random.choice([3,4]))\n",
    "            layer2 = int(np.random.choice([3,4]))\n",
    "        else:\n",
    "            layer1 = int(np.random.choice([3,4,5]))\n",
    "            layer2 = int(np.random.choice([3,4,5]))\n",
    "            \n",
    "    if dim == 768:\n",
    "        factor = int(np.random.choice([2,3]))\n",
    "    else:\n",
    "        factor = int(np.random.choice([2,3,4]))\n",
    "        \n",
    "    aggr = np.random.choice(['mean','add','max'])\n",
    "    print('\\ntraining on {}\\n'.format('_'.join([str(i).split('}')[1] if '}' in str(i) else str(i) \\\n",
    "                                        for i in [head,data,dim,logLoss,weight,layer1,layer2,factor,aggr,interleave]])))\n",
    "\n",
    "    train_dl,val_dl = get_data(data,batch_size)\n",
    "    model = GNN_multiHead_interleave(reuse,block,head,head_mol,head_atom,head_edge,\\\n",
    "                          dim,layer1,layer2,factor,**data_dict[data],aggr=aggr,interleave=interleave).to('cuda:0')\n",
    "    paras = trainable_parameter(model)\n",
    "    opt = Adam(paras,lr=lr)\n",
    "    scheduler = ReduceLROnPlateau(opt, 'min',factor=0.5,patience=5)\n",
    "    \n",
    "    model,train_loss_perType,val_loss_perType,bestWeight = train_type_earlyStop(opt,model,epochs_type,train_dl,val_dl,paras,clip,\\\n",
    "                                                                    scheduler=scheduler,logLoss=logLoss,weight=weight,threshold=threshold)\n",
    "    if model is not None:\n",
    "        save_results2(train_loss_perType,val_loss_perType,head,data,dim,logLoss,\\\n",
    "                      weight,layer1,layer2,factor,aggr,interleave)"
   ]
  },
  {
   "cell_type": "code",
   "execution_count": null,
   "metadata": {},
   "outputs": [],
   "source": []
  },
  {
   "cell_type": "code",
   "execution_count": null,
   "metadata": {},
   "outputs": [],
   "source": []
  },
  {
   "cell_type": "code",
   "execution_count": null,
   "metadata": {},
   "outputs": [],
   "source": []
  }
 ],
 "metadata": {
  "kernelspec": {
   "display_name": "Python 3",
   "language": "python",
   "name": "python3"
  },
  "language_info": {
   "codemirror_mode": {
    "name": "ipython",
    "version": 3
   },
   "file_extension": ".py",
   "mimetype": "text/x-python",
   "name": "python",
   "nbconvert_exporter": "python",
   "pygments_lexer": "ipython3",
   "version": "3.7.2"
  }
 },
 "nbformat": 4,
 "nbformat_minor": 2
}
