{
 "cells": [
  {
   "cell_type": "code",
   "execution_count": 2,
   "metadata": {},
   "outputs": [],
   "source": [
    "import pandas as pd\n",
    "import numpy as np\n",
    "import matplotlib.pyplot as plt\n",
    "import os\n",
    "import re\n",
    "pd.set_option('max_colwidth', 800)"
   ]
  },
  {
   "cell_type": "code",
   "execution_count": null,
   "metadata": {},
   "outputs": [],
   "source": []
  },
  {
   "cell_type": "code",
   "execution_count": 3,
   "metadata": {},
   "outputs": [
    {
     "name": "stderr",
     "output_type": "stream",
     "text": [
      "/home/will/anaconda3/envs/pytorch/lib/python3.7/site-packages/ipykernel_launcher.py:8: FutureWarning: Sorting because non-concatenation axis is not aligned. A future version\n",
      "of pandas will change to not sort by default.\n",
      "\n",
      "To accept the future behavior, pass 'sort=False'.\n",
      "\n",
      "To retain the current behavior and silence the warning, pass 'sort=True'.\n",
      "\n",
      "  \n"
     ]
    }
   ],
   "source": [
    "results = [file for file in os.listdir('../Data') if 'result' in file]\n",
    "df_list = []\n",
    "for result in results:\n",
    "    df = pd.read_csv('../Data/'+result,na_values=0)\n",
    "    df['train_type'] = 'base' if 'base' in result else ('start' if 'start' in result else ('2stage' if '2stage' in result else 'org'))\n",
    "    df['file_name'] = result\n",
    "    df_list.append(df)\n",
    "df = pd.concat(df_list,ignore_index=True)#.fillna(1e4)"
   ]
  },
  {
   "cell_type": "code",
   "execution_count": null,
   "metadata": {},
   "outputs": [],
   "source": []
  },
  {
   "cell_type": "code",
   "execution_count": 4,
   "metadata": {},
   "outputs": [
    {
     "name": "stdout",
     "output_type": "stream",
     "text": [
      "-2.2790697890906597\n"
     ]
    },
    {
     "data": {
      "text/plain": [
       "val_type_0   -1.202379\n",
       "val_type_1   -1.675175\n",
       "val_type_2   -2.238112\n",
       "val_type_3   -2.919369\n",
       "val_type_4   -2.756859\n",
       "val_type_5   -1.815802\n",
       "val_type_6   -2.687040\n",
       "val_type_7   -2.937822\n",
       "dtype: float64"
      ]
     },
     "execution_count": 4,
     "metadata": {},
     "output_type": "execute_result"
    }
   ],
   "source": [
    "best_score = df[['val_type_'+str(i) for i in range(8)]].min()\n",
    "print(best_score.mean())\n",
    "best_score"
   ]
  },
  {
   "cell_type": "code",
   "execution_count": null,
   "metadata": {},
   "outputs": [],
   "source": []
  },
  {
   "cell_type": "code",
   "execution_count": 5,
   "metadata": {},
   "outputs": [],
   "source": [
    "temp_index = np.nanargmin(df[['val_type_'+str(i) for i in range(8)]].values,0)"
   ]
  },
  {
   "cell_type": "code",
   "execution_count": 6,
   "metadata": {},
   "outputs": [
    {
     "data": {
      "text/html": [
       "<div>\n",
       "<style scoped>\n",
       "    .dataframe tbody tr th:only-of-type {\n",
       "        vertical-align: middle;\n",
       "    }\n",
       "\n",
       "    .dataframe tbody tr th {\n",
       "        vertical-align: top;\n",
       "    }\n",
       "\n",
       "    .dataframe thead th {\n",
       "        text-align: right;\n",
       "    }\n",
       "</style>\n",
       "<table border=\"1\" class=\"dataframe\">\n",
       "  <thead>\n",
       "    <tr style=\"text-align: right;\">\n",
       "      <th></th>\n",
       "      <th>val_type_0</th>\n",
       "      <th>val_type_1</th>\n",
       "      <th>val_type_2</th>\n",
       "      <th>val_type_3</th>\n",
       "      <th>val_type_4</th>\n",
       "      <th>val_type_5</th>\n",
       "      <th>val_type_6</th>\n",
       "      <th>val_type_7</th>\n",
       "      <th>file_name</th>\n",
       "    </tr>\n",
       "  </thead>\n",
       "  <tbody>\n",
       "    <tr>\n",
       "      <th>3768</th>\n",
       "      <td>-1.202379</td>\n",
       "      <td>-1.619953</td>\n",
       "      <td>-1.970014</td>\n",
       "      <td>-2.648582</td>\n",
       "      <td>-2.595392</td>\n",
       "      <td>-1.788734</td>\n",
       "      <td>-2.494419</td>\n",
       "      <td>-2.735663</td>\n",
       "      <td>results_&lt;class 'functions_refactor.feedforwardHead_Update'&gt;__data_ACSF_SOAP_atomInfo_otherInfo.pickle_512_False_0.05728081182381506_4_3_2_max_False.csv</td>\n",
       "    </tr>\n",
       "    <tr>\n",
       "      <th>5816</th>\n",
       "      <td>-1.011446</td>\n",
       "      <td>-1.675175</td>\n",
       "      <td>-1.720077</td>\n",
       "      <td>-2.519356</td>\n",
       "      <td>-2.436839</td>\n",
       "      <td>-1.514717</td>\n",
       "      <td>-2.286366</td>\n",
       "      <td>-2.561813</td>\n",
       "      <td>results_&lt;class 'functions_refactor.feedforwardHead_Update'&gt;__data_ACSF_SOAP_atomInfo_otherInfo.pickle_256_False_0.6279116958671741_4_4_4_mean_True.csv</td>\n",
       "    </tr>\n",
       "    <tr>\n",
       "      <th>5534</th>\n",
       "      <td>NaN</td>\n",
       "      <td>NaN</td>\n",
       "      <td>-2.238112</td>\n",
       "      <td>NaN</td>\n",
       "      <td>NaN</td>\n",
       "      <td>NaN</td>\n",
       "      <td>NaN</td>\n",
       "      <td>NaN</td>\n",
       "      <td>results_False_&lt;class 'functions_refactor.schnet_block'&gt;_&lt;class 'functions_refactor.cat3Head_type'&gt;__data_ACSF_expand_PCA.pickle_512_3_3_2_max_True_type_2_start.csv</td>\n",
       "    </tr>\n",
       "    <tr>\n",
       "      <th>6243</th>\n",
       "      <td>-0.772227</td>\n",
       "      <td>-1.572397</td>\n",
       "      <td>-1.991217</td>\n",
       "      <td>-2.919369</td>\n",
       "      <td>-2.700575</td>\n",
       "      <td>-1.769749</td>\n",
       "      <td>-2.675888</td>\n",
       "      <td>-2.937822</td>\n",
       "      <td>results_&lt;class 'functions_refactor.feedforwardHead_Update'&gt;__data_ACSF_SOAP_atomInfo_otherInfo.pickle_512_True_0.6945895081936001_5_3_3_max_False.csv</td>\n",
       "    </tr>\n",
       "    <tr>\n",
       "      <th>6242</th>\n",
       "      <td>-0.953023</td>\n",
       "      <td>-1.265290</td>\n",
       "      <td>-1.965762</td>\n",
       "      <td>-2.772169</td>\n",
       "      <td>-2.756859</td>\n",
       "      <td>-1.761411</td>\n",
       "      <td>-2.687040</td>\n",
       "      <td>-2.920658</td>\n",
       "      <td>results_&lt;class 'functions_refactor.feedforwardHead_Update'&gt;__data_ACSF_SOAP_atomInfo_otherInfo.pickle_512_True_0.6945895081936001_5_3_3_max_False.csv</td>\n",
       "    </tr>\n",
       "    <tr>\n",
       "      <th>3772</th>\n",
       "      <td>-1.054119</td>\n",
       "      <td>-1.564578</td>\n",
       "      <td>-1.992818</td>\n",
       "      <td>-2.717267</td>\n",
       "      <td>-2.651658</td>\n",
       "      <td>-1.815802</td>\n",
       "      <td>-2.561900</td>\n",
       "      <td>-2.762567</td>\n",
       "      <td>results_&lt;class 'functions_refactor.feedforwardHead_Update'&gt;__data_ACSF_SOAP_atomInfo_otherInfo.pickle_512_False_0.05728081182381506_4_3_2_max_False.csv</td>\n",
       "    </tr>\n",
       "    <tr>\n",
       "      <th>6242</th>\n",
       "      <td>-0.953023</td>\n",
       "      <td>-1.265290</td>\n",
       "      <td>-1.965762</td>\n",
       "      <td>-2.772169</td>\n",
       "      <td>-2.756859</td>\n",
       "      <td>-1.761411</td>\n",
       "      <td>-2.687040</td>\n",
       "      <td>-2.920658</td>\n",
       "      <td>results_&lt;class 'functions_refactor.feedforwardHead_Update'&gt;__data_ACSF_SOAP_atomInfo_otherInfo.pickle_512_True_0.6945895081936001_5_3_3_max_False.csv</td>\n",
       "    </tr>\n",
       "    <tr>\n",
       "      <th>6243</th>\n",
       "      <td>-0.772227</td>\n",
       "      <td>-1.572397</td>\n",
       "      <td>-1.991217</td>\n",
       "      <td>-2.919369</td>\n",
       "      <td>-2.700575</td>\n",
       "      <td>-1.769749</td>\n",
       "      <td>-2.675888</td>\n",
       "      <td>-2.937822</td>\n",
       "      <td>results_&lt;class 'functions_refactor.feedforwardHead_Update'&gt;__data_ACSF_SOAP_atomInfo_otherInfo.pickle_512_True_0.6945895081936001_5_3_3_max_False.csv</td>\n",
       "    </tr>\n",
       "  </tbody>\n",
       "</table>\n",
       "</div>"
      ],
      "text/plain": [
       "      val_type_0  val_type_1  val_type_2  val_type_3  val_type_4  val_type_5  \\\n",
       "3768   -1.202379   -1.619953   -1.970014   -2.648582   -2.595392   -1.788734   \n",
       "5816   -1.011446   -1.675175   -1.720077   -2.519356   -2.436839   -1.514717   \n",
       "5534         NaN         NaN   -2.238112         NaN         NaN         NaN   \n",
       "6243   -0.772227   -1.572397   -1.991217   -2.919369   -2.700575   -1.769749   \n",
       "6242   -0.953023   -1.265290   -1.965762   -2.772169   -2.756859   -1.761411   \n",
       "3772   -1.054119   -1.564578   -1.992818   -2.717267   -2.651658   -1.815802   \n",
       "6242   -0.953023   -1.265290   -1.965762   -2.772169   -2.756859   -1.761411   \n",
       "6243   -0.772227   -1.572397   -1.991217   -2.919369   -2.700575   -1.769749   \n",
       "\n",
       "      val_type_6  val_type_7  \\\n",
       "3768   -2.494419   -2.735663   \n",
       "5816   -2.286366   -2.561813   \n",
       "5534         NaN         NaN   \n",
       "6243   -2.675888   -2.937822   \n",
       "6242   -2.687040   -2.920658   \n",
       "3772   -2.561900   -2.762567   \n",
       "6242   -2.687040   -2.920658   \n",
       "6243   -2.675888   -2.937822   \n",
       "\n",
       "                                                                                                                                                                file_name  \n",
       "3768              results_<class 'functions_refactor.feedforwardHead_Update'>__data_ACSF_SOAP_atomInfo_otherInfo.pickle_512_False_0.05728081182381506_4_3_2_max_False.csv  \n",
       "5816               results_<class 'functions_refactor.feedforwardHead_Update'>__data_ACSF_SOAP_atomInfo_otherInfo.pickle_256_False_0.6279116958671741_4_4_4_mean_True.csv  \n",
       "5534  results_False_<class 'functions_refactor.schnet_block'>_<class 'functions_refactor.cat3Head_type'>__data_ACSF_expand_PCA.pickle_512_3_3_2_max_True_type_2_start.csv  \n",
       "6243                results_<class 'functions_refactor.feedforwardHead_Update'>__data_ACSF_SOAP_atomInfo_otherInfo.pickle_512_True_0.6945895081936001_5_3_3_max_False.csv  \n",
       "6242                results_<class 'functions_refactor.feedforwardHead_Update'>__data_ACSF_SOAP_atomInfo_otherInfo.pickle_512_True_0.6945895081936001_5_3_3_max_False.csv  \n",
       "3772              results_<class 'functions_refactor.feedforwardHead_Update'>__data_ACSF_SOAP_atomInfo_otherInfo.pickle_512_False_0.05728081182381506_4_3_2_max_False.csv  \n",
       "6242                results_<class 'functions_refactor.feedforwardHead_Update'>__data_ACSF_SOAP_atomInfo_otherInfo.pickle_512_True_0.6945895081936001_5_3_3_max_False.csv  \n",
       "6243                results_<class 'functions_refactor.feedforwardHead_Update'>__data_ACSF_SOAP_atomInfo_otherInfo.pickle_512_True_0.6945895081936001_5_3_3_max_False.csv  "
      ]
     },
     "execution_count": 6,
     "metadata": {},
     "output_type": "execute_result"
    }
   ],
   "source": [
    "df.loc[temp_index,['val_type_'+str(i) for i in range(8)]+['file_name']]"
   ]
  },
  {
   "cell_type": "code",
   "execution_count": null,
   "metadata": {},
   "outputs": [],
   "source": []
  },
  {
   "cell_type": "code",
   "execution_count": null,
   "metadata": {},
   "outputs": [],
   "source": []
  },
  {
   "cell_type": "code",
   "execution_count": 7,
   "metadata": {},
   "outputs": [],
   "source": [
    "def get_bestScore_forTypes(df,file_name):\n",
    "    df_temp = df.loc[df.file_name.str.contains(file_name)]\n",
    "    return df_temp[['val_type_'+str(i) for i in range(8)]].min()"
   ]
  },
  {
   "cell_type": "code",
   "execution_count": 12,
   "metadata": {},
   "outputs": [],
   "source": [
    "best_score_model_i = get_bestScore_forTypes(df,\"results_False_<class 'functions_refactor.schnet_block'>_<class 'functions_refactor.cat3Head_type'>__data_atomInfo.pickle_32_512_2_3_2_3_50\")"
   ]
  },
  {
   "cell_type": "code",
   "execution_count": 13,
   "metadata": {},
   "outputs": [
    {
     "data": {
      "text/html": [
       "<div>\n",
       "<style scoped>\n",
       "    .dataframe tbody tr th:only-of-type {\n",
       "        vertical-align: middle;\n",
       "    }\n",
       "\n",
       "    .dataframe tbody tr th {\n",
       "        vertical-align: top;\n",
       "    }\n",
       "\n",
       "    .dataframe thead th {\n",
       "        text-align: right;\n",
       "    }\n",
       "</style>\n",
       "<table border=\"1\" class=\"dataframe\">\n",
       "  <thead>\n",
       "    <tr style=\"text-align: right;\">\n",
       "      <th></th>\n",
       "      <th>0</th>\n",
       "      <th>1</th>\n",
       "      <th>2</th>\n",
       "    </tr>\n",
       "  </thead>\n",
       "  <tbody>\n",
       "    <tr>\n",
       "      <th>val_type_0</th>\n",
       "      <td>-0.476288</td>\n",
       "      <td>-1.090057</td>\n",
       "      <td>True</td>\n",
       "    </tr>\n",
       "    <tr>\n",
       "      <th>val_type_1</th>\n",
       "      <td>-1.505876</td>\n",
       "      <td>-1.672538</td>\n",
       "      <td>False</td>\n",
       "    </tr>\n",
       "    <tr>\n",
       "      <th>val_type_2</th>\n",
       "      <td>-2.075219</td>\n",
       "      <td>-2.075219</td>\n",
       "      <td>False</td>\n",
       "    </tr>\n",
       "    <tr>\n",
       "      <th>val_type_3</th>\n",
       "      <td>NaN</td>\n",
       "      <td>-2.797210</td>\n",
       "      <td>False</td>\n",
       "    </tr>\n",
       "    <tr>\n",
       "      <th>val_type_4</th>\n",
       "      <td>-2.555311</td>\n",
       "      <td>-2.595610</td>\n",
       "      <td>False</td>\n",
       "    </tr>\n",
       "    <tr>\n",
       "      <th>val_type_5</th>\n",
       "      <td>-1.737660</td>\n",
       "      <td>-1.737660</td>\n",
       "      <td>False</td>\n",
       "    </tr>\n",
       "    <tr>\n",
       "      <th>val_type_6</th>\n",
       "      <td>NaN</td>\n",
       "      <td>-2.480275</td>\n",
       "      <td>False</td>\n",
       "    </tr>\n",
       "    <tr>\n",
       "      <th>val_type_7</th>\n",
       "      <td>-2.725970</td>\n",
       "      <td>-2.785501</td>\n",
       "      <td>False</td>\n",
       "    </tr>\n",
       "  </tbody>\n",
       "</table>\n",
       "</div>"
      ],
      "text/plain": [
       "                   0         1      2\n",
       "val_type_0 -0.476288 -1.090057   True\n",
       "val_type_1 -1.505876 -1.672538  False\n",
       "val_type_2 -2.075219 -2.075219  False\n",
       "val_type_3       NaN -2.797210  False\n",
       "val_type_4 -2.555311 -2.595610  False\n",
       "val_type_5 -1.737660 -1.737660  False\n",
       "val_type_6       NaN -2.480275  False\n",
       "val_type_7 -2.725970 -2.785501  False"
      ]
     },
     "execution_count": 13,
     "metadata": {},
     "output_type": "execute_result"
    }
   ],
   "source": [
    "pd.concat([best_score_model_i,best_score,best_score_model_i-best_score>0.2],1)"
   ]
  },
  {
   "cell_type": "code",
   "execution_count": null,
   "metadata": {},
   "outputs": [],
   "source": []
  },
  {
   "cell_type": "code",
   "execution_count": 35,
   "metadata": {},
   "outputs": [],
   "source": [
    "best_score_model_i = get_bestScore_forTypes(df,\"False_<class 'functions_refactor.NNConv_block'>_<class 'functions_refactor.SimpleHead_type'>__data_ACSF_expand_PCA.pickle_32_256_2_2_2_2_50\")"
   ]
  },
  {
   "cell_type": "code",
   "execution_count": 36,
   "metadata": {},
   "outputs": [
    {
     "data": {
      "text/html": [
       "<div>\n",
       "<style scoped>\n",
       "    .dataframe tbody tr th:only-of-type {\n",
       "        vertical-align: middle;\n",
       "    }\n",
       "\n",
       "    .dataframe tbody tr th {\n",
       "        vertical-align: top;\n",
       "    }\n",
       "\n",
       "    .dataframe thead th {\n",
       "        text-align: right;\n",
       "    }\n",
       "</style>\n",
       "<table border=\"1\" class=\"dataframe\">\n",
       "  <thead>\n",
       "    <tr style=\"text-align: right;\">\n",
       "      <th></th>\n",
       "      <th>0</th>\n",
       "      <th>1</th>\n",
       "      <th>2</th>\n",
       "    </tr>\n",
       "  </thead>\n",
       "  <tbody>\n",
       "    <tr>\n",
       "      <th>val_type_0</th>\n",
       "      <td>-1.003048</td>\n",
       "      <td>-1.003048</td>\n",
       "      <td>False</td>\n",
       "    </tr>\n",
       "    <tr>\n",
       "      <th>val_type_1</th>\n",
       "      <td>-1.452800</td>\n",
       "      <td>-1.587212</td>\n",
       "      <td>False</td>\n",
       "    </tr>\n",
       "    <tr>\n",
       "      <th>val_type_2</th>\n",
       "      <td>-2.021929</td>\n",
       "      <td>-2.075219</td>\n",
       "      <td>False</td>\n",
       "    </tr>\n",
       "    <tr>\n",
       "      <th>val_type_3</th>\n",
       "      <td>-2.710183</td>\n",
       "      <td>-2.710183</td>\n",
       "      <td>False</td>\n",
       "    </tr>\n",
       "    <tr>\n",
       "      <th>val_type_4</th>\n",
       "      <td>-2.510066</td>\n",
       "      <td>-2.567998</td>\n",
       "      <td>False</td>\n",
       "    </tr>\n",
       "    <tr>\n",
       "      <th>val_type_5</th>\n",
       "      <td>-1.474216</td>\n",
       "      <td>-1.737660</td>\n",
       "      <td>True</td>\n",
       "    </tr>\n",
       "    <tr>\n",
       "      <th>val_type_6</th>\n",
       "      <td>-1.825712</td>\n",
       "      <td>-2.415497</td>\n",
       "      <td>True</td>\n",
       "    </tr>\n",
       "    <tr>\n",
       "      <th>val_type_7</th>\n",
       "      <td>-2.636108</td>\n",
       "      <td>-2.746075</td>\n",
       "      <td>False</td>\n",
       "    </tr>\n",
       "  </tbody>\n",
       "</table>\n",
       "</div>"
      ],
      "text/plain": [
       "                   0         1      2\n",
       "val_type_0 -1.003048 -1.003048  False\n",
       "val_type_1 -1.452800 -1.587212  False\n",
       "val_type_2 -2.021929 -2.075219  False\n",
       "val_type_3 -2.710183 -2.710183  False\n",
       "val_type_4 -2.510066 -2.567998  False\n",
       "val_type_5 -1.474216 -1.737660   True\n",
       "val_type_6 -1.825712 -2.415497   True\n",
       "val_type_7 -2.636108 -2.746075  False"
      ]
     },
     "execution_count": 36,
     "metadata": {},
     "output_type": "execute_result"
    }
   ],
   "source": [
    "pd.concat([best_score_model_i,best_score,best_score_model_i-best_score>0.2],1)"
   ]
  },
  {
   "cell_type": "code",
   "execution_count": null,
   "metadata": {},
   "outputs": [],
   "source": []
  },
  {
   "cell_type": "code",
   "execution_count": null,
   "metadata": {},
   "outputs": [],
   "source": []
  },
  {
   "cell_type": "code",
   "execution_count": null,
   "metadata": {},
   "outputs": [],
   "source": []
  },
  {
   "cell_type": "code",
   "execution_count": null,
   "metadata": {},
   "outputs": [],
   "source": []
  },
  {
   "cell_type": "code",
   "execution_count": null,
   "metadata": {},
   "outputs": [],
   "source": []
  },
  {
   "cell_type": "code",
   "execution_count": null,
   "metadata": {},
   "outputs": [],
   "source": []
  },
  {
   "cell_type": "code",
   "execution_count": null,
   "metadata": {},
   "outputs": [],
   "source": []
  }
 ],
 "metadata": {
  "kernelspec": {
   "display_name": "Python 3",
   "language": "python",
   "name": "python3"
  },
  "language_info": {
   "codemirror_mode": {
    "name": "ipython",
    "version": 3
   },
   "file_extension": ".py",
   "mimetype": "text/x-python",
   "name": "python",
   "nbconvert_exporter": "python",
   "pygments_lexer": "ipython3",
   "version": "3.7.2"
  }
 },
 "nbformat": 4,
 "nbformat_minor": 2
}
