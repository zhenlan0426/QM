{
 "cells": [
  {
   "cell_type": "code",
   "execution_count": 1,
   "metadata": {},
   "outputs": [],
   "source": [
    "import pandas as pd\n",
    "import numpy as np\n",
    "import matplotlib.pyplot as plt\n",
    "import os\n",
    "import re\n",
    "pd.set_option('max_colwidth', 800)"
   ]
  },
  {
   "cell_type": "code",
   "execution_count": null,
   "metadata": {},
   "outputs": [],
   "source": []
  },
  {
   "cell_type": "code",
   "execution_count": 2,
   "metadata": {},
   "outputs": [
    {
     "name": "stderr",
     "output_type": "stream",
     "text": [
      "/home/will/anaconda3/envs/pytorch/lib/python3.7/site-packages/ipykernel_launcher.py:8: FutureWarning: Sorting because non-concatenation axis is not aligned. A future version\n",
      "of pandas will change to not sort by default.\n",
      "\n",
      "To accept the future behavior, pass 'sort=False'.\n",
      "\n",
      "To retain the current behavior and silence the warning, pass 'sort=True'.\n",
      "\n",
      "  \n"
     ]
    }
   ],
   "source": [
    "results = [file for file in os.listdir('../Data') if 'result' in file]\n",
    "df_list = []\n",
    "for result in results:\n",
    "    df = pd.read_csv('../Data/'+result,na_values=0)\n",
    "    df['train_type'] = 'base' if 'base' in result else ('start' if 'start' in result else ('2stage' if '2stage' in result else 'org'))\n",
    "    df['file_name'] = result\n",
    "    df_list.append(df)\n",
    "df = pd.concat(df_list,ignore_index=True)#.fillna(1e4)"
   ]
  },
  {
   "cell_type": "code",
   "execution_count": null,
   "metadata": {},
   "outputs": [],
   "source": []
  },
  {
   "cell_type": "code",
   "execution_count": 3,
   "metadata": {},
   "outputs": [
    {
     "name": "stdout",
     "output_type": "stream",
     "text": [
      "-2.154258811521495\n"
     ]
    },
    {
     "data": {
      "text/plain": [
       "val_type_0   -1.090057\n",
       "val_type_1   -1.672538\n",
       "val_type_2   -2.075219\n",
       "val_type_3   -2.797210\n",
       "val_type_4   -2.595610\n",
       "val_type_5   -1.737660\n",
       "val_type_6   -2.480275\n",
       "val_type_7   -2.785501\n",
       "dtype: float64"
      ]
     },
     "execution_count": 3,
     "metadata": {},
     "output_type": "execute_result"
    }
   ],
   "source": [
    "best_score = df[['val_type_'+str(i) for i in range(8)]].min()\n",
    "print(best_score.mean())\n",
    "best_score"
   ]
  },
  {
   "cell_type": "code",
   "execution_count": null,
   "metadata": {},
   "outputs": [],
   "source": []
  },
  {
   "cell_type": "code",
   "execution_count": 4,
   "metadata": {},
   "outputs": [],
   "source": [
    "temp_index = np.nanargmin(df[['val_type_'+str(i) for i in range(8)]].values,0)"
   ]
  },
  {
   "cell_type": "code",
   "execution_count": 6,
   "metadata": {},
   "outputs": [
    {
     "data": {
      "text/html": [
       "<div>\n",
       "<style scoped>\n",
       "    .dataframe tbody tr th:only-of-type {\n",
       "        vertical-align: middle;\n",
       "    }\n",
       "\n",
       "    .dataframe tbody tr th {\n",
       "        vertical-align: top;\n",
       "    }\n",
       "\n",
       "    .dataframe thead th {\n",
       "        text-align: right;\n",
       "    }\n",
       "</style>\n",
       "<table border=\"1\" class=\"dataframe\">\n",
       "  <thead>\n",
       "    <tr style=\"text-align: right;\">\n",
       "      <th></th>\n",
       "      <th>val_type_0</th>\n",
       "      <th>val_type_1</th>\n",
       "      <th>val_type_2</th>\n",
       "      <th>val_type_3</th>\n",
       "      <th>val_type_4</th>\n",
       "      <th>val_type_5</th>\n",
       "      <th>val_type_6</th>\n",
       "      <th>val_type_7</th>\n",
       "      <th>file_name</th>\n",
       "    </tr>\n",
       "  </thead>\n",
       "  <tbody>\n",
       "    <tr>\n",
       "      <th>4019</th>\n",
       "      <td>-1.090057</td>\n",
       "      <td>-1.437067</td>\n",
       "      <td>-1.873168</td>\n",
       "      <td>-2.673503</td>\n",
       "      <td>-2.515166</td>\n",
       "      <td>-1.667243</td>\n",
       "      <td>-2.439669</td>\n",
       "      <td>-2.590274</td>\n",
       "      <td>results_&lt;class 'functions_refactor.feedforwardHead_Update'&gt;__data_SOAP_expand_PCA_otherInfo.pickle_256_False_0.04682418808224065_4_5_4.csv</td>\n",
       "    </tr>\n",
       "    <tr>\n",
       "      <th>1336</th>\n",
       "      <td>-1.067051</td>\n",
       "      <td>-1.672538</td>\n",
       "      <td>-1.806302</td>\n",
       "      <td>-2.337205</td>\n",
       "      <td>-2.539604</td>\n",
       "      <td>-1.614894</td>\n",
       "      <td>-2.430814</td>\n",
       "      <td>-2.608547</td>\n",
       "      <td>results_&lt;class 'functions_refactor.feedforwardHead_Update'&gt;__data_SOAP_expand_PCA_otherInfo.pickle_256_False_0.31313746436878365_4_5_4.csv</td>\n",
       "    </tr>\n",
       "    <tr>\n",
       "      <th>2496</th>\n",
       "      <td>NaN</td>\n",
       "      <td>NaN</td>\n",
       "      <td>-2.075219</td>\n",
       "      <td>NaN</td>\n",
       "      <td>NaN</td>\n",
       "      <td>NaN</td>\n",
       "      <td>NaN</td>\n",
       "      <td>NaN</td>\n",
       "      <td>results_False_&lt;class 'functions_refactor.schnet_block'&gt;_&lt;class 'functions_refactor.cat3Head_type'&gt;__data_atomInfo.pickle_32_512_2_3_2_3_50_type_2_start.csv</td>\n",
       "    </tr>\n",
       "    <tr>\n",
       "      <th>3837</th>\n",
       "      <td>NaN</td>\n",
       "      <td>NaN</td>\n",
       "      <td>NaN</td>\n",
       "      <td>-2.797210</td>\n",
       "      <td>NaN</td>\n",
       "      <td>NaN</td>\n",
       "      <td>NaN</td>\n",
       "      <td>NaN</td>\n",
       "      <td>results_False_&lt;class 'functions_refactor.NNConv_block'&gt;_&lt;class 'functions_refactor.swapHead_type'&gt;__data_ACSF_expand_PCA.pickle_32_256_2_2_3_2_50_type_3_start.csv</td>\n",
       "    </tr>\n",
       "    <tr>\n",
       "      <th>189</th>\n",
       "      <td>NaN</td>\n",
       "      <td>NaN</td>\n",
       "      <td>NaN</td>\n",
       "      <td>NaN</td>\n",
       "      <td>-2.595610</td>\n",
       "      <td>NaN</td>\n",
       "      <td>NaN</td>\n",
       "      <td>NaN</td>\n",
       "      <td>results_False_&lt;class 'functions_refactor.schnet_block'&gt;_&lt;class 'functions_refactor.cat3Head_type'&gt;__data_atomInfo.pickle_32_256_2_3_3_3_50_type_4_start.csv</td>\n",
       "    </tr>\n",
       "    <tr>\n",
       "      <th>2381</th>\n",
       "      <td>NaN</td>\n",
       "      <td>NaN</td>\n",
       "      <td>NaN</td>\n",
       "      <td>NaN</td>\n",
       "      <td>NaN</td>\n",
       "      <td>-1.737660</td>\n",
       "      <td>NaN</td>\n",
       "      <td>NaN</td>\n",
       "      <td>results_False_&lt;class 'functions_refactor.schnet_block'&gt;_&lt;class 'functions_refactor.cat3Head_type'&gt;__data_atomInfo.pickle_32_512_2_3_2_3_50_type_5_start.csv</td>\n",
       "    </tr>\n",
       "    <tr>\n",
       "      <th>4018</th>\n",
       "      <td>-0.835094</td>\n",
       "      <td>-1.390066</td>\n",
       "      <td>-1.882835</td>\n",
       "      <td>-2.673380</td>\n",
       "      <td>-2.495462</td>\n",
       "      <td>-1.700866</td>\n",
       "      <td>-2.480275</td>\n",
       "      <td>-2.608104</td>\n",
       "      <td>results_&lt;class 'functions_refactor.feedforwardHead_Update'&gt;__data_SOAP_expand_PCA_otherInfo.pickle_256_False_0.04682418808224065_4_5_4.csv</td>\n",
       "    </tr>\n",
       "    <tr>\n",
       "      <th>479</th>\n",
       "      <td>NaN</td>\n",
       "      <td>NaN</td>\n",
       "      <td>NaN</td>\n",
       "      <td>NaN</td>\n",
       "      <td>NaN</td>\n",
       "      <td>NaN</td>\n",
       "      <td>NaN</td>\n",
       "      <td>-2.785501</td>\n",
       "      <td>results_False_&lt;class 'functions_refactor.schnet_block'&gt;_&lt;class 'functions_refactor.swapHead_type'&gt;__data_ACSF_SOAP_atomInfo.pickle_512_3_3_2_max_True.csv</td>\n",
       "    </tr>\n",
       "  </tbody>\n",
       "</table>\n",
       "</div>"
      ],
      "text/plain": [
       "      val_type_0  val_type_1  val_type_2  val_type_3  val_type_4  val_type_5  \\\n",
       "4019   -1.090057   -1.437067   -1.873168   -2.673503   -2.515166   -1.667243   \n",
       "1336   -1.067051   -1.672538   -1.806302   -2.337205   -2.539604   -1.614894   \n",
       "2496         NaN         NaN   -2.075219         NaN         NaN         NaN   \n",
       "3837         NaN         NaN         NaN   -2.797210         NaN         NaN   \n",
       "189          NaN         NaN         NaN         NaN   -2.595610         NaN   \n",
       "2381         NaN         NaN         NaN         NaN         NaN   -1.737660   \n",
       "4018   -0.835094   -1.390066   -1.882835   -2.673380   -2.495462   -1.700866   \n",
       "479          NaN         NaN         NaN         NaN         NaN         NaN   \n",
       "\n",
       "      val_type_6  val_type_7  \\\n",
       "4019   -2.439669   -2.590274   \n",
       "1336   -2.430814   -2.608547   \n",
       "2496         NaN         NaN   \n",
       "3837         NaN         NaN   \n",
       "189          NaN         NaN   \n",
       "2381         NaN         NaN   \n",
       "4018   -2.480275   -2.608104   \n",
       "479          NaN   -2.785501   \n",
       "\n",
       "                                                                                                                                                               file_name  \n",
       "4019                          results_<class 'functions_refactor.feedforwardHead_Update'>__data_SOAP_expand_PCA_otherInfo.pickle_256_False_0.04682418808224065_4_5_4.csv  \n",
       "1336                          results_<class 'functions_refactor.feedforwardHead_Update'>__data_SOAP_expand_PCA_otherInfo.pickle_256_False_0.31313746436878365_4_5_4.csv  \n",
       "2496         results_False_<class 'functions_refactor.schnet_block'>_<class 'functions_refactor.cat3Head_type'>__data_atomInfo.pickle_32_512_2_3_2_3_50_type_2_start.csv  \n",
       "3837  results_False_<class 'functions_refactor.NNConv_block'>_<class 'functions_refactor.swapHead_type'>__data_ACSF_expand_PCA.pickle_32_256_2_2_3_2_50_type_3_start.csv  \n",
       "189          results_False_<class 'functions_refactor.schnet_block'>_<class 'functions_refactor.cat3Head_type'>__data_atomInfo.pickle_32_256_2_3_3_3_50_type_4_start.csv  \n",
       "2381         results_False_<class 'functions_refactor.schnet_block'>_<class 'functions_refactor.cat3Head_type'>__data_atomInfo.pickle_32_512_2_3_2_3_50_type_5_start.csv  \n",
       "4018                          results_<class 'functions_refactor.feedforwardHead_Update'>__data_SOAP_expand_PCA_otherInfo.pickle_256_False_0.04682418808224065_4_5_4.csv  \n",
       "479            results_False_<class 'functions_refactor.schnet_block'>_<class 'functions_refactor.swapHead_type'>__data_ACSF_SOAP_atomInfo.pickle_512_3_3_2_max_True.csv  "
      ]
     },
     "execution_count": 6,
     "metadata": {},
     "output_type": "execute_result"
    }
   ],
   "source": [
    "df.loc[temp_index,['val_type_'+str(i) for i in range(8)]+['file_name']]"
   ]
  },
  {
   "cell_type": "code",
   "execution_count": null,
   "metadata": {},
   "outputs": [],
   "source": []
  },
  {
   "cell_type": "code",
   "execution_count": null,
   "metadata": {},
   "outputs": [],
   "source": []
  },
  {
   "cell_type": "code",
   "execution_count": 7,
   "metadata": {},
   "outputs": [],
   "source": [
    "def get_bestScore_forTypes(df,file_name):\n",
    "    df_temp = df.loc[df.file_name.str.contains(file_name)]\n",
    "    return df_temp[['val_type_'+str(i) for i in range(8)]].min()"
   ]
  },
  {
   "cell_type": "code",
   "execution_count": 12,
   "metadata": {},
   "outputs": [],
   "source": [
    "best_score_model_i = get_bestScore_forTypes(df,\"results_False_<class 'functions_refactor.schnet_block'>_<class 'functions_refactor.cat3Head_type'>__data_atomInfo.pickle_32_512_2_3_2_3_50\")"
   ]
  },
  {
   "cell_type": "code",
   "execution_count": 13,
   "metadata": {},
   "outputs": [
    {
     "data": {
      "text/html": [
       "<div>\n",
       "<style scoped>\n",
       "    .dataframe tbody tr th:only-of-type {\n",
       "        vertical-align: middle;\n",
       "    }\n",
       "\n",
       "    .dataframe tbody tr th {\n",
       "        vertical-align: top;\n",
       "    }\n",
       "\n",
       "    .dataframe thead th {\n",
       "        text-align: right;\n",
       "    }\n",
       "</style>\n",
       "<table border=\"1\" class=\"dataframe\">\n",
       "  <thead>\n",
       "    <tr style=\"text-align: right;\">\n",
       "      <th></th>\n",
       "      <th>0</th>\n",
       "      <th>1</th>\n",
       "      <th>2</th>\n",
       "    </tr>\n",
       "  </thead>\n",
       "  <tbody>\n",
       "    <tr>\n",
       "      <th>val_type_0</th>\n",
       "      <td>-0.476288</td>\n",
       "      <td>-1.090057</td>\n",
       "      <td>True</td>\n",
       "    </tr>\n",
       "    <tr>\n",
       "      <th>val_type_1</th>\n",
       "      <td>-1.505876</td>\n",
       "      <td>-1.672538</td>\n",
       "      <td>False</td>\n",
       "    </tr>\n",
       "    <tr>\n",
       "      <th>val_type_2</th>\n",
       "      <td>-2.075219</td>\n",
       "      <td>-2.075219</td>\n",
       "      <td>False</td>\n",
       "    </tr>\n",
       "    <tr>\n",
       "      <th>val_type_3</th>\n",
       "      <td>NaN</td>\n",
       "      <td>-2.797210</td>\n",
       "      <td>False</td>\n",
       "    </tr>\n",
       "    <tr>\n",
       "      <th>val_type_4</th>\n",
       "      <td>-2.555311</td>\n",
       "      <td>-2.595610</td>\n",
       "      <td>False</td>\n",
       "    </tr>\n",
       "    <tr>\n",
       "      <th>val_type_5</th>\n",
       "      <td>-1.737660</td>\n",
       "      <td>-1.737660</td>\n",
       "      <td>False</td>\n",
       "    </tr>\n",
       "    <tr>\n",
       "      <th>val_type_6</th>\n",
       "      <td>NaN</td>\n",
       "      <td>-2.480275</td>\n",
       "      <td>False</td>\n",
       "    </tr>\n",
       "    <tr>\n",
       "      <th>val_type_7</th>\n",
       "      <td>-2.725970</td>\n",
       "      <td>-2.785501</td>\n",
       "      <td>False</td>\n",
       "    </tr>\n",
       "  </tbody>\n",
       "</table>\n",
       "</div>"
      ],
      "text/plain": [
       "                   0         1      2\n",
       "val_type_0 -0.476288 -1.090057   True\n",
       "val_type_1 -1.505876 -1.672538  False\n",
       "val_type_2 -2.075219 -2.075219  False\n",
       "val_type_3       NaN -2.797210  False\n",
       "val_type_4 -2.555311 -2.595610  False\n",
       "val_type_5 -1.737660 -1.737660  False\n",
       "val_type_6       NaN -2.480275  False\n",
       "val_type_7 -2.725970 -2.785501  False"
      ]
     },
     "execution_count": 13,
     "metadata": {},
     "output_type": "execute_result"
    }
   ],
   "source": [
    "pd.concat([best_score_model_i,best_score,best_score_model_i-best_score>0.2],1)"
   ]
  },
  {
   "cell_type": "code",
   "execution_count": null,
   "metadata": {},
   "outputs": [],
   "source": []
  },
  {
   "cell_type": "code",
   "execution_count": 35,
   "metadata": {},
   "outputs": [],
   "source": [
    "best_score_model_i = get_bestScore_forTypes(df,\"False_<class 'functions_refactor.NNConv_block'>_<class 'functions_refactor.SimpleHead_type'>__data_ACSF_expand_PCA.pickle_32_256_2_2_2_2_50\")"
   ]
  },
  {
   "cell_type": "code",
   "execution_count": 36,
   "metadata": {},
   "outputs": [
    {
     "data": {
      "text/html": [
       "<div>\n",
       "<style scoped>\n",
       "    .dataframe tbody tr th:only-of-type {\n",
       "        vertical-align: middle;\n",
       "    }\n",
       "\n",
       "    .dataframe tbody tr th {\n",
       "        vertical-align: top;\n",
       "    }\n",
       "\n",
       "    .dataframe thead th {\n",
       "        text-align: right;\n",
       "    }\n",
       "</style>\n",
       "<table border=\"1\" class=\"dataframe\">\n",
       "  <thead>\n",
       "    <tr style=\"text-align: right;\">\n",
       "      <th></th>\n",
       "      <th>0</th>\n",
       "      <th>1</th>\n",
       "      <th>2</th>\n",
       "    </tr>\n",
       "  </thead>\n",
       "  <tbody>\n",
       "    <tr>\n",
       "      <th>val_type_0</th>\n",
       "      <td>-1.003048</td>\n",
       "      <td>-1.003048</td>\n",
       "      <td>False</td>\n",
       "    </tr>\n",
       "    <tr>\n",
       "      <th>val_type_1</th>\n",
       "      <td>-1.452800</td>\n",
       "      <td>-1.587212</td>\n",
       "      <td>False</td>\n",
       "    </tr>\n",
       "    <tr>\n",
       "      <th>val_type_2</th>\n",
       "      <td>-2.021929</td>\n",
       "      <td>-2.075219</td>\n",
       "      <td>False</td>\n",
       "    </tr>\n",
       "    <tr>\n",
       "      <th>val_type_3</th>\n",
       "      <td>-2.710183</td>\n",
       "      <td>-2.710183</td>\n",
       "      <td>False</td>\n",
       "    </tr>\n",
       "    <tr>\n",
       "      <th>val_type_4</th>\n",
       "      <td>-2.510066</td>\n",
       "      <td>-2.567998</td>\n",
       "      <td>False</td>\n",
       "    </tr>\n",
       "    <tr>\n",
       "      <th>val_type_5</th>\n",
       "      <td>-1.474216</td>\n",
       "      <td>-1.737660</td>\n",
       "      <td>True</td>\n",
       "    </tr>\n",
       "    <tr>\n",
       "      <th>val_type_6</th>\n",
       "      <td>-1.825712</td>\n",
       "      <td>-2.415497</td>\n",
       "      <td>True</td>\n",
       "    </tr>\n",
       "    <tr>\n",
       "      <th>val_type_7</th>\n",
       "      <td>-2.636108</td>\n",
       "      <td>-2.746075</td>\n",
       "      <td>False</td>\n",
       "    </tr>\n",
       "  </tbody>\n",
       "</table>\n",
       "</div>"
      ],
      "text/plain": [
       "                   0         1      2\n",
       "val_type_0 -1.003048 -1.003048  False\n",
       "val_type_1 -1.452800 -1.587212  False\n",
       "val_type_2 -2.021929 -2.075219  False\n",
       "val_type_3 -2.710183 -2.710183  False\n",
       "val_type_4 -2.510066 -2.567998  False\n",
       "val_type_5 -1.474216 -1.737660   True\n",
       "val_type_6 -1.825712 -2.415497   True\n",
       "val_type_7 -2.636108 -2.746075  False"
      ]
     },
     "execution_count": 36,
     "metadata": {},
     "output_type": "execute_result"
    }
   ],
   "source": [
    "pd.concat([best_score_model_i,best_score,best_score_model_i-best_score>0.2],1)"
   ]
  },
  {
   "cell_type": "code",
   "execution_count": null,
   "metadata": {},
   "outputs": [],
   "source": []
  },
  {
   "cell_type": "code",
   "execution_count": null,
   "metadata": {},
   "outputs": [],
   "source": []
  },
  {
   "cell_type": "code",
   "execution_count": null,
   "metadata": {},
   "outputs": [],
   "source": []
  },
  {
   "cell_type": "code",
   "execution_count": null,
   "metadata": {},
   "outputs": [],
   "source": []
  },
  {
   "cell_type": "code",
   "execution_count": null,
   "metadata": {},
   "outputs": [],
   "source": []
  },
  {
   "cell_type": "code",
   "execution_count": null,
   "metadata": {},
   "outputs": [],
   "source": []
  },
  {
   "cell_type": "code",
   "execution_count": null,
   "metadata": {},
   "outputs": [],
   "source": []
  }
 ],
 "metadata": {
  "kernelspec": {
   "display_name": "Python 3",
   "language": "python",
   "name": "python3"
  },
  "language_info": {
   "codemirror_mode": {
    "name": "ipython",
    "version": 3
   },
   "file_extension": ".py",
   "mimetype": "text/x-python",
   "name": "python",
   "nbconvert_exporter": "python",
   "pygments_lexer": "ipython3",
   "version": "3.7.2"
  }
 },
 "nbformat": 4,
 "nbformat_minor": 2
}
