{
 "cells": [
  {
   "cell_type": "code",
   "execution_count": 1,
   "metadata": {},
   "outputs": [],
   "source": [
    "import pandas as pd\n",
    "import numpy as np\n",
    "import matplotlib.pyplot as plt\n",
    "import os\n",
    "import re\n",
    "pd.set_option('max_colwidth', 800)"
   ]
  },
  {
   "cell_type": "code",
   "execution_count": null,
   "metadata": {},
   "outputs": [],
   "source": []
  },
  {
   "cell_type": "code",
   "execution_count": 2,
   "metadata": {},
   "outputs": [
    {
     "name": "stderr",
     "output_type": "stream",
     "text": [
      "/home/will/anaconda3/envs/pytorch/lib/python3.7/site-packages/ipykernel_launcher.py:8: FutureWarning: Sorting because non-concatenation axis is not aligned. A future version\n",
      "of pandas will change to not sort by default.\n",
      "\n",
      "To accept the future behavior, pass 'sort=False'.\n",
      "\n",
      "To retain the current behavior and silence the warning, pass 'sort=True'.\n",
      "\n",
      "  \n"
     ]
    }
   ],
   "source": [
    "results = [file for file in os.listdir('../Data') if 'result' in file]\n",
    "df_list = []\n",
    "for result in results:\n",
    "    df = pd.read_csv('../Data/'+result,na_values=0)\n",
    "    df['train_type'] = 'base' if 'base' in result else ('start' if 'start' in result else ('2stage' if '2stage' in result else 'org'))\n",
    "    df['file_name'] = result\n",
    "    df_list.append(df)\n",
    "df = pd.concat(df_list,ignore_index=True)#.fillna(1e4)"
   ]
  },
  {
   "cell_type": "code",
   "execution_count": null,
   "metadata": {},
   "outputs": [],
   "source": []
  },
  {
   "cell_type": "code",
   "execution_count": null,
   "metadata": {},
   "outputs": [],
   "source": []
  },
  {
   "cell_type": "code",
   "execution_count": 3,
   "metadata": {},
   "outputs": [],
   "source": [
    "results_list = []"
   ]
  },
  {
   "cell_type": "markdown",
   "metadata": {},
   "source": [
    "This part is manual as one has to decide have many model to average over for each type"
   ]
  },
  {
   "cell_type": "code",
   "execution_count": 4,
   "metadata": {
    "scrolled": true
   },
   "outputs": [
    {
     "data": {
      "text/html": [
       "<div>\n",
       "<style scoped>\n",
       "    .dataframe tbody tr th:only-of-type {\n",
       "        vertical-align: middle;\n",
       "    }\n",
       "\n",
       "    .dataframe tbody tr th {\n",
       "        vertical-align: top;\n",
       "    }\n",
       "\n",
       "    .dataframe thead th {\n",
       "        text-align: right;\n",
       "    }\n",
       "</style>\n",
       "<table border=\"1\" class=\"dataframe\">\n",
       "  <thead>\n",
       "    <tr style=\"text-align: right;\">\n",
       "      <th></th>\n",
       "      <th>file_name</th>\n",
       "      <th>val_type_0</th>\n",
       "    </tr>\n",
       "  </thead>\n",
       "  <tbody>\n",
       "    <tr>\n",
       "      <th>22</th>\n",
       "      <td>results_False_&lt;class 'functions_refactor.NNConv_block'&gt;_&lt;class 'functions_refactor.SimpleHead_type'&gt;__data_ACSF_expand_PCA.pickle_32_256_2_2_2_2_50_type_0_start.csv</td>\n",
       "      <td>-1.003048</td>\n",
       "    </tr>\n",
       "    <tr>\n",
       "      <th>15</th>\n",
       "      <td>results_False_&lt;class 'functions_refactor.NNConv_block'&gt;_&lt;class 'functions_refactor.SimpleHead_type'&gt;__data_ACSF_expand_PCA.pickle_32_128_2_3_2_2_50_type_0_start.csv</td>\n",
       "      <td>-0.877690</td>\n",
       "    </tr>\n",
       "    <tr>\n",
       "      <th>30</th>\n",
       "      <td>results_False_&lt;class 'functions_refactor.NNConv_block'&gt;_&lt;class 'functions_refactor.cat3Head_type'&gt;__data_ACSF_expand.pickle_32_128_2_2_2_2_25_type_0_start.csv</td>\n",
       "      <td>-0.807686</td>\n",
       "    </tr>\n",
       "    <tr>\n",
       "      <th>6</th>\n",
       "      <td>results_False_&lt;class 'functions_refactor.MEGNet_block'&gt;_&lt;class 'functions_refactor.feedforwardHead_Update'&gt;__data_ACSF_expand_PCA.pickle_32_128_0.4_3_3_2_50_MAE.csv</td>\n",
       "      <td>-0.759572</td>\n",
       "    </tr>\n",
       "    <tr>\n",
       "      <th>77</th>\n",
       "      <td>results__class 'functions_refactor.feedforwardHead_Update'___data_SOAP_expand_PCA_otherInfo.pickle_512_True_2.6570633338233756_3_5_2.csv</td>\n",
       "      <td>-0.726933</td>\n",
       "    </tr>\n",
       "  </tbody>\n",
       "</table>\n",
       "</div>"
      ],
      "text/plain": [
       "                                                                                                                                                               file_name  \\\n",
       "22  results_False_<class 'functions_refactor.NNConv_block'>_<class 'functions_refactor.SimpleHead_type'>__data_ACSF_expand_PCA.pickle_32_256_2_2_2_2_50_type_0_start.csv   \n",
       "15  results_False_<class 'functions_refactor.NNConv_block'>_<class 'functions_refactor.SimpleHead_type'>__data_ACSF_expand_PCA.pickle_32_128_2_3_2_2_50_type_0_start.csv   \n",
       "30        results_False_<class 'functions_refactor.NNConv_block'>_<class 'functions_refactor.cat3Head_type'>__data_ACSF_expand.pickle_32_128_2_2_2_2_25_type_0_start.csv   \n",
       "6   results_False_<class 'functions_refactor.MEGNet_block'>_<class 'functions_refactor.feedforwardHead_Update'>__data_ACSF_expand_PCA.pickle_32_128_0.4_3_3_2_50_MAE.csv   \n",
       "77                              results__class 'functions_refactor.feedforwardHead_Update'___data_SOAP_expand_PCA_otherInfo.pickle_512_True_2.6570633338233756_3_5_2.csv   \n",
       "\n",
       "    val_type_0  \n",
       "22   -1.003048  \n",
       "15   -0.877690  \n",
       "30   -0.807686  \n",
       "6    -0.759572  \n",
       "77   -0.726933  "
      ]
     },
     "execution_count": 4,
     "metadata": {},
     "output_type": "execute_result"
    }
   ],
   "source": [
    "type_ = 0\n",
    "temp = df.groupby(['file_name'])['val_type_'+str(type_)].min().reset_index().fillna(100).sort_values('val_type_'+str(type_))\n",
    "temp.iloc[0:5]"
   ]
  },
  {
   "cell_type": "code",
   "execution_count": 5,
   "metadata": {
    "scrolled": false
   },
   "outputs": [
    {
     "data": {
      "text/plain": [
       "[\"results_False_<class 'functions_refactor.NNConv_block'>_<class 'functions_refactor.SimpleHead_type'>__data_ACSF_expand_PCA.pickle_32_256_2_2_2_2_50_type_0_start.csv\"]"
      ]
     },
     "execution_count": 5,
     "metadata": {},
     "output_type": "execute_result"
    }
   ],
   "source": [
    "topK = 1\n",
    "results_list.append(temp['file_name'].iloc[:topK].tolist())\n",
    "temp['file_name'].iloc[:topK].tolist()"
   ]
  },
  {
   "cell_type": "code",
   "execution_count": null,
   "metadata": {},
   "outputs": [],
   "source": []
  },
  {
   "cell_type": "code",
   "execution_count": 6,
   "metadata": {
    "scrolled": true
   },
   "outputs": [
    {
     "data": {
      "text/html": [
       "<div>\n",
       "<style scoped>\n",
       "    .dataframe tbody tr th:only-of-type {\n",
       "        vertical-align: middle;\n",
       "    }\n",
       "\n",
       "    .dataframe tbody tr th {\n",
       "        vertical-align: top;\n",
       "    }\n",
       "\n",
       "    .dataframe thead th {\n",
       "        text-align: right;\n",
       "    }\n",
       "</style>\n",
       "<table border=\"1\" class=\"dataframe\">\n",
       "  <thead>\n",
       "    <tr style=\"text-align: right;\">\n",
       "      <th></th>\n",
       "      <th>file_name</th>\n",
       "      <th>val_type_1</th>\n",
       "    </tr>\n",
       "  </thead>\n",
       "  <tbody>\n",
       "    <tr>\n",
       "      <th>77</th>\n",
       "      <td>results__class 'functions_refactor.feedforwardHead_Update'___data_SOAP_expand_PCA_otherInfo.pickle_512_True_2.6570633338233756_3_5_2.csv</td>\n",
       "      <td>-1.587212</td>\n",
       "    </tr>\n",
       "    <tr>\n",
       "      <th>7</th>\n",
       "      <td>results_False_&lt;class 'functions_refactor.MEGNet_block'&gt;_&lt;class 'functions_refactor.feedforwardHead_Update'&gt;__data_ACSF_expand_PCA.pickle_32_128_0.4_3_3_2_50__interleave.csv</td>\n",
       "      <td>-1.516606</td>\n",
       "    </tr>\n",
       "    <tr>\n",
       "      <th>5</th>\n",
       "      <td>results_False_&lt;class 'functions_refactor.MEGNet_block'&gt;_&lt;class 'functions_refactor.feedforwardHead_Update'&gt;__data_ACSF_expand_PCA.pickle_32_128_0.4_3_3_2_20_base.csv</td>\n",
       "      <td>-1.514008</td>\n",
       "    </tr>\n",
       "    <tr>\n",
       "      <th>72</th>\n",
       "      <td>results_False_&lt;class 'functions_refactor.schnet_block'&gt;_&lt;class 'functions_refactor.cat3Head_type'&gt;__data_atomInfo.pickle_32_512_2_3_2_3_50_type_1_start.csv</td>\n",
       "      <td>-1.505876</td>\n",
       "    </tr>\n",
       "    <tr>\n",
       "      <th>9</th>\n",
       "      <td>results_False_&lt;class 'functions_refactor.MEGNet_block'&gt;_&lt;class 'functions_refactor.feedforwardHead_Update'&gt;__data_SOAP_expand_PCA.pickle_32_128_0.4_3_3_2_10_base.csv</td>\n",
       "      <td>-1.501639</td>\n",
       "    </tr>\n",
       "  </tbody>\n",
       "</table>\n",
       "</div>"
      ],
      "text/plain": [
       "                                                                                                                                                                       file_name  \\\n",
       "77                                      results__class 'functions_refactor.feedforwardHead_Update'___data_SOAP_expand_PCA_otherInfo.pickle_512_True_2.6570633338233756_3_5_2.csv   \n",
       "7   results_False_<class 'functions_refactor.MEGNet_block'>_<class 'functions_refactor.feedforwardHead_Update'>__data_ACSF_expand_PCA.pickle_32_128_0.4_3_3_2_50__interleave.csv   \n",
       "5          results_False_<class 'functions_refactor.MEGNet_block'>_<class 'functions_refactor.feedforwardHead_Update'>__data_ACSF_expand_PCA.pickle_32_128_0.4_3_3_2_20_base.csv   \n",
       "72                   results_False_<class 'functions_refactor.schnet_block'>_<class 'functions_refactor.cat3Head_type'>__data_atomInfo.pickle_32_512_2_3_2_3_50_type_1_start.csv   \n",
       "9          results_False_<class 'functions_refactor.MEGNet_block'>_<class 'functions_refactor.feedforwardHead_Update'>__data_SOAP_expand_PCA.pickle_32_128_0.4_3_3_2_10_base.csv   \n",
       "\n",
       "    val_type_1  \n",
       "77   -1.587212  \n",
       "7    -1.516606  \n",
       "5    -1.514008  \n",
       "72   -1.505876  \n",
       "9    -1.501639  "
      ]
     },
     "execution_count": 6,
     "metadata": {},
     "output_type": "execute_result"
    }
   ],
   "source": [
    "type_ = 1\n",
    "temp = df.groupby(['file_name'])['val_type_'+str(type_)].min().reset_index().fillna(100).sort_values('val_type_'+str(type_))\n",
    "temp.iloc[0:5]"
   ]
  },
  {
   "cell_type": "code",
   "execution_count": 7,
   "metadata": {
    "scrolled": false
   },
   "outputs": [
    {
     "data": {
      "text/plain": [
       "[\"results__class 'functions_refactor.feedforwardHead_Update'___data_SOAP_expand_PCA_otherInfo.pickle_512_True_2.6570633338233756_3_5_2.csv\",\n",
       " \"results_False_<class 'functions_refactor.MEGNet_block'>_<class 'functions_refactor.feedforwardHead_Update'>__data_ACSF_expand_PCA.pickle_32_128_0.4_3_3_2_50__interleave.csv\",\n",
       " \"results_False_<class 'functions_refactor.MEGNet_block'>_<class 'functions_refactor.feedforwardHead_Update'>__data_ACSF_expand_PCA.pickle_32_128_0.4_3_3_2_20_base.csv\",\n",
       " \"results_False_<class 'functions_refactor.schnet_block'>_<class 'functions_refactor.cat3Head_type'>__data_atomInfo.pickle_32_512_2_3_2_3_50_type_1_start.csv\"]"
      ]
     },
     "execution_count": 7,
     "metadata": {},
     "output_type": "execute_result"
    }
   ],
   "source": [
    "topK = 4\n",
    "results_list.append(temp['file_name'].iloc[:topK].tolist())\n",
    "temp['file_name'].iloc[:topK].tolist()"
   ]
  },
  {
   "cell_type": "code",
   "execution_count": null,
   "metadata": {},
   "outputs": [],
   "source": []
  },
  {
   "cell_type": "code",
   "execution_count": null,
   "metadata": {},
   "outputs": [],
   "source": []
  },
  {
   "cell_type": "code",
   "execution_count": 8,
   "metadata": {
    "scrolled": true
   },
   "outputs": [
    {
     "data": {
      "text/html": [
       "<div>\n",
       "<style scoped>\n",
       "    .dataframe tbody tr th:only-of-type {\n",
       "        vertical-align: middle;\n",
       "    }\n",
       "\n",
       "    .dataframe tbody tr th {\n",
       "        vertical-align: top;\n",
       "    }\n",
       "\n",
       "    .dataframe thead th {\n",
       "        text-align: right;\n",
       "    }\n",
       "</style>\n",
       "<table border=\"1\" class=\"dataframe\">\n",
       "  <thead>\n",
       "    <tr style=\"text-align: right;\">\n",
       "      <th></th>\n",
       "      <th>file_name</th>\n",
       "      <th>val_type_2</th>\n",
       "    </tr>\n",
       "  </thead>\n",
       "  <tbody>\n",
       "    <tr>\n",
       "      <th>73</th>\n",
       "      <td>results_False_&lt;class 'functions_refactor.schnet_block'&gt;_&lt;class 'functions_refactor.cat3Head_type'&gt;__data_atomInfo.pickle_32_512_2_3_2_3_50_type_2_start.csv</td>\n",
       "      <td>-2.075219</td>\n",
       "    </tr>\n",
       "    <tr>\n",
       "      <th>24</th>\n",
       "      <td>results_False_&lt;class 'functions_refactor.NNConv_block'&gt;_&lt;class 'functions_refactor.SimpleHead_type'&gt;__data_ACSF_expand_PCA.pickle_32_256_2_2_2_2_50_type_2_start.csv</td>\n",
       "      <td>-2.021929</td>\n",
       "    </tr>\n",
       "    <tr>\n",
       "      <th>32</th>\n",
       "      <td>results_False_&lt;class 'functions_refactor.NNConv_block'&gt;_&lt;class 'functions_refactor.cat3Head_type'&gt;__data_ACSF_expand.pickle_32_128_2_2_2_2_25_type_2_start.csv</td>\n",
       "      <td>-1.826470</td>\n",
       "    </tr>\n",
       "    <tr>\n",
       "      <th>17</th>\n",
       "      <td>results_False_&lt;class 'functions_refactor.NNConv_block'&gt;_&lt;class 'functions_refactor.SimpleHead_type'&gt;__data_ACSF_expand_PCA.pickle_32_128_2_3_2_2_50_type_2_start.csv</td>\n",
       "      <td>-1.825232</td>\n",
       "    </tr>\n",
       "    <tr>\n",
       "      <th>77</th>\n",
       "      <td>results__class 'functions_refactor.feedforwardHead_Update'___data_SOAP_expand_PCA_otherInfo.pickle_512_True_2.6570633338233756_3_5_2.csv</td>\n",
       "      <td>-1.694236</td>\n",
       "    </tr>\n",
       "  </tbody>\n",
       "</table>\n",
       "</div>"
      ],
      "text/plain": [
       "                                                                                                                                                               file_name  \\\n",
       "73           results_False_<class 'functions_refactor.schnet_block'>_<class 'functions_refactor.cat3Head_type'>__data_atomInfo.pickle_32_512_2_3_2_3_50_type_2_start.csv   \n",
       "24  results_False_<class 'functions_refactor.NNConv_block'>_<class 'functions_refactor.SimpleHead_type'>__data_ACSF_expand_PCA.pickle_32_256_2_2_2_2_50_type_2_start.csv   \n",
       "32        results_False_<class 'functions_refactor.NNConv_block'>_<class 'functions_refactor.cat3Head_type'>__data_ACSF_expand.pickle_32_128_2_2_2_2_25_type_2_start.csv   \n",
       "17  results_False_<class 'functions_refactor.NNConv_block'>_<class 'functions_refactor.SimpleHead_type'>__data_ACSF_expand_PCA.pickle_32_128_2_3_2_2_50_type_2_start.csv   \n",
       "77                              results__class 'functions_refactor.feedforwardHead_Update'___data_SOAP_expand_PCA_otherInfo.pickle_512_True_2.6570633338233756_3_5_2.csv   \n",
       "\n",
       "    val_type_2  \n",
       "73   -2.075219  \n",
       "24   -2.021929  \n",
       "32   -1.826470  \n",
       "17   -1.825232  \n",
       "77   -1.694236  "
      ]
     },
     "execution_count": 8,
     "metadata": {},
     "output_type": "execute_result"
    }
   ],
   "source": [
    "type_ = 2\n",
    "temp = df.groupby(['file_name'])['val_type_'+str(type_)].min().reset_index().fillna(100).sort_values('val_type_'+str(type_))\n",
    "temp.iloc[0:5]"
   ]
  },
  {
   "cell_type": "code",
   "execution_count": 9,
   "metadata": {
    "scrolled": false
   },
   "outputs": [
    {
     "data": {
      "text/plain": [
       "[\"results_False_<class 'functions_refactor.schnet_block'>_<class 'functions_refactor.cat3Head_type'>__data_atomInfo.pickle_32_512_2_3_2_3_50_type_2_start.csv\",\n",
       " \"results_False_<class 'functions_refactor.NNConv_block'>_<class 'functions_refactor.SimpleHead_type'>__data_ACSF_expand_PCA.pickle_32_256_2_2_2_2_50_type_2_start.csv\"]"
      ]
     },
     "execution_count": 9,
     "metadata": {},
     "output_type": "execute_result"
    }
   ],
   "source": [
    "topK = 2\n",
    "results_list.append(temp['file_name'].iloc[:topK].tolist())\n",
    "temp['file_name'].iloc[:topK].tolist()"
   ]
  },
  {
   "cell_type": "code",
   "execution_count": null,
   "metadata": {},
   "outputs": [],
   "source": []
  },
  {
   "cell_type": "code",
   "execution_count": null,
   "metadata": {},
   "outputs": [],
   "source": []
  },
  {
   "cell_type": "code",
   "execution_count": null,
   "metadata": {},
   "outputs": [],
   "source": []
  },
  {
   "cell_type": "code",
   "execution_count": 10,
   "metadata": {
    "scrolled": true
   },
   "outputs": [
    {
     "data": {
      "text/html": [
       "<div>\n",
       "<style scoped>\n",
       "    .dataframe tbody tr th:only-of-type {\n",
       "        vertical-align: middle;\n",
       "    }\n",
       "\n",
       "    .dataframe tbody tr th {\n",
       "        vertical-align: top;\n",
       "    }\n",
       "\n",
       "    .dataframe thead th {\n",
       "        text-align: right;\n",
       "    }\n",
       "</style>\n",
       "<table border=\"1\" class=\"dataframe\">\n",
       "  <thead>\n",
       "    <tr style=\"text-align: right;\">\n",
       "      <th></th>\n",
       "      <th>file_name</th>\n",
       "      <th>val_type_3</th>\n",
       "    </tr>\n",
       "  </thead>\n",
       "  <tbody>\n",
       "    <tr>\n",
       "      <th>25</th>\n",
       "      <td>results_False_&lt;class 'functions_refactor.NNConv_block'&gt;_&lt;class 'functions_refactor.SimpleHead_type'&gt;__data_ACSF_expand_PCA.pickle_32_256_2_2_2_2_50_type_3_start.csv</td>\n",
       "      <td>-2.710183</td>\n",
       "    </tr>\n",
       "    <tr>\n",
       "      <th>5</th>\n",
       "      <td>results_False_&lt;class 'functions_refactor.MEGNet_block'&gt;_&lt;class 'functions_refactor.feedforwardHead_Update'&gt;__data_ACSF_expand_PCA.pickle_32_128_0.4_3_3_2_20_base.csv</td>\n",
       "      <td>-2.686631</td>\n",
       "    </tr>\n",
       "    <tr>\n",
       "      <th>78</th>\n",
       "      <td>results__class 'functions_refactor.feedforwardHead_Update'___data_atomInfo_otherInfo.pickle_128_True_0.08350674679949754_3_5_3.csv</td>\n",
       "      <td>-2.644382</td>\n",
       "    </tr>\n",
       "    <tr>\n",
       "      <th>9</th>\n",
       "      <td>results_False_&lt;class 'functions_refactor.MEGNet_block'&gt;_&lt;class 'functions_refactor.feedforwardHead_Update'&gt;__data_SOAP_expand_PCA.pickle_32_128_0.4_3_3_2_10_base.csv</td>\n",
       "      <td>-2.587380</td>\n",
       "    </tr>\n",
       "    <tr>\n",
       "      <th>11</th>\n",
       "      <td>results_False_&lt;class 'functions_refactor.MEGNet_block'&gt;_&lt;class 'functions_refactor.feedforwardHead_Update'&gt;__data_atomInfo.pickle_32_128_0.4_3_3_2_50_base.csv</td>\n",
       "      <td>-2.582765</td>\n",
       "    </tr>\n",
       "  </tbody>\n",
       "</table>\n",
       "</div>"
      ],
      "text/plain": [
       "                                                                                                                                                                file_name  \\\n",
       "25   results_False_<class 'functions_refactor.NNConv_block'>_<class 'functions_refactor.SimpleHead_type'>__data_ACSF_expand_PCA.pickle_32_256_2_2_2_2_50_type_3_start.csv   \n",
       "5   results_False_<class 'functions_refactor.MEGNet_block'>_<class 'functions_refactor.feedforwardHead_Update'>__data_ACSF_expand_PCA.pickle_32_128_0.4_3_3_2_20_base.csv   \n",
       "78                                     results__class 'functions_refactor.feedforwardHead_Update'___data_atomInfo_otherInfo.pickle_128_True_0.08350674679949754_3_5_3.csv   \n",
       "9   results_False_<class 'functions_refactor.MEGNet_block'>_<class 'functions_refactor.feedforwardHead_Update'>__data_SOAP_expand_PCA.pickle_32_128_0.4_3_3_2_10_base.csv   \n",
       "11         results_False_<class 'functions_refactor.MEGNet_block'>_<class 'functions_refactor.feedforwardHead_Update'>__data_atomInfo.pickle_32_128_0.4_3_3_2_50_base.csv   \n",
       "\n",
       "    val_type_3  \n",
       "25   -2.710183  \n",
       "5    -2.686631  \n",
       "78   -2.644382  \n",
       "9    -2.587380  \n",
       "11   -2.582765  "
      ]
     },
     "execution_count": 10,
     "metadata": {},
     "output_type": "execute_result"
    }
   ],
   "source": [
    "type_ = 3\n",
    "temp = df.groupby(['file_name'])['val_type_'+str(type_)].min().reset_index().fillna(100).sort_values('val_type_'+str(type_))\n",
    "temp.iloc[0:5]"
   ]
  },
  {
   "cell_type": "code",
   "execution_count": 11,
   "metadata": {
    "scrolled": true
   },
   "outputs": [
    {
     "data": {
      "text/plain": [
       "[\"results_False_<class 'functions_refactor.NNConv_block'>_<class 'functions_refactor.SimpleHead_type'>__data_ACSF_expand_PCA.pickle_32_256_2_2_2_2_50_type_3_start.csv\",\n",
       " \"results_False_<class 'functions_refactor.MEGNet_block'>_<class 'functions_refactor.feedforwardHead_Update'>__data_ACSF_expand_PCA.pickle_32_128_0.4_3_3_2_20_base.csv\"]"
      ]
     },
     "execution_count": 11,
     "metadata": {},
     "output_type": "execute_result"
    }
   ],
   "source": [
    "topK = 2\n",
    "results_list.append(temp['file_name'].iloc[:topK].tolist())\n",
    "temp['file_name'].iloc[:topK].tolist()"
   ]
  },
  {
   "cell_type": "code",
   "execution_count": null,
   "metadata": {},
   "outputs": [],
   "source": []
  },
  {
   "cell_type": "code",
   "execution_count": null,
   "metadata": {},
   "outputs": [],
   "source": []
  },
  {
   "cell_type": "code",
   "execution_count": null,
   "metadata": {},
   "outputs": [],
   "source": []
  },
  {
   "cell_type": "code",
   "execution_count": 12,
   "metadata": {
    "scrolled": true
   },
   "outputs": [
    {
     "data": {
      "text/html": [
       "<div>\n",
       "<style scoped>\n",
       "    .dataframe tbody tr th:only-of-type {\n",
       "        vertical-align: middle;\n",
       "    }\n",
       "\n",
       "    .dataframe tbody tr th {\n",
       "        vertical-align: top;\n",
       "    }\n",
       "\n",
       "    .dataframe thead th {\n",
       "        text-align: right;\n",
       "    }\n",
       "</style>\n",
       "<table border=\"1\" class=\"dataframe\">\n",
       "  <thead>\n",
       "    <tr style=\"text-align: right;\">\n",
       "      <th></th>\n",
       "      <th>file_name</th>\n",
       "      <th>val_type_4</th>\n",
       "    </tr>\n",
       "  </thead>\n",
       "  <tbody>\n",
       "    <tr>\n",
       "      <th>5</th>\n",
       "      <td>results_False_&lt;class 'functions_refactor.MEGNet_block'&gt;_&lt;class 'functions_refactor.feedforwardHead_Update'&gt;__data_ACSF_expand_PCA.pickle_32_128_0.4_3_3_2_20_base.csv</td>\n",
       "      <td>-2.567998</td>\n",
       "    </tr>\n",
       "    <tr>\n",
       "      <th>74</th>\n",
       "      <td>results_False_&lt;class 'functions_refactor.schnet_block'&gt;_&lt;class 'functions_refactor.cat3Head_type'&gt;__data_atomInfo.pickle_32_512_2_3_2_3_50_type_4_start.csv</td>\n",
       "      <td>-2.555311</td>\n",
       "    </tr>\n",
       "    <tr>\n",
       "      <th>77</th>\n",
       "      <td>results__class 'functions_refactor.feedforwardHead_Update'___data_SOAP_expand_PCA_otherInfo.pickle_512_True_2.6570633338233756_3_5_2.csv</td>\n",
       "      <td>-2.546322</td>\n",
       "    </tr>\n",
       "    <tr>\n",
       "      <th>26</th>\n",
       "      <td>results_False_&lt;class 'functions_refactor.NNConv_block'&gt;_&lt;class 'functions_refactor.SimpleHead_type'&gt;__data_ACSF_expand_PCA.pickle_32_256_2_2_2_2_50_type_4_start.csv</td>\n",
       "      <td>-2.510066</td>\n",
       "    </tr>\n",
       "    <tr>\n",
       "      <th>78</th>\n",
       "      <td>results__class 'functions_refactor.feedforwardHead_Update'___data_atomInfo_otherInfo.pickle_128_True_0.08350674679949754_3_5_3.csv</td>\n",
       "      <td>-2.501237</td>\n",
       "    </tr>\n",
       "  </tbody>\n",
       "</table>\n",
       "</div>"
      ],
      "text/plain": [
       "                                                                                                                                                                file_name  \\\n",
       "5   results_False_<class 'functions_refactor.MEGNet_block'>_<class 'functions_refactor.feedforwardHead_Update'>__data_ACSF_expand_PCA.pickle_32_128_0.4_3_3_2_20_base.csv   \n",
       "74            results_False_<class 'functions_refactor.schnet_block'>_<class 'functions_refactor.cat3Head_type'>__data_atomInfo.pickle_32_512_2_3_2_3_50_type_4_start.csv   \n",
       "77                               results__class 'functions_refactor.feedforwardHead_Update'___data_SOAP_expand_PCA_otherInfo.pickle_512_True_2.6570633338233756_3_5_2.csv   \n",
       "26   results_False_<class 'functions_refactor.NNConv_block'>_<class 'functions_refactor.SimpleHead_type'>__data_ACSF_expand_PCA.pickle_32_256_2_2_2_2_50_type_4_start.csv   \n",
       "78                                     results__class 'functions_refactor.feedforwardHead_Update'___data_atomInfo_otherInfo.pickle_128_True_0.08350674679949754_3_5_3.csv   \n",
       "\n",
       "    val_type_4  \n",
       "5    -2.567998  \n",
       "74   -2.555311  \n",
       "77   -2.546322  \n",
       "26   -2.510066  \n",
       "78   -2.501237  "
      ]
     },
     "execution_count": 12,
     "metadata": {},
     "output_type": "execute_result"
    }
   ],
   "source": [
    "type_ = 4\n",
    "temp = df.groupby(['file_name'])['val_type_'+str(type_)].min().reset_index().fillna(100).sort_values('val_type_'+str(type_))\n",
    "temp.iloc[0:5]"
   ]
  },
  {
   "cell_type": "code",
   "execution_count": 13,
   "metadata": {
    "scrolled": false
   },
   "outputs": [
    {
     "data": {
      "text/plain": [
       "[\"results_False_<class 'functions_refactor.MEGNet_block'>_<class 'functions_refactor.feedforwardHead_Update'>__data_ACSF_expand_PCA.pickle_32_128_0.4_3_3_2_20_base.csv\",\n",
       " \"results_False_<class 'functions_refactor.schnet_block'>_<class 'functions_refactor.cat3Head_type'>__data_atomInfo.pickle_32_512_2_3_2_3_50_type_4_start.csv\",\n",
       " \"results__class 'functions_refactor.feedforwardHead_Update'___data_SOAP_expand_PCA_otherInfo.pickle_512_True_2.6570633338233756_3_5_2.csv\"]"
      ]
     },
     "execution_count": 13,
     "metadata": {},
     "output_type": "execute_result"
    }
   ],
   "source": [
    "topK = 3\n",
    "results_list.append(temp['file_name'].iloc[:topK].tolist())\n",
    "temp['file_name'].iloc[:topK].tolist()"
   ]
  },
  {
   "cell_type": "code",
   "execution_count": null,
   "metadata": {},
   "outputs": [],
   "source": []
  },
  {
   "cell_type": "code",
   "execution_count": null,
   "metadata": {},
   "outputs": [],
   "source": []
  },
  {
   "cell_type": "code",
   "execution_count": 14,
   "metadata": {
    "scrolled": true
   },
   "outputs": [
    {
     "data": {
      "text/html": [
       "<div>\n",
       "<style scoped>\n",
       "    .dataframe tbody tr th:only-of-type {\n",
       "        vertical-align: middle;\n",
       "    }\n",
       "\n",
       "    .dataframe tbody tr th {\n",
       "        vertical-align: top;\n",
       "    }\n",
       "\n",
       "    .dataframe thead th {\n",
       "        text-align: right;\n",
       "    }\n",
       "</style>\n",
       "<table border=\"1\" class=\"dataframe\">\n",
       "  <thead>\n",
       "    <tr style=\"text-align: right;\">\n",
       "      <th></th>\n",
       "      <th>file_name</th>\n",
       "      <th>val_type_5</th>\n",
       "    </tr>\n",
       "  </thead>\n",
       "  <tbody>\n",
       "    <tr>\n",
       "      <th>75</th>\n",
       "      <td>results_False_&lt;class 'functions_refactor.schnet_block'&gt;_&lt;class 'functions_refactor.cat3Head_type'&gt;__data_atomInfo.pickle_32_512_2_3_2_3_50_type_5_start.csv</td>\n",
       "      <td>-1.737660</td>\n",
       "    </tr>\n",
       "    <tr>\n",
       "      <th>77</th>\n",
       "      <td>results__class 'functions_refactor.feedforwardHead_Update'___data_SOAP_expand_PCA_otherInfo.pickle_512_True_2.6570633338233756_3_5_2.csv</td>\n",
       "      <td>-1.488250</td>\n",
       "    </tr>\n",
       "    <tr>\n",
       "      <th>27</th>\n",
       "      <td>results_False_&lt;class 'functions_refactor.NNConv_block'&gt;_&lt;class 'functions_refactor.SimpleHead_type'&gt;__data_ACSF_expand_PCA.pickle_32_256_2_2_2_2_50_type_5_start.csv</td>\n",
       "      <td>-1.474216</td>\n",
       "    </tr>\n",
       "    <tr>\n",
       "      <th>35</th>\n",
       "      <td>results_False_&lt;class 'functions_refactor.NNConv_block'&gt;_&lt;class 'functions_refactor.cat3Head_type'&gt;__data_ACSF_expand.pickle_32_128_2_2_2_2_25_type_5_start.csv</td>\n",
       "      <td>-1.393133</td>\n",
       "    </tr>\n",
       "    <tr>\n",
       "      <th>5</th>\n",
       "      <td>results_False_&lt;class 'functions_refactor.MEGNet_block'&gt;_&lt;class 'functions_refactor.feedforwardHead_Update'&gt;__data_ACSF_expand_PCA.pickle_32_128_0.4_3_3_2_20_base.csv</td>\n",
       "      <td>-1.346830</td>\n",
       "    </tr>\n",
       "  </tbody>\n",
       "</table>\n",
       "</div>"
      ],
      "text/plain": [
       "                                                                                                                                                                file_name  \\\n",
       "75            results_False_<class 'functions_refactor.schnet_block'>_<class 'functions_refactor.cat3Head_type'>__data_atomInfo.pickle_32_512_2_3_2_3_50_type_5_start.csv   \n",
       "77                               results__class 'functions_refactor.feedforwardHead_Update'___data_SOAP_expand_PCA_otherInfo.pickle_512_True_2.6570633338233756_3_5_2.csv   \n",
       "27   results_False_<class 'functions_refactor.NNConv_block'>_<class 'functions_refactor.SimpleHead_type'>__data_ACSF_expand_PCA.pickle_32_256_2_2_2_2_50_type_5_start.csv   \n",
       "35         results_False_<class 'functions_refactor.NNConv_block'>_<class 'functions_refactor.cat3Head_type'>__data_ACSF_expand.pickle_32_128_2_2_2_2_25_type_5_start.csv   \n",
       "5   results_False_<class 'functions_refactor.MEGNet_block'>_<class 'functions_refactor.feedforwardHead_Update'>__data_ACSF_expand_PCA.pickle_32_128_0.4_3_3_2_20_base.csv   \n",
       "\n",
       "    val_type_5  \n",
       "75   -1.737660  \n",
       "77   -1.488250  \n",
       "27   -1.474216  \n",
       "35   -1.393133  \n",
       "5    -1.346830  "
      ]
     },
     "execution_count": 14,
     "metadata": {},
     "output_type": "execute_result"
    }
   ],
   "source": [
    "type_ = 5\n",
    "temp = df.groupby(['file_name'])['val_type_'+str(type_)].min().reset_index().fillna(100).sort_values('val_type_'+str(type_))\n",
    "temp.iloc[0:5]"
   ]
  },
  {
   "cell_type": "code",
   "execution_count": 15,
   "metadata": {
    "scrolled": true
   },
   "outputs": [
    {
     "data": {
      "text/plain": [
       "[\"results_False_<class 'functions_refactor.schnet_block'>_<class 'functions_refactor.cat3Head_type'>__data_atomInfo.pickle_32_512_2_3_2_3_50_type_5_start.csv\"]"
      ]
     },
     "execution_count": 15,
     "metadata": {},
     "output_type": "execute_result"
    }
   ],
   "source": [
    "topK = 1\n",
    "results_list.append(temp['file_name'].iloc[:topK].tolist())\n",
    "temp['file_name'].iloc[:topK].tolist()"
   ]
  },
  {
   "cell_type": "code",
   "execution_count": null,
   "metadata": {},
   "outputs": [],
   "source": []
  },
  {
   "cell_type": "code",
   "execution_count": null,
   "metadata": {},
   "outputs": [],
   "source": []
  },
  {
   "cell_type": "code",
   "execution_count": null,
   "metadata": {},
   "outputs": [],
   "source": []
  },
  {
   "cell_type": "code",
   "execution_count": 16,
   "metadata": {
    "scrolled": true
   },
   "outputs": [
    {
     "data": {
      "text/html": [
       "<div>\n",
       "<style scoped>\n",
       "    .dataframe tbody tr th:only-of-type {\n",
       "        vertical-align: middle;\n",
       "    }\n",
       "\n",
       "    .dataframe tbody tr th {\n",
       "        vertical-align: top;\n",
       "    }\n",
       "\n",
       "    .dataframe thead th {\n",
       "        text-align: right;\n",
       "    }\n",
       "</style>\n",
       "<table border=\"1\" class=\"dataframe\">\n",
       "  <thead>\n",
       "    <tr style=\"text-align: right;\">\n",
       "      <th></th>\n",
       "      <th>file_name</th>\n",
       "      <th>val_type_6</th>\n",
       "    </tr>\n",
       "  </thead>\n",
       "  <tbody>\n",
       "    <tr>\n",
       "      <th>78</th>\n",
       "      <td>results__class 'functions_refactor.feedforwardHead_Update'___data_atomInfo_otherInfo.pickle_128_True_0.08350674679949754_3_5_3.csv</td>\n",
       "      <td>-2.415497</td>\n",
       "    </tr>\n",
       "    <tr>\n",
       "      <th>5</th>\n",
       "      <td>results_False_&lt;class 'functions_refactor.MEGNet_block'&gt;_&lt;class 'functions_refactor.feedforwardHead_Update'&gt;__data_ACSF_expand_PCA.pickle_32_128_0.4_3_3_2_20_base.csv</td>\n",
       "      <td>-2.390994</td>\n",
       "    </tr>\n",
       "    <tr>\n",
       "      <th>77</th>\n",
       "      <td>results__class 'functions_refactor.feedforwardHead_Update'___data_SOAP_expand_PCA_otherInfo.pickle_512_True_2.6570633338233756_3_5_2.csv</td>\n",
       "      <td>-2.380541</td>\n",
       "    </tr>\n",
       "    <tr>\n",
       "      <th>9</th>\n",
       "      <td>results_False_&lt;class 'functions_refactor.MEGNet_block'&gt;_&lt;class 'functions_refactor.feedforwardHead_Update'&gt;__data_SOAP_expand_PCA.pickle_32_128_0.4_3_3_2_10_base.csv</td>\n",
       "      <td>-2.332992</td>\n",
       "    </tr>\n",
       "    <tr>\n",
       "      <th>10</th>\n",
       "      <td>results_False_&lt;class 'functions_refactor.MEGNet_block'&gt;_&lt;class 'functions_refactor.feedforwardHead_Update'&gt;__data_SOAP_expand_PCA.pickle_32_128_0.4_3_3_2_50_base.csv</td>\n",
       "      <td>-2.314841</td>\n",
       "    </tr>\n",
       "  </tbody>\n",
       "</table>\n",
       "</div>"
      ],
      "text/plain": [
       "                                                                                                                                                                file_name  \\\n",
       "78                                     results__class 'functions_refactor.feedforwardHead_Update'___data_atomInfo_otherInfo.pickle_128_True_0.08350674679949754_3_5_3.csv   \n",
       "5   results_False_<class 'functions_refactor.MEGNet_block'>_<class 'functions_refactor.feedforwardHead_Update'>__data_ACSF_expand_PCA.pickle_32_128_0.4_3_3_2_20_base.csv   \n",
       "77                               results__class 'functions_refactor.feedforwardHead_Update'___data_SOAP_expand_PCA_otherInfo.pickle_512_True_2.6570633338233756_3_5_2.csv   \n",
       "9   results_False_<class 'functions_refactor.MEGNet_block'>_<class 'functions_refactor.feedforwardHead_Update'>__data_SOAP_expand_PCA.pickle_32_128_0.4_3_3_2_10_base.csv   \n",
       "10  results_False_<class 'functions_refactor.MEGNet_block'>_<class 'functions_refactor.feedforwardHead_Update'>__data_SOAP_expand_PCA.pickle_32_128_0.4_3_3_2_50_base.csv   \n",
       "\n",
       "    val_type_6  \n",
       "78   -2.415497  \n",
       "5    -2.390994  \n",
       "77   -2.380541  \n",
       "9    -2.332992  \n",
       "10   -2.314841  "
      ]
     },
     "execution_count": 16,
     "metadata": {},
     "output_type": "execute_result"
    }
   ],
   "source": [
    "type_ = 6\n",
    "temp = df.groupby(['file_name'])['val_type_'+str(type_)].min().reset_index().fillna(100).sort_values('val_type_'+str(type_))\n",
    "temp.iloc[0:5]"
   ]
  },
  {
   "cell_type": "code",
   "execution_count": 17,
   "metadata": {
    "scrolled": true
   },
   "outputs": [
    {
     "data": {
      "text/plain": [
       "[\"results__class 'functions_refactor.feedforwardHead_Update'___data_atomInfo_otherInfo.pickle_128_True_0.08350674679949754_3_5_3.csv\",\n",
       " \"results_False_<class 'functions_refactor.MEGNet_block'>_<class 'functions_refactor.feedforwardHead_Update'>__data_ACSF_expand_PCA.pickle_32_128_0.4_3_3_2_20_base.csv\",\n",
       " \"results__class 'functions_refactor.feedforwardHead_Update'___data_SOAP_expand_PCA_otherInfo.pickle_512_True_2.6570633338233756_3_5_2.csv\"]"
      ]
     },
     "execution_count": 17,
     "metadata": {},
     "output_type": "execute_result"
    }
   ],
   "source": [
    "topK = 3\n",
    "results_list.append(temp['file_name'].iloc[:topK].tolist())\n",
    "temp['file_name'].iloc[:topK].tolist()"
   ]
  },
  {
   "cell_type": "code",
   "execution_count": null,
   "metadata": {},
   "outputs": [],
   "source": []
  },
  {
   "cell_type": "code",
   "execution_count": null,
   "metadata": {},
   "outputs": [],
   "source": []
  },
  {
   "cell_type": "code",
   "execution_count": 18,
   "metadata": {
    "scrolled": true
   },
   "outputs": [
    {
     "data": {
      "text/html": [
       "<div>\n",
       "<style scoped>\n",
       "    .dataframe tbody tr th:only-of-type {\n",
       "        vertical-align: middle;\n",
       "    }\n",
       "\n",
       "    .dataframe tbody tr th {\n",
       "        vertical-align: top;\n",
       "    }\n",
       "\n",
       "    .dataframe thead th {\n",
       "        text-align: right;\n",
       "    }\n",
       "</style>\n",
       "<table border=\"1\" class=\"dataframe\">\n",
       "  <thead>\n",
       "    <tr style=\"text-align: right;\">\n",
       "      <th></th>\n",
       "      <th>file_name</th>\n",
       "      <th>val_type_7</th>\n",
       "    </tr>\n",
       "  </thead>\n",
       "  <tbody>\n",
       "    <tr>\n",
       "      <th>77</th>\n",
       "      <td>results__class 'functions_refactor.feedforwardHead_Update'___data_SOAP_expand_PCA_otherInfo.pickle_512_True_2.6570633338233756_3_5_2.csv</td>\n",
       "      <td>-2.746075</td>\n",
       "    </tr>\n",
       "    <tr>\n",
       "      <th>76</th>\n",
       "      <td>results_False_&lt;class 'functions_refactor.schnet_block'&gt;_&lt;class 'functions_refactor.cat3Head_type'&gt;__data_atomInfo.pickle_32_512_2_3_2_3_50_type_7_start.csv</td>\n",
       "      <td>-2.725970</td>\n",
       "    </tr>\n",
       "    <tr>\n",
       "      <th>5</th>\n",
       "      <td>results_False_&lt;class 'functions_refactor.MEGNet_block'&gt;_&lt;class 'functions_refactor.feedforwardHead_Update'&gt;__data_ACSF_expand_PCA.pickle_32_128_0.4_3_3_2_20_base.csv</td>\n",
       "      <td>-2.680051</td>\n",
       "    </tr>\n",
       "    <tr>\n",
       "      <th>29</th>\n",
       "      <td>results_False_&lt;class 'functions_refactor.NNConv_block'&gt;_&lt;class 'functions_refactor.SimpleHead_type'&gt;__data_ACSF_expand_PCA.pickle_32_256_2_2_2_2_50_type_7_start.csv</td>\n",
       "      <td>-2.636108</td>\n",
       "    </tr>\n",
       "    <tr>\n",
       "      <th>9</th>\n",
       "      <td>results_False_&lt;class 'functions_refactor.MEGNet_block'&gt;_&lt;class 'functions_refactor.feedforwardHead_Update'&gt;__data_SOAP_expand_PCA.pickle_32_128_0.4_3_3_2_10_base.csv</td>\n",
       "      <td>-2.623470</td>\n",
       "    </tr>\n",
       "  </tbody>\n",
       "</table>\n",
       "</div>"
      ],
      "text/plain": [
       "                                                                                                                                                                file_name  \\\n",
       "77                               results__class 'functions_refactor.feedforwardHead_Update'___data_SOAP_expand_PCA_otherInfo.pickle_512_True_2.6570633338233756_3_5_2.csv   \n",
       "76            results_False_<class 'functions_refactor.schnet_block'>_<class 'functions_refactor.cat3Head_type'>__data_atomInfo.pickle_32_512_2_3_2_3_50_type_7_start.csv   \n",
       "5   results_False_<class 'functions_refactor.MEGNet_block'>_<class 'functions_refactor.feedforwardHead_Update'>__data_ACSF_expand_PCA.pickle_32_128_0.4_3_3_2_20_base.csv   \n",
       "29   results_False_<class 'functions_refactor.NNConv_block'>_<class 'functions_refactor.SimpleHead_type'>__data_ACSF_expand_PCA.pickle_32_256_2_2_2_2_50_type_7_start.csv   \n",
       "9   results_False_<class 'functions_refactor.MEGNet_block'>_<class 'functions_refactor.feedforwardHead_Update'>__data_SOAP_expand_PCA.pickle_32_128_0.4_3_3_2_10_base.csv   \n",
       "\n",
       "    val_type_7  \n",
       "77   -2.746075  \n",
       "76   -2.725970  \n",
       "5    -2.680051  \n",
       "29   -2.636108  \n",
       "9    -2.623470  "
      ]
     },
     "execution_count": 18,
     "metadata": {},
     "output_type": "execute_result"
    }
   ],
   "source": [
    "type_ = 7\n",
    "temp = df.groupby(['file_name'])['val_type_'+str(type_)].min().reset_index().fillna(100).sort_values('val_type_'+str(type_))\n",
    "temp.iloc[0:5]"
   ]
  },
  {
   "cell_type": "code",
   "execution_count": 19,
   "metadata": {
    "scrolled": true
   },
   "outputs": [
    {
     "data": {
      "text/plain": [
       "[\"results_False_<class 'functions_refactor.schnet_block'>_<class 'functions_refactor.cat3Head_type'>__data_atomInfo.pickle_32_512_2_3_2_3_50_type_7_start.csv\",\n",
       " \"results_False_<class 'functions_refactor.MEGNet_block'>_<class 'functions_refactor.feedforwardHead_Update'>__data_ACSF_expand_PCA.pickle_32_128_0.4_3_3_2_20_base.csv\",\n",
       " \"results_False_<class 'functions_refactor.NNConv_block'>_<class 'functions_refactor.SimpleHead_type'>__data_ACSF_expand_PCA.pickle_32_256_2_2_2_2_50_type_7_start.csv\"]"
      ]
     },
     "execution_count": 19,
     "metadata": {},
     "output_type": "execute_result"
    }
   ],
   "source": [
    "topK = 3\n",
    "results_list.append(temp['file_name'].iloc[:topK].tolist())\n",
    "temp['file_name'].iloc[:topK].tolist()"
   ]
  },
  {
   "cell_type": "code",
   "execution_count": null,
   "metadata": {},
   "outputs": [],
   "source": []
  },
  {
   "cell_type": "code",
   "execution_count": 22,
   "metadata": {},
   "outputs": [
    {
     "data": {
      "text/plain": [
       "[[\"results_False_<class 'functions_refactor.NNConv_block'>_<class 'functions_refactor.SimpleHead_type'>__data_ACSF_expand_PCA.pickle_32_256_2_2_2_2_50_type_0_start.csv\"],\n",
       " [\"results_False_<class 'functions_refactor.MEGNet_block'>_<class 'functions_refactor.feedforwardHead_Update'>__data_ACSF_expand_PCA.pickle_32_128_0.4_3_3_2_20_base.csv\",\n",
       "  \"results_False_<class 'functions_refactor.MEGNet_block'>_<class 'functions_refactor.feedforwardHead_Update'>__data_SOAP_expand_PCA.pickle_32_128_0.4_3_3_2_10_base.csv\",\n",
       "  \"results_False_<class 'functions_refactor.MEGNet_block'>_<class 'functions_refactor.feedforwardHead_Update'>__data_SOAP_expand_PCA.pickle_32_128_0.4_3_3_2_50_base.csv\",\n",
       "  \"results_False_<class 'functions_refactor.NNConv_block'>_<class 'functions_refactor.SimpleHead_type'>__data_ACSF_expand_PCA.pickle_32_256_2_2_2_2_50_type_1_start.csv\"],\n",
       " [\"results_False_<class 'functions_refactor.NNConv_block'>_<class 'functions_refactor.SimpleHead_type'>__data_ACSF_expand_PCA.pickle_32_256_2_2_2_2_50_type_2_start.csv\"],\n",
       " [\"results_False_<class 'functions_refactor.NNConv_block'>_<class 'functions_refactor.SimpleHead_type'>__data_ACSF_expand_PCA.pickle_32_256_2_2_2_2_50_type_3_start.csv\",\n",
       "  \"results_False_<class 'functions_refactor.MEGNet_block'>_<class 'functions_refactor.feedforwardHead_Update'>__data_ACSF_expand_PCA.pickle_32_128_0.4_3_3_2_20_base.csv\"],\n",
       " [\"results_False_<class 'functions_refactor.MEGNet_block'>_<class 'functions_refactor.feedforwardHead_Update'>__data_ACSF_expand_PCA.pickle_32_128_0.4_3_3_2_20_base.csv\",\n",
       "  \"results_False_<class 'functions_refactor.NNConv_block'>_<class 'functions_refactor.SimpleHead_type'>__data_ACSF_expand_PCA.pickle_32_256_2_2_2_2_50_type_4_start.csv\",\n",
       "  \"results_False_<class 'functions_refactor.MEGNet_block'>_<class 'functions_refactor.feedforwardHead_Update'>__data_SOAP_expand_PCA.pickle_32_128_0.4_3_3_2_10_base.csv\"],\n",
       " [\"results_False_<class 'functions_refactor.NNConv_block'>_<class 'functions_refactor.SimpleHead_type'>__data_ACSF_expand_PCA.pickle_32_256_2_2_2_2_50_type_5_start.csv\",\n",
       "  \"results_False_<class 'functions_refactor.NNConv_block'>_<class 'functions_refactor.cat3Head_type'>__data_ACSF_expand.pickle_32_128_2_2_2_2_25_type_5_start.csv\"],\n",
       " [\"results_False_<class 'functions_refactor.MEGNet_block'>_<class 'functions_refactor.feedforwardHead_Update'>__data_ACSF_expand_PCA.pickle_32_128_0.4_3_3_2_20_base.csv\",\n",
       "  \"results_False_<class 'functions_refactor.MEGNet_block'>_<class 'functions_refactor.feedforwardHead_Update'>__data_SOAP_expand_PCA.pickle_32_128_0.4_3_3_2_10_base.csv\"],\n",
       " [\"results_False_<class 'functions_refactor.MEGNet_block'>_<class 'functions_refactor.feedforwardHead_Update'>__data_ACSF_expand_PCA.pickle_32_128_0.4_3_3_2_20_base.csv\",\n",
       "  \"results_False_<class 'functions_refactor.NNConv_block'>_<class 'functions_refactor.SimpleHead_type'>__data_ACSF_expand_PCA.pickle_32_256_2_2_2_2_50_type_7_start.csv\",\n",
       "  \"results_False_<class 'functions_refactor.MEGNet_block'>_<class 'functions_refactor.feedforwardHead_Update'>__data_SOAP_expand_PCA.pickle_32_128_0.4_3_3_2_10_base.csv\"]]"
      ]
     },
     "execution_count": 22,
     "metadata": {},
     "output_type": "execute_result"
    }
   ],
   "source": [
    "results_list"
   ]
  },
  {
   "cell_type": "code",
   "execution_count": null,
   "metadata": {},
   "outputs": [],
   "source": []
  },
  {
   "cell_type": "code",
   "execution_count": 23,
   "metadata": {},
   "outputs": [],
   "source": [
    "submission_files = os.listdir('../Submission')"
   ]
  },
  {
   "cell_type": "code",
   "execution_count": 24,
   "metadata": {},
   "outputs": [],
   "source": [
    "def get_submission_from_result(result,submission_files):\n",
    "    if 'base' in result:\n",
    "        front_part = result[8:re.search('_base',result).start()-3]\n",
    "    elif 'MAE' in result:\n",
    "        front_part = result[8:re.search('_MAE',result).start()-3]\n",
    "    else:\n",
    "        front_part = result[8:re.search('_type_[0-9]',result).start()-3]\n",
    "    training_type_part = 'start' if 'start' in result else ('base' if 'base' in result else ('MAE' if 'MAE' in result else '2stage'))\n",
    "    submit_file = [sub for sub in submission_files if (front_part in sub) & ('all_types' in sub) &\\\n",
    "                                           (training_type_part in sub)]\n",
    "    assert len(submit_file)==1,'should have one submission file, but got {}'.format(submit_file)\n",
    "    return submit_file[0]"
   ]
  },
  {
   "cell_type": "code",
   "execution_count": 25,
   "metadata": {},
   "outputs": [],
   "source": [
    "# convert results files to submission files\n",
    "submission_list = []\n",
    "for types_ in results_list:\n",
    "    type_i = []\n",
    "    for type_ in types_:\n",
    "        type_i.append(get_submission_from_result(type_,submission_files))\n",
    "    submission_list.append(type_i)"
   ]
  },
  {
   "cell_type": "code",
   "execution_count": null,
   "metadata": {},
   "outputs": [],
   "source": []
  },
  {
   "cell_type": "code",
   "execution_count": null,
   "metadata": {},
   "outputs": [],
   "source": []
  },
  {
   "cell_type": "code",
   "execution_count": 31,
   "metadata": {},
   "outputs": [],
   "source": [
    "submission = pd.read_csv('../Data/sample_submission.csv')"
   ]
  },
  {
   "cell_type": "code",
   "execution_count": 32,
   "metadata": {},
   "outputs": [],
   "source": [
    "from functions_refactor import average_submission"
   ]
  },
  {
   "cell_type": "code",
   "execution_count": 33,
   "metadata": {},
   "outputs": [],
   "source": [
    "average_submission(submission_list,submission)"
   ]
  },
  {
   "cell_type": "code",
   "execution_count": null,
   "metadata": {},
   "outputs": [],
   "source": []
  },
  {
   "cell_type": "code",
   "execution_count": null,
   "metadata": {},
   "outputs": [],
   "source": []
  }
 ],
 "metadata": {
  "kernelspec": {
   "display_name": "Python 3",
   "language": "python",
   "name": "python3"
  },
  "language_info": {
   "codemirror_mode": {
    "name": "ipython",
    "version": 3
   },
   "file_extension": ".py",
   "mimetype": "text/x-python",
   "name": "python",
   "nbconvert_exporter": "python",
   "pygments_lexer": "ipython3",
   "version": "3.7.2"
  }
 },
 "nbformat": 4,
 "nbformat_minor": 2
}
