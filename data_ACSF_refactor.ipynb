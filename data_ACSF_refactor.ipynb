{
 "cells": [
  {
   "cell_type": "code",
   "execution_count": 1,
   "metadata": {},
   "outputs": [],
   "source": [
    "import pandas as pd\n",
    "import numpy as np\n",
    "import pickle\n",
    "from ase import Atoms\n",
    "from dscribe.descriptors import ACSF\n",
    "import copy"
   ]
  },
  {
   "cell_type": "code",
   "execution_count": 3,
   "metadata": {},
   "outputs": [],
   "source": [
    "#Atoms(symbols,positions)"
   ]
  },
  {
   "cell_type": "code",
   "execution_count": null,
   "metadata": {},
   "outputs": [],
   "source": []
  },
  {
   "cell_type": "code",
   "execution_count": 4,
   "metadata": {},
   "outputs": [],
   "source": [
    "train = pd.read_csv('../Data/train.csv')\n",
    "test = pd.read_csv('../Data/test.csv')\n",
    "structures = pd.read_csv('../Data/structures.csv')\n",
    "train_bonds = pd.read_csv('../Data/train_bonds.csv')\n",
    "test_bonds = pd.read_csv('../Data/test_bonds.csv')"
   ]
  },
  {
   "cell_type": "code",
   "execution_count": 5,
   "metadata": {},
   "outputs": [],
   "source": [
    "test_bonds = test_bonds.drop('Unnamed: 0',1)\n",
    "train_bonds = train_bonds.drop('Unnamed: 0',1)"
   ]
  },
  {
   "cell_type": "code",
   "execution_count": null,
   "metadata": {},
   "outputs": [],
   "source": []
  },
  {
   "cell_type": "code",
   "execution_count": null,
   "metadata": {},
   "outputs": [],
   "source": [
    "train.head(10)"
   ]
  },
  {
   "cell_type": "code",
   "execution_count": null,
   "metadata": {},
   "outputs": [],
   "source": [
    "structures.head()"
   ]
  },
  {
   "cell_type": "code",
   "execution_count": null,
   "metadata": {},
   "outputs": [],
   "source": [
    "train_bonds.head()"
   ]
  },
  {
   "cell_type": "code",
   "execution_count": null,
   "metadata": {},
   "outputs": [],
   "source": [
    "test_bonds.head()"
   ]
  },
  {
   "cell_type": "code",
   "execution_count": null,
   "metadata": {},
   "outputs": [],
   "source": []
  },
  {
   "cell_type": "code",
   "execution_count": null,
   "metadata": {},
   "outputs": [],
   "source": []
  },
  {
   "cell_type": "markdown",
   "metadata": {},
   "source": [
    "### node information"
   ]
  },
  {
   "cell_type": "code",
   "execution_count": 6,
   "metadata": {},
   "outputs": [],
   "source": [
    "structures[['C', 'F', 'H', 'N', 'O']] = pd.get_dummies(structures.atom)\n",
    "structures = structures.sort_values(by=['molecule_name', 'atom_index'])"
   ]
  },
  {
   "cell_type": "code",
   "execution_count": 7,
   "metadata": {},
   "outputs": [],
   "source": [
    "structures_gb = structures.groupby(['molecule_name'])"
   ]
  },
  {
   "cell_type": "code",
   "execution_count": 8,
   "metadata": {},
   "outputs": [],
   "source": [
    "structures_dict = {}\n",
    "for k,v in structures_gb:\n",
    "    atom_dict = {'positions':v[['x','y','z']].values.tolist(),\n",
    "                 'symbols':[i[0] for i in v[['atom']].values.tolist()]\n",
    "                 }\n",
    "    atom = Atoms(**atom_dict)\n",
    "    dist = atom.get_all_distances()\n",
    "    d = dist.shape[0]\n",
    "    dist = dist[np.tril_indices(d,-1)]\n",
    "    r_info = np.array([dist.max(),dist.min(),dist.mean(),dist.std()])\n",
    "    \n",
    "    acsf = ACSF(species=['C', 'F', 'H', 'N', 'O'],\n",
    "                rcut=r_info[0]+0.5,\n",
    "                g2_params=[[1, 1], [1, 2], [1, 3]],\n",
    "                g4_params=[[1, 1, 1], [1, 2, 1], [1, 1, -1], [1, 2, -1]])\n",
    "    acsf_np = acsf.create(atom)\n",
    "    structures_dict[k] = np.concatenate([acsf_np,v[['C', 'F', 'H', 'N', 'O']].values,\\\n",
    "                                         np.tile(r_info,(d,1))],1).astype(np.float32)"
   ]
  },
  {
   "cell_type": "code",
   "execution_count": 9,
   "metadata": {},
   "outputs": [],
   "source": [
    "with open('../Data/structures_dict_ACSF_3_4.pickle', 'wb') as handle:\n",
    "    pickle.dump(structures_dict, handle, protocol=pickle.HIGHEST_PROTOCOL)"
   ]
  },
  {
   "cell_type": "code",
   "execution_count": null,
   "metadata": {},
   "outputs": [],
   "source": []
  },
  {
   "cell_type": "code",
   "execution_count": null,
   "metadata": {},
   "outputs": [],
   "source": []
  },
  {
   "cell_type": "markdown",
   "metadata": {},
   "source": [
    "### bond information"
   ]
  },
  {
   "cell_type": "code",
   "execution_count": 10,
   "metadata": {},
   "outputs": [],
   "source": [
    "assert set(train_bonds.bond_type) == set(test_bonds.bond_type)"
   ]
  },
  {
   "cell_type": "code",
   "execution_count": 11,
   "metadata": {},
   "outputs": [],
   "source": [
    "bonds = train_bonds.append(test_bonds, ignore_index=True)"
   ]
  },
  {
   "cell_type": "code",
   "execution_count": 12,
   "metadata": {},
   "outputs": [],
   "source": [
    "del train_bonds,test_bonds"
   ]
  },
  {
   "cell_type": "code",
   "execution_count": 13,
   "metadata": {},
   "outputs": [],
   "source": [
    "bonds[['1.0CC',\n",
    " '1.0CF',\n",
    " '1.0CH',\n",
    " '1.0CN',\n",
    " '1.0CO',\n",
    " '1.0HN',\n",
    " '1.0HO',\n",
    " '1.0NN',\n",
    " '1.0NO',\n",
    " '1.5CO',\n",
    " '2.0CC',\n",
    " '2.0CN',\n",
    " '2.0CO',\n",
    " '2.0NN',\n",
    " '2.0NO',\n",
    " '3.0CC',\n",
    " '3.0CN']] = pd.get_dummies(bonds.bond_type)"
   ]
  },
  {
   "cell_type": "code",
   "execution_count": 14,
   "metadata": {},
   "outputs": [
    {
     "data": {
      "text/html": [
       "<div>\n",
       "<style scoped>\n",
       "    .dataframe tbody tr th:only-of-type {\n",
       "        vertical-align: middle;\n",
       "    }\n",
       "\n",
       "    .dataframe tbody tr th {\n",
       "        vertical-align: top;\n",
       "    }\n",
       "\n",
       "    .dataframe thead th {\n",
       "        text-align: right;\n",
       "    }\n",
       "</style>\n",
       "<table border=\"1\" class=\"dataframe\">\n",
       "  <thead>\n",
       "    <tr style=\"text-align: right;\">\n",
       "      <th></th>\n",
       "      <th>molecule_name</th>\n",
       "      <th>atom_index_0</th>\n",
       "      <th>atom_index_1</th>\n",
       "      <th>nbond</th>\n",
       "      <th>L2dist</th>\n",
       "      <th>error</th>\n",
       "      <th>bond_type</th>\n",
       "      <th>1.0CC</th>\n",
       "      <th>1.0CF</th>\n",
       "      <th>1.0CH</th>\n",
       "      <th>...</th>\n",
       "      <th>1.0NN</th>\n",
       "      <th>1.0NO</th>\n",
       "      <th>1.5CO</th>\n",
       "      <th>2.0CC</th>\n",
       "      <th>2.0CN</th>\n",
       "      <th>2.0CO</th>\n",
       "      <th>2.0NN</th>\n",
       "      <th>2.0NO</th>\n",
       "      <th>3.0CC</th>\n",
       "      <th>3.0CN</th>\n",
       "    </tr>\n",
       "  </thead>\n",
       "  <tbody>\n",
       "    <tr>\n",
       "      <th>0</th>\n",
       "      <td>dsgdb9nsd_000001</td>\n",
       "      <td>0</td>\n",
       "      <td>1</td>\n",
       "      <td>1.0</td>\n",
       "      <td>1.091953</td>\n",
       "      <td>0</td>\n",
       "      <td>1.0CH</td>\n",
       "      <td>0</td>\n",
       "      <td>0</td>\n",
       "      <td>1</td>\n",
       "      <td>...</td>\n",
       "      <td>0</td>\n",
       "      <td>0</td>\n",
       "      <td>0</td>\n",
       "      <td>0</td>\n",
       "      <td>0</td>\n",
       "      <td>0</td>\n",
       "      <td>0</td>\n",
       "      <td>0</td>\n",
       "      <td>0</td>\n",
       "      <td>0</td>\n",
       "    </tr>\n",
       "    <tr>\n",
       "      <th>1</th>\n",
       "      <td>dsgdb9nsd_000001</td>\n",
       "      <td>0</td>\n",
       "      <td>2</td>\n",
       "      <td>1.0</td>\n",
       "      <td>1.091952</td>\n",
       "      <td>0</td>\n",
       "      <td>1.0CH</td>\n",
       "      <td>0</td>\n",
       "      <td>0</td>\n",
       "      <td>1</td>\n",
       "      <td>...</td>\n",
       "      <td>0</td>\n",
       "      <td>0</td>\n",
       "      <td>0</td>\n",
       "      <td>0</td>\n",
       "      <td>0</td>\n",
       "      <td>0</td>\n",
       "      <td>0</td>\n",
       "      <td>0</td>\n",
       "      <td>0</td>\n",
       "      <td>0</td>\n",
       "    </tr>\n",
       "    <tr>\n",
       "      <th>2</th>\n",
       "      <td>dsgdb9nsd_000001</td>\n",
       "      <td>0</td>\n",
       "      <td>3</td>\n",
       "      <td>1.0</td>\n",
       "      <td>1.091946</td>\n",
       "      <td>0</td>\n",
       "      <td>1.0CH</td>\n",
       "      <td>0</td>\n",
       "      <td>0</td>\n",
       "      <td>1</td>\n",
       "      <td>...</td>\n",
       "      <td>0</td>\n",
       "      <td>0</td>\n",
       "      <td>0</td>\n",
       "      <td>0</td>\n",
       "      <td>0</td>\n",
       "      <td>0</td>\n",
       "      <td>0</td>\n",
       "      <td>0</td>\n",
       "      <td>0</td>\n",
       "      <td>0</td>\n",
       "    </tr>\n",
       "    <tr>\n",
       "      <th>3</th>\n",
       "      <td>dsgdb9nsd_000001</td>\n",
       "      <td>0</td>\n",
       "      <td>4</td>\n",
       "      <td>1.0</td>\n",
       "      <td>1.091948</td>\n",
       "      <td>0</td>\n",
       "      <td>1.0CH</td>\n",
       "      <td>0</td>\n",
       "      <td>0</td>\n",
       "      <td>1</td>\n",
       "      <td>...</td>\n",
       "      <td>0</td>\n",
       "      <td>0</td>\n",
       "      <td>0</td>\n",
       "      <td>0</td>\n",
       "      <td>0</td>\n",
       "      <td>0</td>\n",
       "      <td>0</td>\n",
       "      <td>0</td>\n",
       "      <td>0</td>\n",
       "      <td>0</td>\n",
       "    </tr>\n",
       "    <tr>\n",
       "      <th>4</th>\n",
       "      <td>dsgdb9nsd_000002</td>\n",
       "      <td>0</td>\n",
       "      <td>1</td>\n",
       "      <td>1.0</td>\n",
       "      <td>1.017190</td>\n",
       "      <td>0</td>\n",
       "      <td>1.0HN</td>\n",
       "      <td>0</td>\n",
       "      <td>0</td>\n",
       "      <td>0</td>\n",
       "      <td>...</td>\n",
       "      <td>0</td>\n",
       "      <td>0</td>\n",
       "      <td>0</td>\n",
       "      <td>0</td>\n",
       "      <td>0</td>\n",
       "      <td>0</td>\n",
       "      <td>0</td>\n",
       "      <td>0</td>\n",
       "      <td>0</td>\n",
       "      <td>0</td>\n",
       "    </tr>\n",
       "  </tbody>\n",
       "</table>\n",
       "<p>5 rows × 24 columns</p>\n",
       "</div>"
      ],
      "text/plain": [
       "      molecule_name  atom_index_0  atom_index_1  nbond    L2dist  error  \\\n",
       "0  dsgdb9nsd_000001             0             1    1.0  1.091953      0   \n",
       "1  dsgdb9nsd_000001             0             2    1.0  1.091952      0   \n",
       "2  dsgdb9nsd_000001             0             3    1.0  1.091946      0   \n",
       "3  dsgdb9nsd_000001             0             4    1.0  1.091948      0   \n",
       "4  dsgdb9nsd_000002             0             1    1.0  1.017190      0   \n",
       "\n",
       "  bond_type  1.0CC  1.0CF  1.0CH  ...  1.0NN  1.0NO  1.5CO  2.0CC  2.0CN  \\\n",
       "0     1.0CH      0      0      1  ...      0      0      0      0      0   \n",
       "1     1.0CH      0      0      1  ...      0      0      0      0      0   \n",
       "2     1.0CH      0      0      1  ...      0      0      0      0      0   \n",
       "3     1.0CH      0      0      1  ...      0      0      0      0      0   \n",
       "4     1.0HN      0      0      0  ...      0      0      0      0      0   \n",
       "\n",
       "   2.0CO  2.0NN  2.0NO  3.0CC  3.0CN  \n",
       "0      0      0      0      0      0  \n",
       "1      0      0      0      0      0  \n",
       "2      0      0      0      0      0  \n",
       "3      0      0      0      0      0  \n",
       "4      0      0      0      0      0  \n",
       "\n",
       "[5 rows x 24 columns]"
      ]
     },
     "execution_count": 14,
     "metadata": {},
     "output_type": "execute_result"
    }
   ],
   "source": [
    "bonds.head()"
   ]
  },
  {
   "cell_type": "code",
   "execution_count": 15,
   "metadata": {},
   "outputs": [],
   "source": [
    "bonds_gb = bonds.groupby(['molecule_name'])"
   ]
  },
  {
   "cell_type": "code",
   "execution_count": 16,
   "metadata": {},
   "outputs": [],
   "source": [
    "bonds_edge_index = {}\n",
    "bonds_edge_attr = {}\n",
    "for k,v in bonds_gb:\n",
    "    bonds_edge_index[k] = np.concatenate([v[['atom_index_0','atom_index_1']].values,\\\n",
    "                                          v[['atom_index_1','atom_index_0']].values]).T\n",
    "    bonds_edge_attr[k] = np.tile(v[['L2dist', 'error',\\\n",
    "                                   '1.0CC', '1.0CF', '1.0CH', '1.0CN', '1.0CO','1.0HN',\\\n",
    "                                   '1.0HO', '1.0NN', '1.0NO', '1.5CO', '2.0CC', '2.0CN',\\\n",
    "                                   '2.0CO', '2.0NN', '2.0NO', '3.0CC', '3.0CN']].values.astype(np.float32),(2,1))"
   ]
  },
  {
   "cell_type": "code",
   "execution_count": 17,
   "metadata": {},
   "outputs": [],
   "source": [
    "with open('../Data/bonds_edge_index.pickle', 'wb') as handle:\n",
    "    pickle.dump(bonds_edge_index, handle, protocol=pickle.HIGHEST_PROTOCOL)\n",
    "with open('../Data/bonds_edge_attr.pickle', 'wb') as handle:\n",
    "    pickle.dump(bonds_edge_attr, handle, protocol=pickle.HIGHEST_PROTOCOL)    "
   ]
  },
  {
   "cell_type": "code",
   "execution_count": null,
   "metadata": {},
   "outputs": [],
   "source": []
  },
  {
   "cell_type": "code",
   "execution_count": null,
   "metadata": {},
   "outputs": [],
   "source": []
  },
  {
   "cell_type": "markdown",
   "metadata": {},
   "source": [
    "### coupling information"
   ]
  },
  {
   "cell_type": "code",
   "execution_count": 18,
   "metadata": {},
   "outputs": [],
   "source": [
    "assert set(train.type) == set(test.type)"
   ]
  },
  {
   "cell_type": "code",
   "execution_count": 19,
   "metadata": {},
   "outputs": [],
   "source": [
    "test['scalar_coupling_constant'] = np.nan"
   ]
  },
  {
   "cell_type": "code",
   "execution_count": 20,
   "metadata": {},
   "outputs": [],
   "source": [
    "coupling = train.append(test, ignore_index=True)"
   ]
  },
  {
   "cell_type": "code",
   "execution_count": 21,
   "metadata": {},
   "outputs": [
    {
     "data": {
      "text/html": [
       "<div>\n",
       "<style scoped>\n",
       "    .dataframe tbody tr th:only-of-type {\n",
       "        vertical-align: middle;\n",
       "    }\n",
       "\n",
       "    .dataframe tbody tr th {\n",
       "        vertical-align: top;\n",
       "    }\n",
       "\n",
       "    .dataframe thead th {\n",
       "        text-align: right;\n",
       "    }\n",
       "</style>\n",
       "<table border=\"1\" class=\"dataframe\">\n",
       "  <thead>\n",
       "    <tr style=\"text-align: right;\">\n",
       "      <th></th>\n",
       "      <th>id</th>\n",
       "      <th>molecule_name</th>\n",
       "      <th>atom_index_0</th>\n",
       "      <th>atom_index_1</th>\n",
       "      <th>type</th>\n",
       "      <th>scalar_coupling_constant</th>\n",
       "    </tr>\n",
       "  </thead>\n",
       "  <tbody>\n",
       "    <tr>\n",
       "      <th>0</th>\n",
       "      <td>0</td>\n",
       "      <td>dsgdb9nsd_000001</td>\n",
       "      <td>1</td>\n",
       "      <td>0</td>\n",
       "      <td>1JHC</td>\n",
       "      <td>84.8076</td>\n",
       "    </tr>\n",
       "    <tr>\n",
       "      <th>1</th>\n",
       "      <td>1</td>\n",
       "      <td>dsgdb9nsd_000001</td>\n",
       "      <td>1</td>\n",
       "      <td>2</td>\n",
       "      <td>2JHH</td>\n",
       "      <td>-11.2570</td>\n",
       "    </tr>\n",
       "    <tr>\n",
       "      <th>2</th>\n",
       "      <td>2</td>\n",
       "      <td>dsgdb9nsd_000001</td>\n",
       "      <td>1</td>\n",
       "      <td>3</td>\n",
       "      <td>2JHH</td>\n",
       "      <td>-11.2548</td>\n",
       "    </tr>\n",
       "    <tr>\n",
       "      <th>3</th>\n",
       "      <td>3</td>\n",
       "      <td>dsgdb9nsd_000001</td>\n",
       "      <td>1</td>\n",
       "      <td>4</td>\n",
       "      <td>2JHH</td>\n",
       "      <td>-11.2543</td>\n",
       "    </tr>\n",
       "    <tr>\n",
       "      <th>4</th>\n",
       "      <td>4</td>\n",
       "      <td>dsgdb9nsd_000001</td>\n",
       "      <td>2</td>\n",
       "      <td>0</td>\n",
       "      <td>1JHC</td>\n",
       "      <td>84.8074</td>\n",
       "    </tr>\n",
       "  </tbody>\n",
       "</table>\n",
       "</div>"
      ],
      "text/plain": [
       "   id     molecule_name  atom_index_0  atom_index_1  type  \\\n",
       "0   0  dsgdb9nsd_000001             1             0  1JHC   \n",
       "1   1  dsgdb9nsd_000001             1             2  2JHH   \n",
       "2   2  dsgdb9nsd_000001             1             3  2JHH   \n",
       "3   3  dsgdb9nsd_000001             1             4  2JHH   \n",
       "4   4  dsgdb9nsd_000001             2             0  1JHC   \n",
       "\n",
       "   scalar_coupling_constant  \n",
       "0                   84.8076  \n",
       "1                  -11.2570  \n",
       "2                  -11.2548  \n",
       "3                  -11.2543  \n",
       "4                   84.8074  "
      ]
     },
     "execution_count": 21,
     "metadata": {},
     "output_type": "execute_result"
    }
   ],
   "source": [
    "coupling.head()"
   ]
  },
  {
   "cell_type": "code",
   "execution_count": 22,
   "metadata": {},
   "outputs": [],
   "source": [
    "def map_atom_info(df, atom_idx):\n",
    "    df = pd.merge(df, structures, how = 'left',\n",
    "                  left_on  = ['molecule_name', f'atom_index_{atom_idx}'],\n",
    "                  right_on = ['molecule_name',  'atom_index'])\n",
    "    \n",
    "    df = df.drop('atom_index', axis=1)\n",
    "    df = df.rename(columns={'atom': f'atom_{atom_idx}',\n",
    "                            'x': f'x_{atom_idx}',\n",
    "                            'y': f'y_{atom_idx}',\n",
    "                            'z': f'z_{atom_idx}'})\n",
    "    return df"
   ]
  },
  {
   "cell_type": "code",
   "execution_count": 23,
   "metadata": {},
   "outputs": [],
   "source": [
    "coupling = map_atom_info(coupling, 0)\n",
    "coupling = map_atom_info(coupling, 1)"
   ]
  },
  {
   "cell_type": "code",
   "execution_count": 24,
   "metadata": {},
   "outputs": [],
   "source": [
    "coupling = coupling.drop(['atom_0', 'C_x', 'F_x',\n",
    "                          'H_x', 'N_x', 'O_x', 'atom_1','C_y', 'F_y', 'H_y',\n",
    "                          'N_y', 'O_y'], axis=1)"
   ]
  },
  {
   "cell_type": "code",
   "execution_count": 25,
   "metadata": {},
   "outputs": [],
   "source": [
    "train_p_0 = coupling[['x_0', 'y_0', 'z_0']].values\n",
    "train_p_1 = coupling[['x_1', 'y_1', 'z_1']].values\n",
    "coupling['dist'] = np.linalg.norm(train_p_0 - train_p_1, axis=1)"
   ]
  },
  {
   "cell_type": "code",
   "execution_count": 26,
   "metadata": {},
   "outputs": [],
   "source": [
    "coupling[['1JHC', '1JHN', '2JHC', '2JHH', '2JHN', '3JHC', '3JHH', '3JHN']]=pd.get_dummies(coupling.type)"
   ]
  },
  {
   "cell_type": "code",
   "execution_count": 27,
   "metadata": {},
   "outputs": [],
   "source": [
    "coupling = coupling.groupby(['molecule_name'])"
   ]
  },
  {
   "cell_type": "code",
   "execution_count": 28,
   "metadata": {},
   "outputs": [],
   "source": [
    "coupling_edge_index = {}\n",
    "coupling_edge_attr = {}\n",
    "coupling_edge_dist = {}\n",
    "coupling_y = {}\n",
    "coupling_id = {}\n",
    "for k,v in coupling:\n",
    "    coupling_edge_index[k] = v[['atom_index_0','atom_index_1']].values.T\n",
    "    coupling_edge_attr[k] = v[['1JHC','1JHN','2JHC','2JHH','2JHN','3JHC','3JHH','3JHN']].values.astype(np.float32)\n",
    "    coupling_edge_dist[k] = v[['dist']].values.astype(np.float32)\n",
    "    if not np.any(np.isnan(v.scalar_coupling_constant.values)):\n",
    "        coupling_y[k] = v.scalar_coupling_constant.values.astype(np.float32)\n",
    "    else:\n",
    "        coupling_id[k] = v.id.values"
   ]
  },
  {
   "cell_type": "code",
   "execution_count": 57,
   "metadata": {},
   "outputs": [],
   "source": [
    "with open('../Data/coupling_edge_index.pickle', 'wb') as handle:\n",
    "    pickle.dump(coupling_edge_index, handle, protocol=pickle.HIGHEST_PROTOCOL)\n",
    "with open('../Data/coupling_edge_attr.pickle', 'wb') as handle:\n",
    "    pickle.dump(coupling_edge_attr, handle, protocol=pickle.HIGHEST_PROTOCOL)\n",
    "with open('../Data/coupling_edge_dist.pickle', 'wb') as handle:\n",
    "    pickle.dump(coupling_edge_dist, handle, protocol=pickle.HIGHEST_PROTOCOL)\n",
    "with open('../Data/coupling_y.pickle', 'wb') as handle:\n",
    "    pickle.dump(coupling_y, handle, protocol=pickle.HIGHEST_PROTOCOL)\n",
    "with open('../Data/coupling_id.pickle', 'wb') as handle:\n",
    "    pickle.dump(coupling_id, handle, protocol=pickle.HIGHEST_PROTOCOL)    "
   ]
  },
  {
   "cell_type": "code",
   "execution_count": null,
   "metadata": {},
   "outputs": [],
   "source": []
  },
  {
   "cell_type": "code",
   "execution_count": null,
   "metadata": {},
   "outputs": [],
   "source": []
  },
  {
   "cell_type": "code",
   "execution_count": 77,
   "metadata": {},
   "outputs": [],
   "source": [
    "train_mol = np.unique(train.molecule_name)\n",
    "test_mol = np.unique(test.molecule_name)"
   ]
  },
  {
   "cell_type": "code",
   "execution_count": 78,
   "metadata": {},
   "outputs": [],
   "source": [
    "train_mol = np.random.permutation(train_mol)"
   ]
  },
  {
   "cell_type": "code",
   "execution_count": 79,
   "metadata": {},
   "outputs": [],
   "source": [
    "train_mol2 = train_mol[:70000]\n",
    "val_mol = train_mol[70000:]\n",
    "train_mol = train_mol2"
   ]
  },
  {
   "cell_type": "code",
   "execution_count": null,
   "metadata": {},
   "outputs": [],
   "source": []
  },
  {
   "cell_type": "code",
   "execution_count": null,
   "metadata": {},
   "outputs": [],
   "source": []
  },
  {
   "cell_type": "code",
   "execution_count": 91,
   "metadata": {},
   "outputs": [],
   "source": [
    "def create_data(mols,IsTrain):\n",
    "    type_list = [[] for _ in range(8)]\n",
    "    tot_list = []\n",
    "    if not IsTrain:\n",
    "        test_id_type_list = [[] for _ in range(8)]\n",
    "        test_id_list = []\n",
    "        \n",
    "    for m in mols:\n",
    "        if IsTrain:\n",
    "            dict_ = {'x':structures_dict[m],'edge_index':bonds_edge_index[m],\\\n",
    "                               'edge_attr':bonds_edge_attr[m],'y':coupling_y[m],\\\n",
    "                               'edge_index3':coupling_edge_index[m],'edge_attr3':coupling_edge_attr[m],\\\n",
    "                               'edge_attr4':coupling_edge_dist[m]}\n",
    "            tot_list.append(copy.deepcopy(dict_))\n",
    "                        \n",
    "            temp = dict_['edge_attr3'].argmax(1)\n",
    "            for i in np.nonzero(dict_['edge_attr3'].sum(0))[0]:\n",
    "                dict_['type_attr'] = (temp==i).astype(np.uint8)\n",
    "                type_list[i].append(copy.deepcopy(dict_))\n",
    "        else:\n",
    "            dict_ = {'x':structures_dict[m],'edge_index':bonds_edge_index[m],\\\n",
    "                       'edge_attr':bonds_edge_attr[m],\\\n",
    "                       'edge_index3':coupling_edge_index[m],'edge_attr3':coupling_edge_attr[m],\\\n",
    "                       'edge_attr4':coupling_edge_dist[m]}\n",
    "            tot_list.append(copy.deepcopy(dict_))\n",
    "            test_id_list.append(coupling_id[m])\n",
    "            \n",
    "            temp = dict_['edge_attr3'].argmax(1)\n",
    "            for i in np.nonzero(dict_['edge_attr3'].sum(0))[0]:\n",
    "                dict_['type_attr'] = (temp==i).astype(np.uint8)\n",
    "                type_list[i].append(copy.deepcopy(dict_))\n",
    "                test_id_type_list[i].append(coupling_id[m][temp==i])\n",
    "    \n",
    "    if IsTrain:\n",
    "        return tot_list,type_list \n",
    "    else:\n",
    "        return tot_list,type_list,np.concatenate(test_id_list),[np.concatenate(type_i) for type_i in test_id_type_list]"
   ]
  },
  {
   "cell_type": "code",
   "execution_count": null,
   "metadata": {},
   "outputs": [],
   "source": []
  },
  {
   "cell_type": "code",
   "execution_count": 98,
   "metadata": {},
   "outputs": [],
   "source": [
    "tot_list_train,type_list_train = create_data(train_mol,True)\n",
    "tot_list_val,type_list_val = create_data(val_mol,True)\n",
    "tot_list_test,type_list_test,test_id,test_id_type = create_data(test_mol,False)"
   ]
  },
  {
   "cell_type": "code",
   "execution_count": null,
   "metadata": {},
   "outputs": [],
   "source": []
  },
  {
   "cell_type": "code",
   "execution_count": 99,
   "metadata": {},
   "outputs": [],
   "source": [
    "with open('../Data/train_data_ACSF.pickle', 'wb') as handle:\n",
    "    pickle.dump(tot_list_train, handle, protocol=pickle.HIGHEST_PROTOCOL)\n",
    "with open('../Data/val_data_ACSF.pickle', 'wb') as handle:\n",
    "    pickle.dump(tot_list_val, handle, protocol=pickle.HIGHEST_PROTOCOL)\n",
    "with open('../Data/test_data_ACSF.pickle', 'wb') as handle:\n",
    "    pickle.dump(tot_list_test, handle, protocol=pickle.HIGHEST_PROTOCOL)"
   ]
  },
  {
   "cell_type": "code",
   "execution_count": 103,
   "metadata": {},
   "outputs": [],
   "source": [
    "with open('../Data/test_data_ACSF_id.pickle', 'wb') as handle:\n",
    "    pickle.dump(test_id, handle, protocol=pickle.HIGHEST_PROTOCOL)"
   ]
  },
  {
   "cell_type": "code",
   "execution_count": 20,
   "metadata": {},
   "outputs": [],
   "source": [
    "def save_type(prefix,type_list):\n",
    "    for i,type_ in enumerate(type_list):\n",
    "        with open(prefix+'_type_'+str(i)+'.pickle', 'wb') as handle:\n",
    "            pickle.dump(type_, handle, protocol=pickle.HIGHEST_PROTOCOL)"
   ]
  },
  {
   "cell_type": "code",
   "execution_count": 101,
   "metadata": {},
   "outputs": [],
   "source": [
    "save_type('../Data/train_data_ACSF',type_list_train)\n",
    "save_type('../Data/val_data_ACSF',type_list_val)\n",
    "save_type('../Data/test_data_ACSF',type_list_test)"
   ]
  },
  {
   "cell_type": "code",
   "execution_count": 105,
   "metadata": {},
   "outputs": [],
   "source": [
    "save_type('../Data/test_data_ACSF_id',test_id_type)"
   ]
  },
  {
   "cell_type": "code",
   "execution_count": null,
   "metadata": {},
   "outputs": [],
   "source": []
  },
  {
   "cell_type": "markdown",
   "metadata": {},
   "source": [
    "numpy -> torch"
   ]
  },
  {
   "cell_type": "code",
   "execution_count": 2,
   "metadata": {},
   "outputs": [],
   "source": [
    "with open('../Data/train_data_ACSF.pickle', 'rb') as handle:\n",
    "    train_data = pickle.load(handle)\n",
    "with open('../Data/val_data_ACSF.pickle', 'rb') as handle:\n",
    "    val_data = pickle.load(handle)\n",
    "with open('../Data/test_data_ACSF.pickle', 'rb') as handle:\n",
    "    test_data = pickle.load(handle)"
   ]
  },
  {
   "cell_type": "code",
   "execution_count": 3,
   "metadata": {},
   "outputs": [],
   "source": [
    "def load_type(prefix):\n",
    "    data = []\n",
    "    for i in range(8):\n",
    "        with open(prefix+'_type_'+str(i)+'.pickle', 'rb') as handle:\n",
    "            data.append(pickle.load(handle))\n",
    "    return data"
   ]
  },
  {
   "cell_type": "code",
   "execution_count": 5,
   "metadata": {},
   "outputs": [],
   "source": [
    "train_data_type = load_type('../Data/train_data_ACSF')\n",
    "val_data_type = load_type('../Data/val_data_ACSF')\n",
    "test_data_type = load_type('../Data/test_data_ACSF')"
   ]
  },
  {
   "cell_type": "code",
   "execution_count": null,
   "metadata": {},
   "outputs": [],
   "source": []
  },
  {
   "cell_type": "code",
   "execution_count": 10,
   "metadata": {},
   "outputs": [],
   "source": [
    "# convert numpy array to torch array\n",
    "import torch\n",
    "train_data = [{k:torch.tensor(i[k]) for k in i.keys()} for i in train_data]\n",
    "val_data = [{k:torch.tensor(i[k]) for k in i.keys()} for i in val_data]\n",
    "test_data = [{k:torch.tensor(i[k]) for k in i.keys()} for i in test_data]"
   ]
  },
  {
   "cell_type": "code",
   "execution_count": 11,
   "metadata": {},
   "outputs": [],
   "source": [
    "def numpy2torch(type_list):\n",
    "    out = []\n",
    "    for type_ in type_list:\n",
    "        out.append([{k:torch.tensor(i[k]) for k in i.keys()} for i in type_])\n",
    "    return out"
   ]
  },
  {
   "cell_type": "code",
   "execution_count": 12,
   "metadata": {},
   "outputs": [],
   "source": [
    "train_data_type = numpy2torch(train_data_type)\n",
    "val_data_type = numpy2torch(val_data_type)\n",
    "test_data_type = numpy2torch(test_data_type)"
   ]
  },
  {
   "cell_type": "code",
   "execution_count": null,
   "metadata": {},
   "outputs": [],
   "source": []
  },
  {
   "cell_type": "code",
   "execution_count": 13,
   "metadata": {},
   "outputs": [],
   "source": [
    "with open('../Data/train_data_ACSF.pickle', 'wb') as handle:\n",
    "    pickle.dump(train_data, handle, protocol=pickle.HIGHEST_PROTOCOL)\n",
    "with open('../Data/val_data_ACSF.pickle', 'wb') as handle:\n",
    "    pickle.dump(val_data, handle, protocol=pickle.HIGHEST_PROTOCOL)\n",
    "with open('../Data/test_data_ACSF.pickle', 'wb') as handle:\n",
    "    pickle.dump(test_data, handle, protocol=pickle.HIGHEST_PROTOCOL)"
   ]
  },
  {
   "cell_type": "code",
   "execution_count": 21,
   "metadata": {},
   "outputs": [],
   "source": [
    "save_type('../Data/train_data_ACSF',train_data_type)\n",
    "save_type('../Data/val_data_ACSF',val_data_type)\n",
    "save_type('../Data/test_data_ACSF',test_data_type)"
   ]
  },
  {
   "cell_type": "code",
   "execution_count": null,
   "metadata": {},
   "outputs": [],
   "source": []
  }
 ],
 "metadata": {
  "kernelspec": {
   "display_name": "Python 3",
   "language": "python",
   "name": "python3"
  },
  "language_info": {
   "codemirror_mode": {
    "name": "ipython",
    "version": 3
   },
   "file_extension": ".py",
   "mimetype": "text/x-python",
   "name": "python",
   "nbconvert_exporter": "python",
   "pygments_lexer": "ipython3",
   "version": "3.7.2"
  }
 },
 "nbformat": 4,
 "nbformat_minor": 2
}
