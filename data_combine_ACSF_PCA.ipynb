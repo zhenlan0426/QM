{
 "cells": [
  {
   "cell_type": "code",
   "execution_count": 2,
   "metadata": {},
   "outputs": [],
   "source": [
    "import pandas as pd\n",
    "import numpy as np\n",
    "import pickle\n",
    "import copy"
   ]
  },
  {
   "cell_type": "code",
   "execution_count": null,
   "metadata": {},
   "outputs": [],
   "source": []
  },
  {
   "cell_type": "code",
   "execution_count": 18,
   "metadata": {},
   "outputs": [],
   "source": [
    "train = pd.read_csv('../Data/train.csv')\n",
    "test = pd.read_csv('../Data/test.csv')"
   ]
  },
  {
   "cell_type": "code",
   "execution_count": null,
   "metadata": {},
   "outputs": [],
   "source": []
  },
  {
   "cell_type": "markdown",
   "metadata": {},
   "source": [
    "### node information"
   ]
  },
  {
   "cell_type": "code",
   "execution_count": 3,
   "metadata": {},
   "outputs": [],
   "source": [
    "with open('../Data/structures_dict_ACSF_PCA.pickle', 'rb') as handle:\n",
    "    structures_dict = pickle.load(handle)"
   ]
  },
  {
   "cell_type": "code",
   "execution_count": null,
   "metadata": {},
   "outputs": [],
   "source": []
  },
  {
   "cell_type": "markdown",
   "metadata": {},
   "source": [
    "### bond information"
   ]
  },
  {
   "cell_type": "code",
   "execution_count": 4,
   "metadata": {},
   "outputs": [],
   "source": [
    "with open('../Data/bonds_edge_index.pickle', 'rb') as handle:\n",
    "    bonds_edge_index = pickle.load(handle)\n",
    "with open('../Data/bonds_edge_attr_expand.pickle', 'rb') as handle:\n",
    "    bonds_edge_attr = pickle.load(handle)"
   ]
  },
  {
   "cell_type": "code",
   "execution_count": null,
   "metadata": {},
   "outputs": [],
   "source": []
  },
  {
   "cell_type": "code",
   "execution_count": null,
   "metadata": {},
   "outputs": [],
   "source": []
  },
  {
   "cell_type": "markdown",
   "metadata": {},
   "source": [
    "### coupling information"
   ]
  },
  {
   "cell_type": "code",
   "execution_count": 9,
   "metadata": {},
   "outputs": [],
   "source": [
    "with open('../Data/coupling_edge_index.pickle', 'rb') as handle:\n",
    "    coupling_edge_index = pickle.load(handle)\n",
    "with open('../Data/coupling_edge_attr.pickle', 'rb') as handle:\n",
    "    coupling_edge_attr = pickle.load(handle)\n",
    "with open('../Data/coupling_edge_dist_expand.pickle', 'rb') as handle:\n",
    "    coupling_edge_dist = pickle.load(handle)\n",
    "with open('../Data/coupling_y.pickle', 'rb') as handle:\n",
    "    coupling_y = pickle.load(handle)\n",
    "with open('../Data/coupling_id.pickle', 'rb') as handle:\n",
    "    coupling_id = pickle.load(handle)    "
   ]
  },
  {
   "cell_type": "code",
   "execution_count": null,
   "metadata": {},
   "outputs": [],
   "source": []
  },
  {
   "cell_type": "code",
   "execution_count": null,
   "metadata": {},
   "outputs": [],
   "source": []
  },
  {
   "cell_type": "code",
   "execution_count": null,
   "metadata": {},
   "outputs": [],
   "source": []
  },
  {
   "cell_type": "code",
   "execution_count": 19,
   "metadata": {},
   "outputs": [],
   "source": [
    "train_mol = np.unique(train.molecule_name)\n",
    "test_mol = np.unique(test.molecule_name)"
   ]
  },
  {
   "cell_type": "code",
   "execution_count": 20,
   "metadata": {},
   "outputs": [],
   "source": [
    "train_mol = np.random.permutation(train_mol)"
   ]
  },
  {
   "cell_type": "code",
   "execution_count": 21,
   "metadata": {},
   "outputs": [],
   "source": [
    "train_mol2 = train_mol[:70000]\n",
    "val_mol = train_mol[70000:]\n",
    "train_mol = train_mol2"
   ]
  },
  {
   "cell_type": "code",
   "execution_count": null,
   "metadata": {},
   "outputs": [],
   "source": []
  },
  {
   "cell_type": "code",
   "execution_count": null,
   "metadata": {},
   "outputs": [],
   "source": []
  },
  {
   "cell_type": "code",
   "execution_count": 22,
   "metadata": {},
   "outputs": [],
   "source": [
    "def create_data(mols,IsTrain):\n",
    "    type_list = [[] for _ in range(8)]\n",
    "    tot_list = []\n",
    "    if not IsTrain:\n",
    "        test_id_type_list = [[] for _ in range(8)]\n",
    "        test_id_list = []\n",
    "        \n",
    "    for m in mols:\n",
    "        if IsTrain:\n",
    "            dict_ = {'x':structures_dict[m],'edge_index':bonds_edge_index[m],\\\n",
    "                               'edge_attr':bonds_edge_attr[m],'y':coupling_y[m],\\\n",
    "                               'edge_index3':coupling_edge_index[m],'edge_attr3':coupling_edge_attr[m],\\\n",
    "                               'edge_attr4':coupling_edge_dist[m]}\n",
    "            tot_list.append(copy.deepcopy(dict_))\n",
    "                        \n",
    "            temp = dict_['edge_attr3'].argmax(1)\n",
    "            for i in np.nonzero(dict_['edge_attr3'].sum(0))[0]:\n",
    "                dict_['type_attr'] = (temp==i).astype(np.uint8)\n",
    "                type_list[i].append(copy.deepcopy(dict_))\n",
    "        else:\n",
    "            dict_ = {'x':structures_dict[m],'edge_index':bonds_edge_index[m],\\\n",
    "                       'edge_attr':bonds_edge_attr[m],\\\n",
    "                       'edge_index3':coupling_edge_index[m],'edge_attr3':coupling_edge_attr[m],\\\n",
    "                       'edge_attr4':coupling_edge_dist[m]}\n",
    "            tot_list.append(copy.deepcopy(dict_))\n",
    "            test_id_list.append(coupling_id[m])\n",
    "            \n",
    "            temp = dict_['edge_attr3'].argmax(1)\n",
    "            for i in np.nonzero(dict_['edge_attr3'].sum(0))[0]:\n",
    "                dict_['type_attr'] = (temp==i).astype(np.uint8)\n",
    "                type_list[i].append(copy.deepcopy(dict_))\n",
    "                test_id_type_list[i].append(coupling_id[m][temp==i])\n",
    "    \n",
    "    if IsTrain:\n",
    "        return tot_list,type_list \n",
    "    else:\n",
    "        return tot_list,type_list,np.concatenate(test_id_list),[np.concatenate(type_i) for type_i in test_id_type_list]"
   ]
  },
  {
   "cell_type": "code",
   "execution_count": null,
   "metadata": {},
   "outputs": [],
   "source": []
  },
  {
   "cell_type": "code",
   "execution_count": 23,
   "metadata": {},
   "outputs": [],
   "source": [
    "tot_list_train,type_list_train = create_data(train_mol,True)\n",
    "tot_list_val,type_list_val = create_data(val_mol,True)\n",
    "tot_list_test,type_list_test,test_id,test_id_type = create_data(test_mol,False)"
   ]
  },
  {
   "cell_type": "code",
   "execution_count": null,
   "metadata": {},
   "outputs": [],
   "source": []
  },
  {
   "cell_type": "code",
   "execution_count": 24,
   "metadata": {},
   "outputs": [],
   "source": [
    "# convert numpy array to torch array\n",
    "import torch\n",
    "tot_list_train = [{k:torch.tensor(i[k]) for k in i.keys()} for i in tot_list_train]\n",
    "tot_list_val = [{k:torch.tensor(i[k]) for k in i.keys()} for i in tot_list_val]\n",
    "tot_list_test = [{k:torch.tensor(i[k]) for k in i.keys()} for i in tot_list_test]"
   ]
  },
  {
   "cell_type": "code",
   "execution_count": 25,
   "metadata": {},
   "outputs": [],
   "source": [
    "def numpy2torch(type_list):\n",
    "    out = []\n",
    "    for type_ in type_list:\n",
    "        out.append([{k:torch.tensor(i[k]) for k in i.keys()} for i in type_])\n",
    "    return out"
   ]
  },
  {
   "cell_type": "code",
   "execution_count": 26,
   "metadata": {},
   "outputs": [],
   "source": [
    "type_list_train = numpy2torch(type_list_train)\n",
    "type_list_val = numpy2torch(type_list_val)\n",
    "type_list_test = numpy2torch(type_list_test)"
   ]
  },
  {
   "cell_type": "code",
   "execution_count": null,
   "metadata": {},
   "outputs": [],
   "source": []
  },
  {
   "cell_type": "code",
   "execution_count": 27,
   "metadata": {},
   "outputs": [],
   "source": [
    "with open('../Data/train_data_ACSF_expand_PCA.pickle', 'wb') as handle:\n",
    "    pickle.dump(tot_list_train, handle, protocol=pickle.HIGHEST_PROTOCOL)\n",
    "with open('../Data/val_data_ACSF_expand_PCA.pickle', 'wb') as handle:\n",
    "    pickle.dump(tot_list_val, handle, protocol=pickle.HIGHEST_PROTOCOL)\n",
    "with open('../Data/test_data_ACSF_expand_PCA.pickle', 'wb') as handle:\n",
    "    pickle.dump(tot_list_test, handle, protocol=pickle.HIGHEST_PROTOCOL)"
   ]
  },
  {
   "cell_type": "code",
   "execution_count": 28,
   "metadata": {},
   "outputs": [],
   "source": [
    "with open('../Data/test_data_ACSF_expand_id_PCA.pickle', 'wb') as handle:\n",
    "    pickle.dump(test_id, handle, protocol=pickle.HIGHEST_PROTOCOL)"
   ]
  },
  {
   "cell_type": "code",
   "execution_count": 29,
   "metadata": {},
   "outputs": [],
   "source": [
    "def save_type(prefix,type_list):\n",
    "    for i,type_ in enumerate(type_list):\n",
    "        with open(prefix+'_type_'+str(i)+'.pickle', 'wb') as handle:\n",
    "            pickle.dump(type_, handle, protocol=pickle.HIGHEST_PROTOCOL)"
   ]
  },
  {
   "cell_type": "code",
   "execution_count": 30,
   "metadata": {},
   "outputs": [],
   "source": [
    "save_type('../Data/train_data_ACSF_expand_PCA',type_list_train)\n",
    "save_type('../Data/val_data_ACSF_expand_PCA',type_list_val)\n",
    "save_type('../Data/test_data_ACSF_expand_PCA',type_list_test)"
   ]
  },
  {
   "cell_type": "code",
   "execution_count": 31,
   "metadata": {},
   "outputs": [],
   "source": [
    "save_type('../Data/test_data_ACSF_expand_PCA_id',test_id_type)"
   ]
  },
  {
   "cell_type": "code",
   "execution_count": null,
   "metadata": {},
   "outputs": [],
   "source": []
  },
  {
   "cell_type": "code",
   "execution_count": null,
   "metadata": {},
   "outputs": [],
   "source": []
  }
 ],
 "metadata": {
  "kernelspec": {
   "display_name": "Python 3",
   "language": "python",
   "name": "python3"
  },
  "language_info": {
   "codemirror_mode": {
    "name": "ipython",
    "version": 3
   },
   "file_extension": ".py",
   "mimetype": "text/x-python",
   "name": "python",
   "nbconvert_exporter": "python",
   "pygments_lexer": "ipython3",
   "version": "3.7.2"
  }
 },
 "nbformat": 4,
 "nbformat_minor": 2
}
