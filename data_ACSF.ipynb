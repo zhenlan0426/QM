{
 "cells": [
  {
   "cell_type": "code",
   "execution_count": 2,
   "metadata": {},
   "outputs": [],
   "source": [
    "import pandas as pd\n",
    "import numpy as np\n",
    "import pickle\n",
    "from ase import Atoms\n",
    "from dscribe.descriptors import ACSF"
   ]
  },
  {
   "cell_type": "code",
   "execution_count": null,
   "metadata": {},
   "outputs": [],
   "source": [
    "Atoms(symbols,positions)"
   ]
  },
  {
   "cell_type": "code",
   "execution_count": null,
   "metadata": {},
   "outputs": [],
   "source": []
  },
  {
   "cell_type": "code",
   "execution_count": null,
   "metadata": {},
   "outputs": [],
   "source": [
    "train = pd.read_csv('../Data/train.csv')\n",
    "test = pd.read_csv('../Data/test.csv')\n",
    "structures = pd.read_csv('../Data/structures.csv')\n",
    "train_bonds = pd.read_csv('../Data/train_bonds.csv')\n",
    "test_bonds = pd.read_csv('../Data/test_bonds.csv')"
   ]
  },
  {
   "cell_type": "code",
   "execution_count": null,
   "metadata": {},
   "outputs": [],
   "source": [
    "test_bonds = test_bonds.drop('Unnamed: 0',1)\n",
    "train_bonds = train_bonds.drop('Unnamed: 0',1)"
   ]
  },
  {
   "cell_type": "code",
   "execution_count": null,
   "metadata": {},
   "outputs": [],
   "source": []
  },
  {
   "cell_type": "code",
   "execution_count": null,
   "metadata": {},
   "outputs": [],
   "source": [
    "train.head(10)"
   ]
  },
  {
   "cell_type": "code",
   "execution_count": null,
   "metadata": {},
   "outputs": [],
   "source": [
    "structures.head()"
   ]
  },
  {
   "cell_type": "code",
   "execution_count": null,
   "metadata": {},
   "outputs": [],
   "source": [
    "train_bonds.head()"
   ]
  },
  {
   "cell_type": "code",
   "execution_count": null,
   "metadata": {},
   "outputs": [],
   "source": [
    "test_bonds.head()"
   ]
  },
  {
   "cell_type": "code",
   "execution_count": null,
   "metadata": {},
   "outputs": [],
   "source": []
  },
  {
   "cell_type": "code",
   "execution_count": null,
   "metadata": {},
   "outputs": [],
   "source": []
  },
  {
   "cell_type": "markdown",
   "metadata": {},
   "source": [
    "### node information"
   ]
  },
  {
   "cell_type": "code",
   "execution_count": null,
   "metadata": {},
   "outputs": [],
   "source": [
    "structures[['C', 'F', 'H', 'N', 'O']] = pd.get_dummies(structures.atom)\n",
    "structures = structures.sort_values(by=['molecule_name', 'atom_index'])"
   ]
  },
  {
   "cell_type": "code",
   "execution_count": null,
   "metadata": {},
   "outputs": [],
   "source": [
    "structures_gb = structures.groupby(['molecule_name'])"
   ]
  },
  {
   "cell_type": "code",
   "execution_count": null,
   "metadata": {},
   "outputs": [],
   "source": [
    "structures_dict = {}\n",
    "for k,v in structures_gb:\n",
    "    atom_dict = {'positions':v[['x','y','z']].values.tolist(),\n",
    "                 'symbols':[i[0] for i in v[['atom']].values.tolist()]\n",
    "                 }\n",
    "    atom = Atoms(**atom_dict)\n",
    "    dist = atom.get_all_distances()\n",
    "    d = dist.shape[0]\n",
    "    dist = dist[np.tril_indices(d,-1)]\n",
    "    r_info = np.array([dist.max(),dist.min(),dist.mean(),dist.std()])\n",
    "    \n",
    "    acsf = ACSF(species=['C', 'F', 'H', 'N', 'O'],\n",
    "                rcut=r_info[0]+0.5,\n",
    "                g2_params=[[1, 1], [1, 2], [1, 3]],\n",
    "                g4_params=[[1, 1, 1], [1, 2, 1], [1, 1, -1], [1, 2, -1]])\n",
    "    acsf_np = acsf.create(atom)\n",
    "    structures_dict[k] = np.concatenate([acsf_np,v[['C', 'F', 'H', 'N', 'O']].values,\\\n",
    "                                         np.tile(r_info,(d,1))],1).astype(np.float32)"
   ]
  },
  {
   "cell_type": "code",
   "execution_count": null,
   "metadata": {},
   "outputs": [],
   "source": []
  },
  {
   "cell_type": "code",
   "execution_count": null,
   "metadata": {},
   "outputs": [],
   "source": []
  },
  {
   "cell_type": "markdown",
   "metadata": {},
   "source": [
    "### bond information"
   ]
  },
  {
   "cell_type": "code",
   "execution_count": null,
   "metadata": {},
   "outputs": [],
   "source": [
    "assert set(train_bonds.bond_type) == set(test_bonds.bond_type)"
   ]
  },
  {
   "cell_type": "code",
   "execution_count": null,
   "metadata": {},
   "outputs": [],
   "source": [
    "bonds = train_bonds.append(test_bonds, ignore_index=True)"
   ]
  },
  {
   "cell_type": "code",
   "execution_count": null,
   "metadata": {},
   "outputs": [],
   "source": [
    "del train_bonds,test_bonds"
   ]
  },
  {
   "cell_type": "code",
   "execution_count": null,
   "metadata": {},
   "outputs": [],
   "source": [
    "bonds[['1.0CC',\n",
    " '1.0CF',\n",
    " '1.0CH',\n",
    " '1.0CN',\n",
    " '1.0CO',\n",
    " '1.0HN',\n",
    " '1.0HO',\n",
    " '1.0NN',\n",
    " '1.0NO',\n",
    " '1.5CO',\n",
    " '2.0CC',\n",
    " '2.0CN',\n",
    " '2.0CO',\n",
    " '2.0NN',\n",
    " '2.0NO',\n",
    " '3.0CC',\n",
    " '3.0CN']] = pd.get_dummies(bonds.bond_type)"
   ]
  },
  {
   "cell_type": "code",
   "execution_count": null,
   "metadata": {},
   "outputs": [],
   "source": [
    "bonds.head()"
   ]
  },
  {
   "cell_type": "code",
   "execution_count": null,
   "metadata": {},
   "outputs": [],
   "source": [
    "bonds_gb = bonds.groupby(['molecule_name'])"
   ]
  },
  {
   "cell_type": "code",
   "execution_count": null,
   "metadata": {},
   "outputs": [],
   "source": [
    "bonds_edge_index = {}\n",
    "bonds_edge_attr = {}\n",
    "for k,v in bonds_gb:\n",
    "    bonds_edge_index[k] = np.concatenate([v[['atom_index_0','atom_index_1']].values,\\\n",
    "                                          v[['atom_index_1','atom_index_0']].values]).T\n",
    "    bonds_edge_attr[k] = np.tile(v[['L2dist', 'error',\\\n",
    "                                   '1.0CC', '1.0CF', '1.0CH', '1.0CN', '1.0CO','1.0HN',\\\n",
    "                                   '1.0HO', '1.0NN', '1.0NO', '1.5CO', '2.0CC', '2.0CN',\\\n",
    "                                   '2.0CO', '2.0NN', '2.0NO', '3.0CC', '3.0CN']].values.astype(np.float32),(2,1))"
   ]
  },
  {
   "cell_type": "code",
   "execution_count": null,
   "metadata": {},
   "outputs": [],
   "source": []
  },
  {
   "cell_type": "code",
   "execution_count": null,
   "metadata": {},
   "outputs": [],
   "source": []
  },
  {
   "cell_type": "code",
   "execution_count": null,
   "metadata": {},
   "outputs": [],
   "source": []
  },
  {
   "cell_type": "markdown",
   "metadata": {},
   "source": [
    "### coupling information"
   ]
  },
  {
   "cell_type": "code",
   "execution_count": null,
   "metadata": {},
   "outputs": [],
   "source": [
    "assert set(train.type) == set(test.type)"
   ]
  },
  {
   "cell_type": "code",
   "execution_count": null,
   "metadata": {},
   "outputs": [],
   "source": [
    "test['scalar_coupling_constant'] = np.nan"
   ]
  },
  {
   "cell_type": "code",
   "execution_count": null,
   "metadata": {},
   "outputs": [],
   "source": [
    "coupling = train.append(test, ignore_index=True)"
   ]
  },
  {
   "cell_type": "code",
   "execution_count": null,
   "metadata": {},
   "outputs": [],
   "source": [
    "coupling.head()"
   ]
  },
  {
   "cell_type": "code",
   "execution_count": null,
   "metadata": {},
   "outputs": [],
   "source": [
    "def map_atom_info(df, atom_idx):\n",
    "    df = pd.merge(df, structures, how = 'left',\n",
    "                  left_on  = ['molecule_name', f'atom_index_{atom_idx}'],\n",
    "                  right_on = ['molecule_name',  'atom_index'])\n",
    "    \n",
    "    df = df.drop('atom_index', axis=1)\n",
    "    df = df.rename(columns={'atom': f'atom_{atom_idx}',\n",
    "                            'x': f'x_{atom_idx}',\n",
    "                            'y': f'y_{atom_idx}',\n",
    "                            'z': f'z_{atom_idx}'})\n",
    "    return df"
   ]
  },
  {
   "cell_type": "code",
   "execution_count": null,
   "metadata": {},
   "outputs": [],
   "source": [
    "coupling = map_atom_info(coupling, 0)\n",
    "coupling = map_atom_info(coupling, 1)"
   ]
  },
  {
   "cell_type": "code",
   "execution_count": null,
   "metadata": {},
   "outputs": [],
   "source": [
    "coupling = coupling.drop(['atom_0', 'C_x', 'F_x',\n",
    "                          'H_x', 'N_x', 'O_x', 'atom_1','C_y', 'F_y', 'H_y',\n",
    "                          'N_y', 'O_y'], axis=1)"
   ]
  },
  {
   "cell_type": "code",
   "execution_count": null,
   "metadata": {},
   "outputs": [],
   "source": [
    "train_p_0 = coupling[['x_0', 'y_0', 'z_0']].values\n",
    "train_p_1 = coupling[['x_1', 'y_1', 'z_1']].values\n",
    "coupling['dist'] = np.linalg.norm(train_p_0 - train_p_1, axis=1)"
   ]
  },
  {
   "cell_type": "code",
   "execution_count": null,
   "metadata": {},
   "outputs": [],
   "source": [
    "coupling[['1JHC', '1JHN', '2JHC', '2JHH', '2JHN', '3JHC', '3JHH', '3JHN']]=pd.get_dummies(coupling.type)"
   ]
  },
  {
   "cell_type": "code",
   "execution_count": null,
   "metadata": {},
   "outputs": [],
   "source": [
    "coupling = coupling.groupby(['molecule_name'])"
   ]
  },
  {
   "cell_type": "code",
   "execution_count": null,
   "metadata": {},
   "outputs": [],
   "source": [
    "coupling_edge_index = {}\n",
    "coupling_edge_attr = {}\n",
    "coupling_edge_dist = {}\n",
    "coupling_y = {}\n",
    "for k,v in coupling:\n",
    "    coupling_edge_index[k] = v[['atom_index_0','atom_index_1']].values.T\n",
    "    coupling_edge_attr[k] = v[['1JHC','1JHN','2JHC','2JHH','2JHN','3JHC','3JHH','3JHN']].values.astype(np.float32)\n",
    "    coupling_edge_dist[k] = v[['dist']].values.astype(np.float32)\n",
    "    if not np.any(np.isnan(v.scalar_coupling_constant.values)):\n",
    "        coupling_y[k] = v.scalar_coupling_constant.values.astype(np.float32)"
   ]
  },
  {
   "cell_type": "code",
   "execution_count": null,
   "metadata": {},
   "outputs": [],
   "source": []
  },
  {
   "cell_type": "code",
   "execution_count": null,
   "metadata": {},
   "outputs": [],
   "source": []
  },
  {
   "cell_type": "code",
   "execution_count": null,
   "metadata": {},
   "outputs": [],
   "source": []
  },
  {
   "cell_type": "code",
   "execution_count": null,
   "metadata": {},
   "outputs": [],
   "source": [
    "train_mol = np.unique(train.molecule_name)\n",
    "test_mol = np.unique(test.molecule_name)"
   ]
  },
  {
   "cell_type": "code",
   "execution_count": null,
   "metadata": {},
   "outputs": [],
   "source": [
    "train_mol = np.random.permutation(train_mol)"
   ]
  },
  {
   "cell_type": "code",
   "execution_count": null,
   "metadata": {},
   "outputs": [],
   "source": [
    "train_mol2 = train_mol[:70000]\n",
    "val_mol = train_mol[70000:]\n",
    "train_mol = train_mol2"
   ]
  },
  {
   "cell_type": "code",
   "execution_count": null,
   "metadata": {},
   "outputs": [],
   "source": [
    "train_data = [{'x':structures_dict[m],'edge_index':bonds_edge_index[m],\\\n",
    "               'edge_attr':bonds_edge_attr[m],'y':coupling_y[m],\\\n",
    "               'edge_index3':coupling_edge_index[m],'edge_attr3':coupling_edge_attr[m],\\\n",
    "               'edge_attr4':coupling_edge_dist[m]}\n",
    "              for m in train_mol]"
   ]
  },
  {
   "cell_type": "code",
   "execution_count": null,
   "metadata": {},
   "outputs": [],
   "source": [
    "val_data = [{'x':structures_dict[m],'edge_index':bonds_edge_index[m],\\\n",
    "               'edge_attr':bonds_edge_attr[m],'y':coupling_y[m],\\\n",
    "               'edge_index3':coupling_edge_index[m],'edge_attr3':coupling_edge_attr[m],\\\n",
    "               'edge_attr4':coupling_edge_dist[m]}\n",
    "              for m in val_mol]"
   ]
  },
  {
   "cell_type": "code",
   "execution_count": null,
   "metadata": {},
   "outputs": [],
   "source": [
    "test_data = [{'x':structures_dict[m],'edge_index':bonds_edge_index[m],\\\n",
    "               'edge_attr':bonds_edge_attr[m],\\\n",
    "               'edge_index3':coupling_edge_index[m],'edge_attr3':coupling_edge_attr[m],\\\n",
    "               'edge_attr4':coupling_edge_dist[m]}\n",
    "              for m in test_mol]"
   ]
  },
  {
   "cell_type": "code",
   "execution_count": null,
   "metadata": {},
   "outputs": [],
   "source": []
  },
  {
   "cell_type": "code",
   "execution_count": null,
   "metadata": {},
   "outputs": [],
   "source": [
    "with open('../Data/train_data_ACSF.pickle', 'wb') as handle:\n",
    "    pickle.dump(train_data, handle, protocol=pickle.HIGHEST_PROTOCOL)\n",
    "with open('../Data/val_data_ACSF.pickle', 'wb') as handle:\n",
    "    pickle.dump(val_data, handle, protocol=pickle.HIGHEST_PROTOCOL)\n",
    "with open('../Data/test_data_ACSF.pickle', 'wb') as handle:\n",
    "    pickle.dump(test_data, handle, protocol=pickle.HIGHEST_PROTOCOL)"
   ]
  },
  {
   "cell_type": "code",
   "execution_count": null,
   "metadata": {},
   "outputs": [],
   "source": []
  },
  {
   "cell_type": "code",
   "execution_count": 3,
   "metadata": {},
   "outputs": [],
   "source": [
    "with open('../Data/train_data_ACSF.pickle', 'rb') as handle:\n",
    "    train_data = pickle.load(handle)\n",
    "with open('../Data/val_data_ACSF.pickle', 'rb') as handle:\n",
    "    val_data = pickle.load(handle)\n",
    "with open('../Data/test_data_ACSF.pickle', 'rb') as handle:\n",
    "    test_data = pickle.load(handle)"
   ]
  },
  {
   "cell_type": "code",
   "execution_count": 4,
   "metadata": {},
   "outputs": [],
   "source": [
    "# convert numpy array to torch array\n",
    "import torch\n",
    "train_data = [{k:torch.tensor(i[k]) for k in i.keys()} for i in train_data]\n",
    "val_data = [{k:torch.tensor(i[k]) for k in i.keys()} for i in val_data]\n",
    "test_data = [{k:torch.tensor(i[k]) for k in i.keys()} for i in test_data]"
   ]
  },
  {
   "cell_type": "code",
   "execution_count": 5,
   "metadata": {},
   "outputs": [],
   "source": [
    "with open('../Data/train_data_ACSF.pickle', 'wb') as handle:\n",
    "    pickle.dump(train_data, handle, protocol=pickle.HIGHEST_PROTOCOL)\n",
    "with open('../Data/val_data_ACSF.pickle', 'wb') as handle:\n",
    "    pickle.dump(val_data, handle, protocol=pickle.HIGHEST_PROTOCOL)\n",
    "with open('../Data/test_data_ACSF.pickle', 'wb') as handle:\n",
    "    pickle.dump(test_data, handle, protocol=pickle.HIGHEST_PROTOCOL)"
   ]
  },
  {
   "cell_type": "code",
   "execution_count": null,
   "metadata": {},
   "outputs": [],
   "source": []
  }
 ],
 "metadata": {
  "kernelspec": {
   "display_name": "Python 3",
   "language": "python",
   "name": "python3"
  },
  "language_info": {
   "codemirror_mode": {
    "name": "ipython",
    "version": 3
   },
   "file_extension": ".py",
   "mimetype": "text/x-python",
   "name": "python",
   "nbconvert_exporter": "python",
   "pygments_lexer": "ipython3",
   "version": "3.7.2"
  }
 },
 "nbformat": 4,
 "nbformat_minor": 2
}
