{
 "cells": [
  {
   "cell_type": "code",
   "execution_count": 3,
   "metadata": {},
   "outputs": [],
   "source": [
    "import pandas as pd\n",
    "import numpy as np\n",
    "import pickle\n",
    "import json"
   ]
  },
  {
   "cell_type": "code",
   "execution_count": null,
   "metadata": {},
   "outputs": [],
   "source": []
  },
  {
   "cell_type": "code",
   "execution_count": 2,
   "metadata": {},
   "outputs": [],
   "source": [
    "structures = pd.read_csv('../Data/structures.csv')"
   ]
  },
  {
   "cell_type": "code",
   "execution_count": 4,
   "metadata": {},
   "outputs": [
    {
     "data": {
      "text/html": [
       "<div>\n",
       "<style scoped>\n",
       "    .dataframe tbody tr th:only-of-type {\n",
       "        vertical-align: middle;\n",
       "    }\n",
       "\n",
       "    .dataframe tbody tr th {\n",
       "        vertical-align: top;\n",
       "    }\n",
       "\n",
       "    .dataframe thead th {\n",
       "        text-align: right;\n",
       "    }\n",
       "</style>\n",
       "<table border=\"1\" class=\"dataframe\">\n",
       "  <thead>\n",
       "    <tr style=\"text-align: right;\">\n",
       "      <th></th>\n",
       "      <th>molecule_name</th>\n",
       "      <th>atom_index</th>\n",
       "      <th>atom</th>\n",
       "      <th>x</th>\n",
       "      <th>y</th>\n",
       "      <th>z</th>\n",
       "    </tr>\n",
       "  </thead>\n",
       "  <tbody>\n",
       "    <tr>\n",
       "      <th>0</th>\n",
       "      <td>dsgdb9nsd_000001</td>\n",
       "      <td>0</td>\n",
       "      <td>C</td>\n",
       "      <td>-0.012698</td>\n",
       "      <td>1.085804</td>\n",
       "      <td>0.008001</td>\n",
       "    </tr>\n",
       "    <tr>\n",
       "      <th>1</th>\n",
       "      <td>dsgdb9nsd_000001</td>\n",
       "      <td>1</td>\n",
       "      <td>H</td>\n",
       "      <td>0.002150</td>\n",
       "      <td>-0.006031</td>\n",
       "      <td>0.001976</td>\n",
       "    </tr>\n",
       "    <tr>\n",
       "      <th>2</th>\n",
       "      <td>dsgdb9nsd_000001</td>\n",
       "      <td>2</td>\n",
       "      <td>H</td>\n",
       "      <td>1.011731</td>\n",
       "      <td>1.463751</td>\n",
       "      <td>0.000277</td>\n",
       "    </tr>\n",
       "    <tr>\n",
       "      <th>3</th>\n",
       "      <td>dsgdb9nsd_000001</td>\n",
       "      <td>3</td>\n",
       "      <td>H</td>\n",
       "      <td>-0.540815</td>\n",
       "      <td>1.447527</td>\n",
       "      <td>-0.876644</td>\n",
       "    </tr>\n",
       "    <tr>\n",
       "      <th>4</th>\n",
       "      <td>dsgdb9nsd_000001</td>\n",
       "      <td>4</td>\n",
       "      <td>H</td>\n",
       "      <td>-0.523814</td>\n",
       "      <td>1.437933</td>\n",
       "      <td>0.906397</td>\n",
       "    </tr>\n",
       "  </tbody>\n",
       "</table>\n",
       "</div>"
      ],
      "text/plain": [
       "      molecule_name  atom_index atom         x         y         z\n",
       "0  dsgdb9nsd_000001           0    C -0.012698  1.085804  0.008001\n",
       "1  dsgdb9nsd_000001           1    H  0.002150 -0.006031  0.001976\n",
       "2  dsgdb9nsd_000001           2    H  1.011731  1.463751  0.000277\n",
       "3  dsgdb9nsd_000001           3    H -0.540815  1.447527 -0.876644\n",
       "4  dsgdb9nsd_000001           4    H -0.523814  1.437933  0.906397"
      ]
     },
     "execution_count": 4,
     "metadata": {},
     "output_type": "execute_result"
    }
   ],
   "source": [
    "structures.head()"
   ]
  },
  {
   "cell_type": "code",
   "execution_count": null,
   "metadata": {},
   "outputs": [],
   "source": []
  },
  {
   "cell_type": "code",
   "execution_count": 21,
   "metadata": {},
   "outputs": [],
   "source": [
    "atom_list = ['H','C','N','O','F']"
   ]
  },
  {
   "cell_type": "code",
   "execution_count": 22,
   "metadata": {},
   "outputs": [],
   "source": [
    "with open('../Data/elemental_embedding_1MEGNet_layer.json') as f:\n",
    "    atom = json.load(f)"
   ]
  },
  {
   "cell_type": "code",
   "execution_count": 23,
   "metadata": {},
   "outputs": [],
   "source": [
    "atom = {a:atom[a] for a in atom_list}"
   ]
  },
  {
   "cell_type": "code",
   "execution_count": 25,
   "metadata": {},
   "outputs": [],
   "source": [
    "atomic_radius = {'H':0.38+0.05, 'C':0.77+0.05, 'N':0.75+0.05, 'O':0.73+0.05, 'F':0.71+0.05} \n",
    "electronegativity = {'H':2.2, 'C':2.55, 'N':3.04, 'O':3.44, 'F':3.98}"
   ]
  },
  {
   "cell_type": "code",
   "execution_count": 26,
   "metadata": {},
   "outputs": [],
   "source": [
    "for a in atom_list:\n",
    "    atom[a].extend([atomic_radius[a],electronegativity[a]])"
   ]
  },
  {
   "cell_type": "code",
   "execution_count": 28,
   "metadata": {},
   "outputs": [],
   "source": [
    "atom = pd.DataFrame(atom).T"
   ]
  },
  {
   "cell_type": "code",
   "execution_count": 29,
   "metadata": {},
   "outputs": [
    {
     "data": {
      "text/html": [
       "<div>\n",
       "<style scoped>\n",
       "    .dataframe tbody tr th:only-of-type {\n",
       "        vertical-align: middle;\n",
       "    }\n",
       "\n",
       "    .dataframe tbody tr th {\n",
       "        vertical-align: top;\n",
       "    }\n",
       "\n",
       "    .dataframe thead th {\n",
       "        text-align: right;\n",
       "    }\n",
       "</style>\n",
       "<table border=\"1\" class=\"dataframe\">\n",
       "  <thead>\n",
       "    <tr style=\"text-align: right;\">\n",
       "      <th></th>\n",
       "      <th>0</th>\n",
       "      <th>1</th>\n",
       "      <th>2</th>\n",
       "      <th>3</th>\n",
       "      <th>4</th>\n",
       "      <th>5</th>\n",
       "      <th>6</th>\n",
       "      <th>7</th>\n",
       "      <th>8</th>\n",
       "      <th>9</th>\n",
       "      <th>10</th>\n",
       "      <th>11</th>\n",
       "      <th>12</th>\n",
       "      <th>13</th>\n",
       "      <th>14</th>\n",
       "      <th>15</th>\n",
       "      <th>16</th>\n",
       "      <th>17</th>\n",
       "    </tr>\n",
       "  </thead>\n",
       "  <tbody>\n",
       "    <tr>\n",
       "      <th>H</th>\n",
       "      <td>0.352363</td>\n",
       "      <td>0.635952</td>\n",
       "      <td>0.217338</td>\n",
       "      <td>-0.191956</td>\n",
       "      <td>0.253751</td>\n",
       "      <td>-0.423261</td>\n",
       "      <td>0.221297</td>\n",
       "      <td>-0.452411</td>\n",
       "      <td>-1.007713</td>\n",
       "      <td>-0.289936</td>\n",
       "      <td>0.126820</td>\n",
       "      <td>-0.025928</td>\n",
       "      <td>0.717508</td>\n",
       "      <td>-0.631993</td>\n",
       "      <td>0.021095</td>\n",
       "      <td>-0.270104</td>\n",
       "      <td>0.43</td>\n",
       "      <td>2.20</td>\n",
       "    </tr>\n",
       "    <tr>\n",
       "      <th>C</th>\n",
       "      <td>0.398148</td>\n",
       "      <td>0.744485</td>\n",
       "      <td>0.662636</td>\n",
       "      <td>-0.520578</td>\n",
       "      <td>-0.673885</td>\n",
       "      <td>-0.476654</td>\n",
       "      <td>0.698720</td>\n",
       "      <td>0.607385</td>\n",
       "      <td>-0.562160</td>\n",
       "      <td>0.673558</td>\n",
       "      <td>0.587440</td>\n",
       "      <td>0.619206</td>\n",
       "      <td>0.615198</td>\n",
       "      <td>-0.749764</td>\n",
       "      <td>-0.552250</td>\n",
       "      <td>-0.652751</td>\n",
       "      <td>0.82</td>\n",
       "      <td>2.55</td>\n",
       "    </tr>\n",
       "    <tr>\n",
       "      <th>N</th>\n",
       "      <td>0.611494</td>\n",
       "      <td>0.001810</td>\n",
       "      <td>0.620457</td>\n",
       "      <td>-0.446009</td>\n",
       "      <td>0.094431</td>\n",
       "      <td>-0.817922</td>\n",
       "      <td>-0.130236</td>\n",
       "      <td>-0.645908</td>\n",
       "      <td>0.021001</td>\n",
       "      <td>-0.271362</td>\n",
       "      <td>-0.204580</td>\n",
       "      <td>0.586720</td>\n",
       "      <td>0.663307</td>\n",
       "      <td>-0.584931</td>\n",
       "      <td>-0.367534</td>\n",
       "      <td>-0.559885</td>\n",
       "      <td>0.80</td>\n",
       "      <td>3.04</td>\n",
       "    </tr>\n",
       "    <tr>\n",
       "      <th>O</th>\n",
       "      <td>-0.113972</td>\n",
       "      <td>-0.188673</td>\n",
       "      <td>0.108998</td>\n",
       "      <td>0.214548</td>\n",
       "      <td>0.371144</td>\n",
       "      <td>-0.103028</td>\n",
       "      <td>-0.404307</td>\n",
       "      <td>-0.502800</td>\n",
       "      <td>0.313225</td>\n",
       "      <td>-0.465547</td>\n",
       "      <td>-0.369454</td>\n",
       "      <td>-0.103702</td>\n",
       "      <td>-0.042888</td>\n",
       "      <td>0.087557</td>\n",
       "      <td>0.192867</td>\n",
       "      <td>0.038902</td>\n",
       "      <td>0.78</td>\n",
       "      <td>3.44</td>\n",
       "    </tr>\n",
       "    <tr>\n",
       "      <th>F</th>\n",
       "      <td>-0.308105</td>\n",
       "      <td>-0.575614</td>\n",
       "      <td>-0.171835</td>\n",
       "      <td>0.462324</td>\n",
       "      <td>0.702146</td>\n",
       "      <td>0.220106</td>\n",
       "      <td>-0.503306</td>\n",
       "      <td>-0.394980</td>\n",
       "      <td>0.283450</td>\n",
       "      <td>-0.584290</td>\n",
       "      <td>-0.465051</td>\n",
       "      <td>-0.447120</td>\n",
       "      <td>-0.242727</td>\n",
       "      <td>0.444719</td>\n",
       "      <td>0.501850</td>\n",
       "      <td>0.371508</td>\n",
       "      <td>0.76</td>\n",
       "      <td>3.98</td>\n",
       "    </tr>\n",
       "  </tbody>\n",
       "</table>\n",
       "</div>"
      ],
      "text/plain": [
       "         0         1         2         3         4         5         6   \\\n",
       "H  0.352363  0.635952  0.217338 -0.191956  0.253751 -0.423261  0.221297   \n",
       "C  0.398148  0.744485  0.662636 -0.520578 -0.673885 -0.476654  0.698720   \n",
       "N  0.611494  0.001810  0.620457 -0.446009  0.094431 -0.817922 -0.130236   \n",
       "O -0.113972 -0.188673  0.108998  0.214548  0.371144 -0.103028 -0.404307   \n",
       "F -0.308105 -0.575614 -0.171835  0.462324  0.702146  0.220106 -0.503306   \n",
       "\n",
       "         7         8         9         10        11        12        13  \\\n",
       "H -0.452411 -1.007713 -0.289936  0.126820 -0.025928  0.717508 -0.631993   \n",
       "C  0.607385 -0.562160  0.673558  0.587440  0.619206  0.615198 -0.749764   \n",
       "N -0.645908  0.021001 -0.271362 -0.204580  0.586720  0.663307 -0.584931   \n",
       "O -0.502800  0.313225 -0.465547 -0.369454 -0.103702 -0.042888  0.087557   \n",
       "F -0.394980  0.283450 -0.584290 -0.465051 -0.447120 -0.242727  0.444719   \n",
       "\n",
       "         14        15    16    17  \n",
       "H  0.021095 -0.270104  0.43  2.20  \n",
       "C -0.552250 -0.652751  0.82  2.55  \n",
       "N -0.367534 -0.559885  0.80  3.04  \n",
       "O  0.192867  0.038902  0.78  3.44  \n",
       "F  0.501850  0.371508  0.76  3.98  "
      ]
     },
     "execution_count": 29,
     "metadata": {},
     "output_type": "execute_result"
    }
   ],
   "source": [
    "atom"
   ]
  },
  {
   "cell_type": "code",
   "execution_count": null,
   "metadata": {},
   "outputs": [],
   "source": []
  },
  {
   "cell_type": "code",
   "execution_count": 30,
   "metadata": {},
   "outputs": [],
   "source": [
    "structures = structures.merge(atom,'left',left_on='atom',right_index=True)"
   ]
  },
  {
   "cell_type": "code",
   "execution_count": null,
   "metadata": {},
   "outputs": [],
   "source": []
  },
  {
   "cell_type": "code",
   "execution_count": 32,
   "metadata": {},
   "outputs": [],
   "source": [
    "atom_qm9 = pd.read_pickle('../Data/structure_qm9.pkl')"
   ]
  },
  {
   "cell_type": "code",
   "execution_count": 36,
   "metadata": {
    "scrolled": true
   },
   "outputs": [
    {
     "data": {
      "text/html": [
       "<div>\n",
       "<style scoped>\n",
       "    .dataframe tbody tr th:only-of-type {\n",
       "        vertical-align: middle;\n",
       "    }\n",
       "\n",
       "    .dataframe tbody tr th {\n",
       "        vertical-align: top;\n",
       "    }\n",
       "\n",
       "    .dataframe thead th {\n",
       "        text-align: right;\n",
       "    }\n",
       "</style>\n",
       "<table border=\"1\" class=\"dataframe\">\n",
       "  <thead>\n",
       "    <tr style=\"text-align: right;\">\n",
       "      <th></th>\n",
       "      <th>molecule_name</th>\n",
       "      <th>atom_index</th>\n",
       "      <th>mulliken</th>\n",
       "    </tr>\n",
       "  </thead>\n",
       "  <tbody>\n",
       "    <tr>\n",
       "      <th>0</th>\n",
       "      <td>dsgdb9nsd_095219</td>\n",
       "      <td>0</td>\n",
       "      <td>-0.400745</td>\n",
       "    </tr>\n",
       "    <tr>\n",
       "      <th>1</th>\n",
       "      <td>dsgdb9nsd_095219</td>\n",
       "      <td>1</td>\n",
       "      <td>0.096697</td>\n",
       "    </tr>\n",
       "    <tr>\n",
       "      <th>2</th>\n",
       "      <td>dsgdb9nsd_095219</td>\n",
       "      <td>2</td>\n",
       "      <td>-0.259809</td>\n",
       "    </tr>\n",
       "    <tr>\n",
       "      <th>3</th>\n",
       "      <td>dsgdb9nsd_095219</td>\n",
       "      <td>3</td>\n",
       "      <td>-0.120536</td>\n",
       "    </tr>\n",
       "    <tr>\n",
       "      <th>4</th>\n",
       "      <td>dsgdb9nsd_095219</td>\n",
       "      <td>4</td>\n",
       "      <td>0.052314</td>\n",
       "    </tr>\n",
       "  </tbody>\n",
       "</table>\n",
       "</div>"
      ],
      "text/plain": [
       "      molecule_name  atom_index  mulliken\n",
       "0  dsgdb9nsd_095219           0 -0.400745\n",
       "1  dsgdb9nsd_095219           1  0.096697\n",
       "2  dsgdb9nsd_095219           2 -0.259809\n",
       "3  dsgdb9nsd_095219           3 -0.120536\n",
       "4  dsgdb9nsd_095219           4  0.052314"
      ]
     },
     "execution_count": 36,
     "metadata": {},
     "output_type": "execute_result"
    }
   ],
   "source": [
    "atom_qm9.head()"
   ]
  },
  {
   "cell_type": "code",
   "execution_count": 37,
   "metadata": {},
   "outputs": [],
   "source": [
    "structures = structures.merge(atom_qm9,'left',on=['molecule_name','atom_index'])"
   ]
  },
  {
   "cell_type": "code",
   "execution_count": null,
   "metadata": {},
   "outputs": [],
   "source": []
  },
  {
   "cell_type": "code",
   "execution_count": null,
   "metadata": {},
   "outputs": [],
   "source": []
  },
  {
   "cell_type": "code",
   "execution_count": 41,
   "metadata": {},
   "outputs": [],
   "source": [
    "structures = structures.sort_values(by=['molecule_name', 'atom_index'])"
   ]
  },
  {
   "cell_type": "code",
   "execution_count": 42,
   "metadata": {},
   "outputs": [],
   "source": [
    "structures_gb = structures.groupby(['molecule_name'])"
   ]
  },
  {
   "cell_type": "code",
   "execution_count": 43,
   "metadata": {},
   "outputs": [],
   "source": [
    "structures_dict = {k: v.iloc[:,6:].values.astype(np.float32) for k,v in structures_gb}"
   ]
  },
  {
   "cell_type": "code",
   "execution_count": 50,
   "metadata": {},
   "outputs": [],
   "source": [
    "with open('../Data/structures_dict_atomInfo.pickle', 'wb') as handle:\n",
    "    pickle.dump(structures_dict, handle, protocol=pickle.HIGHEST_PROTOCOL)"
   ]
  },
  {
   "cell_type": "code",
   "execution_count": null,
   "metadata": {},
   "outputs": [],
   "source": []
  },
  {
   "cell_type": "code",
   "execution_count": null,
   "metadata": {},
   "outputs": [],
   "source": []
  }
 ],
 "metadata": {
  "kernelspec": {
   "display_name": "Python 3",
   "language": "python",
   "name": "python3"
  },
  "language_info": {
   "codemirror_mode": {
    "name": "ipython",
    "version": 3
   },
   "file_extension": ".py",
   "mimetype": "text/x-python",
   "name": "python",
   "nbconvert_exporter": "python",
   "pygments_lexer": "ipython3",
   "version": "3.7.2"
  }
 },
 "nbformat": 4,
 "nbformat_minor": 2
}
