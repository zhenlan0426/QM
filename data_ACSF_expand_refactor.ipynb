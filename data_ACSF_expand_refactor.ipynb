{
 "cells": [
  {
   "cell_type": "code",
   "execution_count": 1,
   "metadata": {},
   "outputs": [],
   "source": [
    "import pandas as pd\n",
    "import numpy as np\n",
    "import pickle\n",
    "from ase import Atoms\n",
    "from dscribe.descriptors import ACSF\n",
    "import copy"
   ]
  },
  {
   "cell_type": "code",
   "execution_count": 2,
   "metadata": {},
   "outputs": [],
   "source": [
    "train = pd.read_csv('../Data/train.csv')\n",
    "test = pd.read_csv('../Data/test.csv')\n",
    "structures = pd.read_csv('../Data/structures.csv')\n",
    "train_bonds = pd.read_csv('../Data/train_bonds.csv')\n",
    "test_bonds = pd.read_csv('../Data/test_bonds.csv')"
   ]
  },
  {
   "cell_type": "code",
   "execution_count": 3,
   "metadata": {},
   "outputs": [],
   "source": [
    "test_bonds = test_bonds.drop('Unnamed: 0',1)\n",
    "train_bonds = train_bonds.drop('Unnamed: 0',1)"
   ]
  },
  {
   "cell_type": "code",
   "execution_count": null,
   "metadata": {},
   "outputs": [],
   "source": []
  },
  {
   "cell_type": "code",
   "execution_count": null,
   "metadata": {},
   "outputs": [],
   "source": []
  },
  {
   "cell_type": "markdown",
   "metadata": {},
   "source": [
    "### node information"
   ]
  },
  {
   "cell_type": "code",
   "execution_count": 4,
   "metadata": {},
   "outputs": [],
   "source": [
    "with open('../Data/structures_dict_ACSF_3_4.pickle', 'rb') as handle:\n",
    "    structures_dict = pickle.load(handle)"
   ]
  },
  {
   "cell_type": "code",
   "execution_count": null,
   "metadata": {},
   "outputs": [],
   "source": []
  },
  {
   "cell_type": "markdown",
   "metadata": {},
   "source": [
    "### bond information"
   ]
  },
  {
   "cell_type": "code",
   "execution_count": 5,
   "metadata": {},
   "outputs": [],
   "source": [
    "with open('../Data/bonds_edge_index.pickle', 'rb') as handle:\n",
    "    bonds_edge_index = pickle.load(handle)\n",
    "with open('../Data/bonds_edge_attr.pickle', 'rb') as handle:\n",
    "    bonds_edge_attr = pickle.load(handle)"
   ]
  },
  {
   "cell_type": "code",
   "execution_count": 4,
   "metadata": {},
   "outputs": [],
   "source": [
    "n_points = 25\n",
    "start1, stop1 = 0.6, 1.6\n",
    "start2, stop2 = 1.0, 3.8"
   ]
  },
  {
   "cell_type": "code",
   "execution_count": 5,
   "metadata": {},
   "outputs": [],
   "source": [
    "offset1 = np.linspace(start1,stop1,n_points)[np.newaxis,:]\n",
    "coeff1 = -0.5/np.power(offset1[0,0] - offset1[0,1], 2)\n",
    "offset2 = np.linspace(start2,stop2,n_points)[np.newaxis,:]\n",
    "coeff2 = -0.5/np.power(offset2[0,0] - offset2[0,1], 2)"
   ]
  },
  {
   "cell_type": "code",
   "execution_count": 42,
   "metadata": {},
   "outputs": [],
   "source": [
    "for k,v in bonds_edge_attr.items():\n",
    "    gauss = np.exp(coeff1 * np.power((v[:,0:1]-offset1), 2))\n",
    "    bonds_edge_attr[k] = np.concatenate([v,gauss],1)"
   ]
  },
  {
   "cell_type": "code",
   "execution_count": 44,
   "metadata": {},
   "outputs": [],
   "source": [
    "with open('../Data/bonds_edge_attr_expand.pickle', 'wb') as handle:\n",
    "    pickle.dump(bonds_edge_attr, handle, protocol=pickle.HIGHEST_PROTOCOL)    "
   ]
  },
  {
   "cell_type": "code",
   "execution_count": null,
   "metadata": {},
   "outputs": [],
   "source": []
  },
  {
   "cell_type": "code",
   "execution_count": null,
   "metadata": {},
   "outputs": [],
   "source": []
  },
  {
   "cell_type": "code",
   "execution_count": null,
   "metadata": {},
   "outputs": [],
   "source": []
  },
  {
   "cell_type": "markdown",
   "metadata": {},
   "source": [
    "### coupling information"
   ]
  },
  {
   "cell_type": "code",
   "execution_count": 2,
   "metadata": {},
   "outputs": [],
   "source": [
    "with open('../Data/coupling_edge_index.pickle', 'rb') as handle:\n",
    "    coupling_edge_index = pickle.load(handle)\n",
    "with open('../Data/coupling_edge_attr.pickle', 'rb') as handle:\n",
    "    coupling_edge_attr = pickle.load(handle)\n",
    "with open('../Data/coupling_edge_dist.pickle', 'rb') as handle:\n",
    "    coupling_edge_dist = pickle.load(handle)\n",
    "with open('../Data/coupling_y.pickle', 'rb') as handle:\n",
    "    coupling_y = pickle.load(handle)\n",
    "with open('../Data/coupling_id.pickle', 'rb') as handle:\n",
    "    coupling_id = pickle.load(handle)    "
   ]
  },
  {
   "cell_type": "code",
   "execution_count": 6,
   "metadata": {},
   "outputs": [],
   "source": [
    "for k,v in coupling_edge_dist.items():\n",
    "    gauss = np.exp(coeff2 * np.power((v[:,0:1]-offset2), 2))\n",
    "    coupling_edge_dist[k] = np.concatenate([v,gauss],1)"
   ]
  },
  {
   "cell_type": "code",
   "execution_count": 9,
   "metadata": {},
   "outputs": [],
   "source": [
    "with open('../Data/coupling_edge_dist_expand.pickle', 'wb') as handle:\n",
    "    pickle.dump(coupling_edge_dist, handle, protocol=pickle.HIGHEST_PROTOCOL)    "
   ]
  },
  {
   "cell_type": "code",
   "execution_count": null,
   "metadata": {},
   "outputs": [],
   "source": []
  },
  {
   "cell_type": "code",
   "execution_count": null,
   "metadata": {},
   "outputs": [],
   "source": []
  },
  {
   "cell_type": "code",
   "execution_count": 56,
   "metadata": {},
   "outputs": [],
   "source": [
    "train_mol = np.unique(train.molecule_name)\n",
    "test_mol = np.unique(test.molecule_name)"
   ]
  },
  {
   "cell_type": "code",
   "execution_count": 57,
   "metadata": {},
   "outputs": [],
   "source": [
    "train_mol = np.random.permutation(train_mol)"
   ]
  },
  {
   "cell_type": "code",
   "execution_count": 58,
   "metadata": {},
   "outputs": [],
   "source": [
    "train_mol2 = train_mol[:70000]\n",
    "val_mol = train_mol[70000:]\n",
    "train_mol = train_mol2"
   ]
  },
  {
   "cell_type": "code",
   "execution_count": null,
   "metadata": {},
   "outputs": [],
   "source": []
  },
  {
   "cell_type": "code",
   "execution_count": null,
   "metadata": {},
   "outputs": [],
   "source": []
  },
  {
   "cell_type": "code",
   "execution_count": 59,
   "metadata": {},
   "outputs": [],
   "source": [
    "def create_data(mols,IsTrain):\n",
    "    type_list = [[] for _ in range(8)]\n",
    "    tot_list = []\n",
    "    if not IsTrain:\n",
    "        test_id_type_list = [[] for _ in range(8)]\n",
    "        test_id_list = []\n",
    "        \n",
    "    for m in mols:\n",
    "        if IsTrain:\n",
    "            dict_ = {'x':structures_dict[m],'edge_index':bonds_edge_index[m],\\\n",
    "                               'edge_attr':bonds_edge_attr[m],'y':coupling_y[m],\\\n",
    "                               'edge_index3':coupling_edge_index[m],'edge_attr3':coupling_edge_attr[m],\\\n",
    "                               'edge_attr4':coupling_edge_dist[m]}\n",
    "            tot_list.append(copy.deepcopy(dict_))\n",
    "                        \n",
    "            temp = dict_['edge_attr3'].argmax(1)\n",
    "            for i in np.nonzero(dict_['edge_attr3'].sum(0))[0]:\n",
    "                dict_['type_attr'] = (temp==i).astype(np.uint8)\n",
    "                type_list[i].append(copy.deepcopy(dict_))\n",
    "        else:\n",
    "            dict_ = {'x':structures_dict[m],'edge_index':bonds_edge_index[m],\\\n",
    "                       'edge_attr':bonds_edge_attr[m],\\\n",
    "                       'edge_index3':coupling_edge_index[m],'edge_attr3':coupling_edge_attr[m],\\\n",
    "                       'edge_attr4':coupling_edge_dist[m]}\n",
    "            tot_list.append(copy.deepcopy(dict_))\n",
    "            test_id_list.append(coupling_id[m])\n",
    "            \n",
    "            temp = dict_['edge_attr3'].argmax(1)\n",
    "            for i in np.nonzero(dict_['edge_attr3'].sum(0))[0]:\n",
    "                dict_['type_attr'] = (temp==i).astype(np.uint8)\n",
    "                type_list[i].append(copy.deepcopy(dict_))\n",
    "                test_id_type_list[i].append(coupling_id[m][temp==i])\n",
    "    \n",
    "    if IsTrain:\n",
    "        return tot_list,type_list \n",
    "    else:\n",
    "        return tot_list,type_list,np.concatenate(test_id_list),[np.concatenate(type_i) for type_i in test_id_type_list]"
   ]
  },
  {
   "cell_type": "code",
   "execution_count": null,
   "metadata": {},
   "outputs": [],
   "source": []
  },
  {
   "cell_type": "code",
   "execution_count": 60,
   "metadata": {},
   "outputs": [],
   "source": [
    "tot_list_train,type_list_train = create_data(train_mol,True)\n",
    "tot_list_val,type_list_val = create_data(val_mol,True)\n",
    "tot_list_test,type_list_test,test_id,test_id_type = create_data(test_mol,False)"
   ]
  },
  {
   "cell_type": "code",
   "execution_count": null,
   "metadata": {},
   "outputs": [],
   "source": []
  },
  {
   "cell_type": "code",
   "execution_count": 61,
   "metadata": {},
   "outputs": [],
   "source": [
    "with open('../Data/train_data_ACSF_expand.pickle', 'wb') as handle:\n",
    "    pickle.dump(tot_list_train, handle, protocol=pickle.HIGHEST_PROTOCOL)\n",
    "with open('../Data/val_data_ACSF_expand.pickle', 'wb') as handle:\n",
    "    pickle.dump(tot_list_val, handle, protocol=pickle.HIGHEST_PROTOCOL)\n",
    "with open('../Data/test_data_ACSF_expand.pickle', 'wb') as handle:\n",
    "    pickle.dump(tot_list_test, handle, protocol=pickle.HIGHEST_PROTOCOL)"
   ]
  },
  {
   "cell_type": "code",
   "execution_count": 62,
   "metadata": {},
   "outputs": [],
   "source": [
    "with open('../Data/test_data_ACSF_expand_id.pickle', 'wb') as handle:\n",
    "    pickle.dump(test_id, handle, protocol=pickle.HIGHEST_PROTOCOL)"
   ]
  },
  {
   "cell_type": "code",
   "execution_count": 10,
   "metadata": {},
   "outputs": [],
   "source": [
    "def save_type(prefix,type_list):\n",
    "    for i,type_ in enumerate(type_list):\n",
    "        with open(prefix+'_type_'+str(i)+'.pickle', 'wb') as handle:\n",
    "            pickle.dump(type_, handle, protocol=pickle.HIGHEST_PROTOCOL)"
   ]
  },
  {
   "cell_type": "code",
   "execution_count": 64,
   "metadata": {},
   "outputs": [],
   "source": [
    "save_type('../Data/train_data_ACSF_expand',type_list_train)\n",
    "save_type('../Data/val_data_ACSF_expand',type_list_val)\n",
    "save_type('../Data/test_data_ACSF_expand',type_list_test)"
   ]
  },
  {
   "cell_type": "code",
   "execution_count": 65,
   "metadata": {},
   "outputs": [],
   "source": [
    "save_type('../Data/test_data_ACSF_expand_id',test_id_type)"
   ]
  },
  {
   "cell_type": "code",
   "execution_count": null,
   "metadata": {},
   "outputs": [],
   "source": []
  },
  {
   "cell_type": "markdown",
   "metadata": {},
   "source": [
    "numpy -> torch"
   ]
  },
  {
   "cell_type": "code",
   "execution_count": 2,
   "metadata": {},
   "outputs": [],
   "source": [
    "with open('../Data/train_data_ACSF_expand.pickle', 'rb') as handle:\n",
    "    train_data = pickle.load(handle)\n",
    "with open('../Data/val_data_ACSF_expand.pickle', 'rb') as handle:\n",
    "    val_data = pickle.load(handle)\n",
    "with open('../Data/test_data_ACSF_expand.pickle', 'rb') as handle:\n",
    "    test_data = pickle.load(handle)"
   ]
  },
  {
   "cell_type": "code",
   "execution_count": 3,
   "metadata": {},
   "outputs": [],
   "source": [
    "def load_type(prefix):\n",
    "    data = []\n",
    "    for i in range(8):\n",
    "        with open(prefix+'_type_'+str(i)+'.pickle', 'rb') as handle:\n",
    "            data.append(pickle.load(handle))\n",
    "    return data"
   ]
  },
  {
   "cell_type": "code",
   "execution_count": 4,
   "metadata": {},
   "outputs": [],
   "source": [
    "train_data_type = load_type('../Data/train_data_ACSF_expand')\n",
    "val_data_type = load_type('../Data/val_data_ACSF_expand')\n",
    "test_data_type = load_type('../Data/test_data_ACSF_expand')"
   ]
  },
  {
   "cell_type": "code",
   "execution_count": null,
   "metadata": {},
   "outputs": [],
   "source": []
  },
  {
   "cell_type": "code",
   "execution_count": 5,
   "metadata": {},
   "outputs": [],
   "source": [
    "# convert numpy array to torch array\n",
    "import torch\n",
    "train_data = [{k:torch.tensor(i[k]) for k in i.keys()} for i in train_data]\n",
    "val_data = [{k:torch.tensor(i[k]) for k in i.keys()} for i in val_data]\n",
    "test_data = [{k:torch.tensor(i[k]) for k in i.keys()} for i in test_data]"
   ]
  },
  {
   "cell_type": "code",
   "execution_count": 6,
   "metadata": {},
   "outputs": [],
   "source": [
    "def numpy2torch(type_list):\n",
    "    out = []\n",
    "    for type_ in type_list:\n",
    "        out.append([{k:torch.tensor(i[k]) for k in i.keys()} for i in type_])\n",
    "    return out"
   ]
  },
  {
   "cell_type": "code",
   "execution_count": 7,
   "metadata": {},
   "outputs": [],
   "source": [
    "train_data_type = numpy2torch(train_data_type)\n",
    "val_data_type = numpy2torch(val_data_type)\n",
    "test_data_type = numpy2torch(test_data_type)"
   ]
  },
  {
   "cell_type": "code",
   "execution_count": null,
   "metadata": {},
   "outputs": [],
   "source": []
  },
  {
   "cell_type": "code",
   "execution_count": 8,
   "metadata": {},
   "outputs": [],
   "source": [
    "with open('../Data/train_data_ACSF_expand.pickle', 'wb') as handle:\n",
    "    pickle.dump(train_data, handle, protocol=pickle.HIGHEST_PROTOCOL)\n",
    "with open('../Data/val_data_ACSF_expand.pickle', 'wb') as handle:\n",
    "    pickle.dump(val_data, handle, protocol=pickle.HIGHEST_PROTOCOL)\n",
    "with open('../Data/test_data_ACSF_expand.pickle', 'wb') as handle:\n",
    "    pickle.dump(test_data, handle, protocol=pickle.HIGHEST_PROTOCOL)"
   ]
  },
  {
   "cell_type": "code",
   "execution_count": 11,
   "metadata": {},
   "outputs": [],
   "source": [
    "save_type('../Data/train_data_ACSF_expand',train_data_type)\n",
    "save_type('../Data/val_data_ACSF_expand',val_data_type)\n",
    "save_type('../Data/test_data_ACSF_expand',test_data_type)"
   ]
  },
  {
   "cell_type": "code",
   "execution_count": null,
   "metadata": {},
   "outputs": [],
   "source": []
  }
 ],
 "metadata": {
  "kernelspec": {
   "display_name": "Python 3",
   "language": "python",
   "name": "python3"
  },
  "language_info": {
   "codemirror_mode": {
    "name": "ipython",
    "version": 3
   },
   "file_extension": ".py",
   "mimetype": "text/x-python",
   "name": "python",
   "nbconvert_exporter": "python",
   "pygments_lexer": "ipython3",
   "version": "3.6.8"
  }
 },
 "nbformat": 4,
 "nbformat_minor": 2
}
