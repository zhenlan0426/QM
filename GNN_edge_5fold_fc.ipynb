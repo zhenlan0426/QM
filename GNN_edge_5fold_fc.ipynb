{
 "cells": [
  {
   "cell_type": "code",
   "execution_count": 1,
   "metadata": {},
   "outputs": [],
   "source": [
    "import pickle\n",
    "import torch\n",
    "from torch_geometric.data import Data,DataLoader\n",
    "from functions_refactor import *\n",
    "from pytorch_util import *\n",
    "#from torch.optim import Adam\n",
    "from torch.optim.lr_scheduler import ReduceLROnPlateau"
   ]
  },
  {
   "cell_type": "code",
   "execution_count": 9,
   "metadata": {},
   "outputs": [],
   "source": [
    "# fixed parameters\n",
    "block = MEGNet_block\n",
    "head_mol,head_atom,head_edge = head_mol,head_atom,head_edge\n",
    "clip = 2\n",
    "batch_size = 32\n",
    "threshold = -1.3\n",
    "reuse = False\n",
    "lr = 1e-4"
   ]
  },
  {
   "cell_type": "code",
   "execution_count": 3,
   "metadata": {
    "scrolled": true
   },
   "outputs": [],
   "source": [
    "# changing parameters\n",
    "head = SimplyInteraction\n",
    "data = '../Data/{}_data_ACSF_SOAP_atomInfo_otherInfo.pickle'\n",
    "dim = 512\n",
    "logLoss = True\n",
    "weight = None\n",
    "layer1 = 3\n",
    "layer2 = 3\n",
    "factor = 2\n",
    "epochs = 150\n",
    "aggr = 'max'\n",
    "interleave = False"
   ]
  },
  {
   "cell_type": "code",
   "execution_count": null,
   "metadata": {},
   "outputs": [],
   "source": []
  },
  {
   "cell_type": "code",
   "execution_count": null,
   "metadata": {},
   "outputs": [],
   "source": []
  },
  {
   "cell_type": "code",
   "execution_count": 21,
   "metadata": {},
   "outputs": [],
   "source": [
    "data = '../Data/{}_data_ACSF_expand_PCA.pickle'"
   ]
  },
  {
   "cell_type": "code",
   "execution_count": 22,
   "metadata": {},
   "outputs": [],
   "source": [
    "prefix = 'fc_oof'"
   ]
  },
  {
   "cell_type": "code",
   "execution_count": 23,
   "metadata": {},
   "outputs": [],
   "source": [
    "folds = []\n",
    "for f in range(5):\n",
    "    with open(data.format('train').split('pickle')[0][:-1]+'_f'+str(f)+'.pickle', 'rb') as handle:\n",
    "        folds.append(pickle.load(handle))\n",
    "folds = [[Data(**d) for d in fold] for fold in folds]"
   ]
  },
  {
   "cell_type": "code",
   "execution_count": null,
   "metadata": {},
   "outputs": [],
   "source": []
  },
  {
   "cell_type": "code",
   "execution_count": 33,
   "metadata": {
    "scrolled": false
   },
   "outputs": [
    {
     "name": "stdout",
     "output_type": "stream",
     "text": [
      "\n",
      "start fold 0\n",
      "\n",
      "start fold 1\n",
      "\n",
      "start fold 2\n",
      "\n",
      "start fold 3\n",
      "\n",
      "start fold 4\n"
     ]
    }
   ],
   "source": [
    "oof_features = []\n",
    "for i in range(5):\n",
    "    print('\\nstart fold '+str(i))\n",
    "    # parpare data\n",
    "    train_list = []\n",
    "    val_list = []\n",
    "    for j in range(5):\n",
    "        if i == j:\n",
    "            val_list.extend(folds[j])\n",
    "        else:\n",
    "            train_list.extend(folds[j])\n",
    "    \n",
    "    train_dl = DataLoader(train_list,batch_size,shuffle=True)\n",
    "    val_dl = DataLoader(val_list,batch_size,shuffle=False)\n",
    "    \n",
    "    # train model\n",
    "    model = GNN_multiHead_interleave_auxiliaryOnly(reuse,block,head,head_mol,head_atom,head_edge,\\\n",
    "                          dim,layer1,layer2,factor,**data_dict[data],aggr=aggr,interleave=interleave).to('cuda:0')\n",
    "    paras = trainable_parameter(model)\n",
    "    opt = RAdam(paras,lr=lr,weight_decay=1e-3)\n",
    "    scheduler = ReduceLROnPlateau(opt, 'min',factor=0.5,patience=5,min_lr=1e-05)\n",
    "    \n",
    "    model = train_auxiliaryOnly(opt,model,epochs,train_dl,val_dl,paras,clip,\\\n",
    "                                scheduler=scheduler,logLoss=logLoss,weight=weight,threshold=threshold)\n",
    "    \n",
    "    torch.save({'model_state_dict':model.state_dict()},\\\n",
    "                '../Model/'+prefix+'_fold'+str(i)+'.tar')\n",
    "    \n",
    "    # predict oof for each type\n",
    "    for type_i in range(8):\n",
    "        # load val data and type_id\n",
    "        with open(data.format('train').split('pickle')[0][:-1]+'_f'+str(i)+'_type_'+str(type_i)+'.pickle', 'rb') as handle:\n",
    "            test_data = pickle.load(handle)\n",
    "        test_list = [Data(**d) for d in test_data]\n",
    "        test_dl = DataLoader(test_list,batch_size,shuffle=False)\n",
    "        \n",
    "        with open(data.format('train').split('pickle')[0][:-1]+'_f'+str(i)+'_type_'+str(type_i)+'_id.pickle', 'rb') as handle:\n",
    "            test_id = pickle.load(handle)\n",
    "    \n",
    "        # predict\n",
    "        model.eval()\n",
    "        yhat_list = []\n",
    "        with torch.no_grad():\n",
    "            for data_torch in test_dl:\n",
    "                data_torch = data_torch.to('cuda:0')\n",
    "                yhat_list.append(model(data_torch,False,True))\n",
    "        yhat = torch.cat(yhat_list).cpu().detach().numpy()        \n",
    "    \n",
    "        # join\n",
    "        assert yhat.shape[0]==test_id.shape[0],'yhat and test_id should have same shape'\n",
    "        oof_features.append(pd.DataFrame(np.concatenate([test_id.reshape(-1,1),yhat],1),columns=['id']+['feature_'+str(feature_i) for feature_i in range(yhat.shape[1])]))\n",
    "    \n",
    "    test_features = []    \n",
    "    # predict test\n",
    "    for type_i in range(8):\n",
    "        # load val data and type_id\n",
    "        with open(data.format('test').split('pickle')[0][:-1]+'_type_'+str(type_i)+'.pickle', 'rb') as handle:\n",
    "            test_data = pickle.load(handle)\n",
    "        test_list = [Data(**d) for d in test_data]\n",
    "        test_dl = DataLoader(test_list,batch_size,shuffle=False)\n",
    "        \n",
    "        with open(data.format('test').split('pickle')[0][:-1]+'_id_type_'+str(type_i)+'.pickle', 'rb') as handle:\n",
    "            test_id = pickle.load(handle)\n",
    "    \n",
    "        # predict\n",
    "        model.eval()\n",
    "        yhat_list = []\n",
    "        with torch.no_grad():\n",
    "            for data_torch in test_dl:\n",
    "                data_torch = data_torch.to('cuda:0')\n",
    "                yhat_list.append(model(data_torch,False,True))\n",
    "        yhat = torch.cat(yhat_list).cpu().detach().numpy()        \n",
    "    \n",
    "        # join\n",
    "        assert yhat.shape[0]==test_id.shape[0],'yhat and test_id should have same shape'\n",
    "        test_features.append(pd.DataFrame(np.concatenate([test_id.reshape(-1,1),yhat],1),columns=['id']+['feature_'+str(feature_i) for feature_i in range(yhat.shape[1])]))\n",
    "\n",
    "    if i == 0:\n",
    "        test_oof_df = pd.concat(test_features, ignore_index=True)\n",
    "    else:\n",
    "        temp_df = pd.concat(test_features, ignore_index=True)\n",
    "        test_oof_df.loc[:,['feature_'+str(feature_i) for feature_i in range(yhat.shape[1])]] = test_oof_df.loc[:,['feature_'+str(feature_i) for feature_i in range(yhat.shape[1])]].values \\\n",
    "                                                                                            + temp_df.loc[:,['feature_'+str(feature_i) for feature_i in range(yhat.shape[1])]].values        "
   ]
  },
  {
   "cell_type": "code",
   "execution_count": null,
   "metadata": {},
   "outputs": [],
   "source": []
  },
  {
   "cell_type": "code",
   "execution_count": 34,
   "metadata": {},
   "outputs": [],
   "source": [
    "oof_df = pd.concat(oof_features, ignore_index=True)"
   ]
  },
  {
   "cell_type": "code",
   "execution_count": 35,
   "metadata": {},
   "outputs": [],
   "source": [
    "test_oof_df.loc[:,['feature_'+str(feature_i) for feature_i in range(yhat.shape[1])]] = test_oof_df.loc[:,['feature_'+str(feature_i) for feature_i in range(yhat.shape[1])]]/5"
   ]
  },
  {
   "cell_type": "code",
   "execution_count": 36,
   "metadata": {},
   "outputs": [
    {
     "data": {
      "text/html": [
       "<div>\n",
       "<style scoped>\n",
       "    .dataframe tbody tr th:only-of-type {\n",
       "        vertical-align: middle;\n",
       "    }\n",
       "\n",
       "    .dataframe tbody tr th {\n",
       "        vertical-align: top;\n",
       "    }\n",
       "\n",
       "    .dataframe thead th {\n",
       "        text-align: right;\n",
       "    }\n",
       "</style>\n",
       "<table border=\"1\" class=\"dataframe\">\n",
       "  <thead>\n",
       "    <tr style=\"text-align: right;\">\n",
       "      <th></th>\n",
       "      <th>id</th>\n",
       "      <th>feature_0</th>\n",
       "      <th>feature_1</th>\n",
       "      <th>feature_2</th>\n",
       "      <th>feature_3</th>\n",
       "    </tr>\n",
       "  </thead>\n",
       "  <tbody>\n",
       "    <tr>\n",
       "      <th>0</th>\n",
       "      <td>29752.0</td>\n",
       "      <td>-0.000747</td>\n",
       "      <td>-0.013000</td>\n",
       "      <td>0.027452</td>\n",
       "      <td>-0.048075</td>\n",
       "    </tr>\n",
       "    <tr>\n",
       "      <th>1</th>\n",
       "      <td>29761.0</td>\n",
       "      <td>-0.000739</td>\n",
       "      <td>-0.013015</td>\n",
       "      <td>0.027527</td>\n",
       "      <td>-0.048135</td>\n",
       "    </tr>\n",
       "    <tr>\n",
       "      <th>2</th>\n",
       "      <td>29768.0</td>\n",
       "      <td>-0.000791</td>\n",
       "      <td>-0.013033</td>\n",
       "      <td>0.027499</td>\n",
       "      <td>-0.048114</td>\n",
       "    </tr>\n",
       "    <tr>\n",
       "      <th>3</th>\n",
       "      <td>1570966.0</td>\n",
       "      <td>-0.000629</td>\n",
       "      <td>-0.013023</td>\n",
       "      <td>0.027519</td>\n",
       "      <td>-0.048190</td>\n",
       "    </tr>\n",
       "    <tr>\n",
       "      <th>4</th>\n",
       "      <td>1570969.0</td>\n",
       "      <td>-0.000504</td>\n",
       "      <td>-0.012894</td>\n",
       "      <td>0.027566</td>\n",
       "      <td>-0.048155</td>\n",
       "    </tr>\n",
       "  </tbody>\n",
       "</table>\n",
       "</div>"
      ],
      "text/plain": [
       "          id  feature_0  feature_1  feature_2  feature_3\n",
       "0    29752.0  -0.000747  -0.013000   0.027452  -0.048075\n",
       "1    29761.0  -0.000739  -0.013015   0.027527  -0.048135\n",
       "2    29768.0  -0.000791  -0.013033   0.027499  -0.048114\n",
       "3  1570966.0  -0.000629  -0.013023   0.027519  -0.048190\n",
       "4  1570969.0  -0.000504  -0.012894   0.027566  -0.048155"
      ]
     },
     "execution_count": 36,
     "metadata": {},
     "output_type": "execute_result"
    }
   ],
   "source": [
    "oof_df.head()"
   ]
  },
  {
   "cell_type": "code",
   "execution_count": 37,
   "metadata": {},
   "outputs": [
    {
     "data": {
      "text/html": [
       "<div>\n",
       "<style scoped>\n",
       "    .dataframe tbody tr th:only-of-type {\n",
       "        vertical-align: middle;\n",
       "    }\n",
       "\n",
       "    .dataframe tbody tr th {\n",
       "        vertical-align: top;\n",
       "    }\n",
       "\n",
       "    .dataframe thead th {\n",
       "        text-align: right;\n",
       "    }\n",
       "</style>\n",
       "<table border=\"1\" class=\"dataframe\">\n",
       "  <thead>\n",
       "    <tr style=\"text-align: right;\">\n",
       "      <th></th>\n",
       "      <th>id</th>\n",
       "      <th>feature_0</th>\n",
       "      <th>feature_1</th>\n",
       "      <th>feature_2</th>\n",
       "      <th>feature_3</th>\n",
       "    </tr>\n",
       "  </thead>\n",
       "  <tbody>\n",
       "    <tr>\n",
       "      <th>0</th>\n",
       "      <td>4658148.0</td>\n",
       "      <td>-0.000348</td>\n",
       "      <td>-0.013759</td>\n",
       "      <td>0.027051</td>\n",
       "      <td>-0.048262</td>\n",
       "    </tr>\n",
       "    <tr>\n",
       "      <th>1</th>\n",
       "      <td>4658150.0</td>\n",
       "      <td>-0.000348</td>\n",
       "      <td>-0.013759</td>\n",
       "      <td>0.027051</td>\n",
       "      <td>-0.048262</td>\n",
       "    </tr>\n",
       "    <tr>\n",
       "      <th>2</th>\n",
       "      <td>4658152.0</td>\n",
       "      <td>-0.001041</td>\n",
       "      <td>-0.013132</td>\n",
       "      <td>0.027884</td>\n",
       "      <td>-0.048046</td>\n",
       "    </tr>\n",
       "    <tr>\n",
       "      <th>3</th>\n",
       "      <td>4658156.0</td>\n",
       "      <td>-0.001041</td>\n",
       "      <td>-0.013132</td>\n",
       "      <td>0.027884</td>\n",
       "      <td>-0.048046</td>\n",
       "    </tr>\n",
       "    <tr>\n",
       "      <th>4</th>\n",
       "      <td>4658159.0</td>\n",
       "      <td>-0.000802</td>\n",
       "      <td>-0.013159</td>\n",
       "      <td>0.027614</td>\n",
       "      <td>-0.048097</td>\n",
       "    </tr>\n",
       "  </tbody>\n",
       "</table>\n",
       "</div>"
      ],
      "text/plain": [
       "          id  feature_0  feature_1  feature_2  feature_3\n",
       "0  4658148.0  -0.000348  -0.013759   0.027051  -0.048262\n",
       "1  4658150.0  -0.000348  -0.013759   0.027051  -0.048262\n",
       "2  4658152.0  -0.001041  -0.013132   0.027884  -0.048046\n",
       "3  4658156.0  -0.001041  -0.013132   0.027884  -0.048046\n",
       "4  4658159.0  -0.000802  -0.013159   0.027614  -0.048097"
      ]
     },
     "execution_count": 37,
     "metadata": {},
     "output_type": "execute_result"
    }
   ],
   "source": [
    "test_oof_df.head()"
   ]
  },
  {
   "cell_type": "code",
   "execution_count": null,
   "metadata": {},
   "outputs": [],
   "source": []
  },
  {
   "cell_type": "code",
   "execution_count": null,
   "metadata": {},
   "outputs": [],
   "source": []
  },
  {
   "cell_type": "code",
   "execution_count": null,
   "metadata": {},
   "outputs": [],
   "source": [
    "test_oof_df.to_csv('../Data/test_oof_features_'+prefix,index=False)\n",
    "oof_df.to_csv('../Data/train_oof_features_'+prefix,index=False)"
   ]
  },
  {
   "cell_type": "code",
   "execution_count": null,
   "metadata": {},
   "outputs": [],
   "source": []
  }
 ],
 "metadata": {
  "kernelspec": {
   "display_name": "Python 3",
   "language": "python",
   "name": "python3"
  },
  "language_info": {
   "codemirror_mode": {
    "name": "ipython",
    "version": 3
   },
   "file_extension": ".py",
   "mimetype": "text/x-python",
   "name": "python",
   "nbconvert_exporter": "python",
   "pygments_lexer": "ipython3",
   "version": "3.7.2"
  }
 },
 "nbformat": 4,
 "nbformat_minor": 2
}
