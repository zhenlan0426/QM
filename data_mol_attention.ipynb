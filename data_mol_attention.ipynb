{
 "cells": [
  {
   "cell_type": "code",
   "execution_count": 1,
   "metadata": {},
   "outputs": [],
   "source": [
    "import pandas as pd\n",
    "import numpy as np\n",
    "import pickle\n",
    "import torch"
   ]
  },
  {
   "cell_type": "code",
   "execution_count": 2,
   "metadata": {},
   "outputs": [],
   "source": [
    "train = pd.read_csv('../Data/train.csv')\n",
    "test = pd.read_csv('../Data/test.csv')\n",
    "structures = pd.read_csv('../Data/structures.csv')\n",
    "test['scalar_coupling_constant'] = np.nan"
   ]
  },
  {
   "cell_type": "code",
   "execution_count": 3,
   "metadata": {},
   "outputs": [],
   "source": [
    "coupling = train.append(test, ignore_index=True)\n",
    "\n",
    "def map_atom_info(df, atom_idx):\n",
    "    df = pd.merge(df, structures, how = 'left',\n",
    "                  left_on  = ['molecule_name', f'atom_index_{atom_idx}'],\n",
    "                  right_on = ['molecule_name',  'atom_index'])\n",
    "    \n",
    "    df = df.drop('atom_index', axis=1)\n",
    "    df = df.rename(columns={'atom': f'atom_{atom_idx}',\n",
    "                            'x': f'x_{atom_idx}',\n",
    "                            'y': f'y_{atom_idx}',\n",
    "                            'z': f'z_{atom_idx}'})\n",
    "    return df\n",
    "\n",
    "coupling = map_atom_info(coupling, 0)\n",
    "coupling = map_atom_info(coupling, 1)\n",
    "\n",
    "train_p_0 = coupling[['x_0', 'y_0', 'z_0']].values\n",
    "train_p_1 = coupling[['x_1', 'y_1', 'z_1']].values\n",
    "coupling['dist'] = np.linalg.norm(train_p_0 - train_p_1, axis=1)\n",
    "coupling[['1JHC', '1JHN', '2JHC', '2JHH', '2JHN', '3JHC', '3JHH', '3JHN']]=pd.get_dummies(coupling.type)\n",
    "coupling = coupling.groupby(['molecule_name'])\n",
    "\n",
    "coupling_edge_index = {}\n",
    "coupling_edge_attr = {}\n",
    "coupling_y = {}\n",
    "for k,v in coupling:\n",
    "    coupling_edge_index[k] = v[['atom_index_0','atom_index_1']].values\n",
    "    coupling_edge_attr[k] = v[['1JHC','1JHN','2JHC','2JHH','2JHN','3JHC','3JHH','3JHN',\\\n",
    "                               'dist','x_0', 'y_0', 'z_0','x_1', 'y_1', 'z_1']].values.astype(np.float32)\n",
    "\n",
    "    if not np.any(np.isnan(v.scalar_coupling_constant.values)):\n",
    "        coupling_y[k] = v.scalar_coupling_constant.values.astype(np.float32)\n",
    "    else:\n",
    "        coupling_y[k] = v.id.values"
   ]
  },
  {
   "cell_type": "code",
   "execution_count": 4,
   "metadata": {},
   "outputs": [],
   "source": [
    "structures[['C', 'F', 'H', 'N', 'O']] = pd.get_dummies(structures.atom)\n",
    "structures_gb = structures.groupby(['molecule_name'])\n",
    "structures_gb = {k:v.loc[:,['x','y','z','C', 'F', 'H', 'N', 'O']].values.astype(np.float32) for k,v in structures_gb}"
   ]
  },
  {
   "cell_type": "code",
   "execution_count": 5,
   "metadata": {},
   "outputs": [],
   "source": [
    "# split train/val\n",
    "train_mol = np.unique(train.molecule_name)\n",
    "test_mol = np.unique(test.molecule_name)\n",
    "train_mol = np.random.permutation(train_mol)\n",
    "train_mol2 = train_mol[:70000]\n",
    "val_mol = train_mol[70000:]\n",
    "train_mol = train_mol2"
   ]
  },
  {
   "cell_type": "code",
   "execution_count": 6,
   "metadata": {},
   "outputs": [],
   "source": [
    "train_atom_list,train_coupling_list,train_index_list,train_target_list = [],[],[],[]\n",
    "for mol in train_mol:\n",
    "    train_atom_list.append(torch.from_numpy(structures_gb[mol]))\n",
    "    train_coupling_list.append(torch.from_numpy(coupling_edge_attr[mol]))\n",
    "    train_index_list.append(torch.from_numpy(coupling_edge_index[mol]))\n",
    "    train_target_list.append(torch.from_numpy(coupling_y[mol]))\n",
    "    \n",
    "val_atom_list,val_coupling_list,val_index_list,val_target_list = [],[],[],[]\n",
    "for mol in val_mol:\n",
    "    val_atom_list.append(torch.from_numpy(structures_gb[mol]))\n",
    "    val_coupling_list.append(torch.from_numpy(coupling_edge_attr[mol]))\n",
    "    val_index_list.append(torch.from_numpy(coupling_edge_index[mol]))\n",
    "    val_target_list.append(torch.from_numpy(coupling_y[mol]))\n",
    "    \n",
    "test_atom_list,test_coupling_list,test_index_list,test_target_list = [],[],[],[]\n",
    "for mol in test_mol:\n",
    "    test_atom_list.append(torch.from_numpy(structures_gb[mol]))\n",
    "    test_coupling_list.append(torch.from_numpy(coupling_edge_attr[mol]))\n",
    "    test_index_list.append(torch.from_numpy(coupling_edge_index[mol]))\n",
    "    test_target_list.append(torch.from_numpy(coupling_y[mol]))"
   ]
  },
  {
   "cell_type": "code",
   "execution_count": 7,
   "metadata": {},
   "outputs": [],
   "source": [
    "with open('../Data/train_atom_list.pickle', 'wb') as handle:\n",
    "    pickle.dump(train_atom_list, handle, protocol=pickle.HIGHEST_PROTOCOL)\n",
    "with open('../Data/train_coupling_list.pickle', 'wb') as handle:\n",
    "    pickle.dump(train_coupling_list, handle, protocol=pickle.HIGHEST_PROTOCOL)    \n",
    "with open('../Data/train_index_list.pickle', 'wb') as handle:\n",
    "    pickle.dump(train_index_list, handle, protocol=pickle.HIGHEST_PROTOCOL)  \n",
    "with open('../Data/train_target_list.pickle', 'wb') as handle:\n",
    "    pickle.dump(train_target_list, handle, protocol=pickle.HIGHEST_PROTOCOL)      \n",
    "    \n",
    "with open('../Data/val_atom_list.pickle', 'wb') as handle:\n",
    "    pickle.dump(val_atom_list, handle, protocol=pickle.HIGHEST_PROTOCOL)\n",
    "with open('../Data/val_coupling_list.pickle', 'wb') as handle:\n",
    "    pickle.dump(val_coupling_list, handle, protocol=pickle.HIGHEST_PROTOCOL)    \n",
    "with open('../Data/val_index_list.pickle', 'wb') as handle:\n",
    "    pickle.dump(val_index_list, handle, protocol=pickle.HIGHEST_PROTOCOL)  \n",
    "with open('../Data/val_target_list.pickle', 'wb') as handle:\n",
    "    pickle.dump(val_target_list, handle, protocol=pickle.HIGHEST_PROTOCOL)      \n",
    "    \n",
    "with open('../Data/test_atom_list.pickle', 'wb') as handle:\n",
    "    pickle.dump(test_atom_list, handle, protocol=pickle.HIGHEST_PROTOCOL)\n",
    "with open('../Data/test_coupling_list.pickle', 'wb') as handle:\n",
    "    pickle.dump(test_coupling_list, handle, protocol=pickle.HIGHEST_PROTOCOL)    \n",
    "with open('../Data/test_index_list.pickle', 'wb') as handle:\n",
    "    pickle.dump(test_index_list, handle, protocol=pickle.HIGHEST_PROTOCOL)  \n",
    "with open('../Data/test_target_list.pickle', 'wb') as handle:\n",
    "    pickle.dump(test_target_list, handle, protocol=pickle.HIGHEST_PROTOCOL)       "
   ]
  },
  {
   "cell_type": "code",
   "execution_count": null,
   "metadata": {},
   "outputs": [],
   "source": []
  },
  {
   "cell_type": "code",
   "execution_count": null,
   "metadata": {},
   "outputs": [],
   "source": []
  },
  {
   "cell_type": "code",
   "execution_count": null,
   "metadata": {},
   "outputs": [],
   "source": []
  }
 ],
 "metadata": {
  "kernelspec": {
   "display_name": "Python 3",
   "language": "python",
   "name": "python3"
  },
  "language_info": {
   "codemirror_mode": {
    "name": "ipython",
    "version": 3
   },
   "file_extension": ".py",
   "mimetype": "text/x-python",
   "name": "python",
   "nbconvert_exporter": "python",
   "pygments_lexer": "ipython3",
   "version": "3.7.4"
  }
 },
 "nbformat": 4,
 "nbformat_minor": 1
}
